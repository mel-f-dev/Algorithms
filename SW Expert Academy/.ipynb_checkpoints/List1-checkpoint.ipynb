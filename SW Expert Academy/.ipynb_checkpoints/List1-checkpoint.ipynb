{
 "cells": [
  {
   "cell_type": "code",
   "execution_count": 1,
   "metadata": {},
   "outputs": [
    {
     "ename": "SyntaxError",
     "evalue": "invalid syntax (<ipython-input-1-ccae591d5e4e>, line 1)",
     "output_type": "error",
     "traceback": [
      "\u001b[1;36m  File \u001b[1;32m\"<ipython-input-1-ccae591d5e4e>\"\u001b[1;36m, line \u001b[1;32m1\u001b[0m\n\u001b[1;33m    카운팅 정렬\u001b[0m\n\u001b[1;37m         ^\u001b[0m\n\u001b[1;31mSyntaxError\u001b[0m\u001b[1;31m:\u001b[0m invalid syntax\n"
     ]
    }
   ],
   "source": [
    "카운팅 정렬"
   ]
  },
  {
   "cell_type": "code",
   "execution_count": null,
   "metadata": {},
   "outputs": [],
   "source": [
    "count = {0, 4, 1, 3, 1, 2, 4, 1}\n",
    "counts = "
   ]
  },
  {
   "cell_type": "markdown",
   "metadata": {},
   "source": [
    "# min max"
   ]
  },
  {
   "cell_type": "code",
   "execution_count": null,
   "metadata": {},
   "outputs": [],
   "source": [
    "T = int(input())\n",
    "\n",
    "for i in range(T):\n",
    "    N = int(input())\n",
    "    a = list(map(int, input().split()))\n",
    "    Max_min = max(a) - min(a)\n",
    "    print('#%d %d' % (i+1, Max_min)) "
   ]
  },
  {
   "cell_type": "markdown",
   "metadata": {},
   "source": [
    "# 전기버스"
   ]
  },
  {
   "cell_type": "markdown",
   "metadata": {},
   "source": [
    "A도시는 전기버스를 운행하려고 한다. 전기버스는 한번 충전으로 이동할 수 있는 정류장 수가 정해져 있어서, 중간에 충전기가 설치된 정류장을 만들기로 했다.\n",
    "버스는 0번에서 출발해 종점인 N번 정류장까지 이동하고, 한번 충전으로 최대한 이동할 수 있는 정류장 수 K가 정해져 있다.\n",
    "\n",
    "\n",
    "충전기가 설치된 M개의 정류장 번호가 주어질 때, 최소한 몇 번의 충전을 해야 종점에 도착할 수 있는지 출력하는 프로그램을 만드시오.\n",
    "만약 충전기 설치가 잘못되어 종점에 도착할 수 없는 경우는 0을 출력한다. 출발지에는 항상 충전기가 설치되어 있지만 충전횟수에는 포함하지 않는다."
   ]
  },
  {
   "cell_type": "code",
   "execution_count": null,
   "metadata": {},
   "outputs": [],
   "source": [
    "# T: 노선 수, N: 정류장 번호, K: 한 번 충전으로 이동할 수 있는 정류장 수, M: 충전기 설치된 정류장\n",
    "T = int(input())\n",
    "\n",
    "\n",
    "\n",
    "\n",
    "for i in range(T):\n",
    "    K, N, M = map(int, input().split())\n",
    "    M = list(map(int, input().split()))\n",
    "    \n",
    "    start_loc = 0\n",
    "    charge = 0\n",
    "    for i range(N+1):\n",
    "        "
   ]
  },
  {
   "cell_type": "markdown",
   "metadata": {},
   "source": [
    "# 숫자 카드"
   ]
  },
  {
   "cell_type": "markdown",
   "metadata": {},
   "source": [
    "0에서 9까지 숫자가 적힌 N장의 카드가 주어진다.\n",
    "\n",
    "가장 많은 카드에 적힌 숫자와 카드가 몇 장인지 출력하는 프로그램을 만드시오. 카드 장수가 같을 때는 적힌 숫자가 큰 쪽을 출력한다.\n",
    "\n",
    "\n",
    " \n",
    "\n",
    "[입력]\n",
    " \n",
    "\n",
    "첫 줄에 테스트 케이스 개수 T가 주어진다.  ( 1 ≤ T ≤ 50 )\n",
    "\n",
    "다음 줄부터 테스트케이스의 첫 줄에 카드 장수 N이 주어진다. ( 5 ≤ N ≤ 100 )\n",
    "\n",
    "다음 줄에 N개의 숫자 ai가 여백없이 주어진다. (0으로 시작할 수도 있다.)  ( 0 ≤ ai ≤ 9 ) \n",
    "\n",
    " \n",
    "\n",
    "[출력]\n",
    " \n",
    "\n",
    "각 줄마다 \"#T\" (T는 테스트 케이스 번호)를 출력한 뒤, 가장 많은 카드의 숫자와 장 수를 차례로 출력한다.\n",
    "\n"
   ]
  },
  {
   "cell_type": "code",
   "execution_count": 28,
   "metadata": {},
   "outputs": [
    {
     "name": "stdout",
     "output_type": "stream",
     "text": [
      "1\n",
      "5\n",
      "341348013751234897\n",
      "[1, 3, 1, 4, 3, 1, 0, 2, 2, 1]\n"
     ]
    }
   ],
   "source": [
    "T = int(input())\n",
    "\n",
    "for i in range(T):\n",
    "    N = int(input())\n",
    "    a = list(map(int, input()))\n",
    "    \n",
    "    cnt_lst = 10 * [0]\n",
    "    \n",
    "    for j in a:\n",
    "        cnt_lst[j] += 1\n",
    "    print(cnt_lst)\n",
    "    \n",
    "    "
   ]
  },
  {
   "cell_type": "code",
   "execution_count": 32,
   "metadata": {},
   "outputs": [
    {
     "name": "stdout",
     "output_type": "stream",
     "text": [
      "1\n",
      "4\n",
      "1343232\n",
      "[0, 1, 0, 0, 0, 0, 0, 0, 0, 0]\n",
      "[0, 1, 0, 1, 0, 0, 0, 0, 0, 0]\n",
      "[0, 1, 0, 1, 1, 0, 0, 0, 0, 0]\n",
      "[0, 1, 0, 2, 1, 0, 0, 0, 0, 0]\n",
      "[0, 1, 1, 2, 1, 0, 0, 0, 0, 0]\n",
      "[0, 1, 1, 3, 1, 0, 0, 0, 0, 0]\n",
      "[0, 1, 2, 3, 1, 0, 0, 0, 0, 0]\n",
      "1\n",
      "4\n",
      "3\n",
      "3\n"
     ]
    }
   ],
   "source": [
    "length = int(input())\n",
    "for l in range(1, length+1):\n",
    "    size = input()\n",
    "    temp = list(map(int, list(input())))\n",
    "    #각 자리수를 카운팅하기 위해 사용\n",
    "    numcheck = [0]*10\n",
    "    #각 자리수 카운팅하기\n",
    "    for t in temp:  \n",
    "        numcheck[t] += 1\n",
    "        print(numcheck)\n",
    "    #숫자와 횟수를 적기위한 변수\n",
    "    index = maxnum = 0\n",
    "    #반복문을 돌면서 찾는다\n",
    "    for i in range(9, -1, -1):\n",
    "        if numcheck[i] > maxnum :\n",
    "            maxnum = numcheck[i]\n",
    "            index = i\n",
    "            print(maxnum)\n",
    "            print(index)"
   ]
  },
  {
   "cell_type": "code",
   "execution_count": 30,
   "metadata": {},
   "outputs": [
    {
     "data": {
      "text/plain": [
       "[0, 0, 0, 0, 0, 0, 0, 0, 0, 0]"
      ]
     },
     "execution_count": 30,
     "metadata": {},
     "output_type": "execute_result"
    }
   ],
   "source": [
    "[0]*10"
   ]
  },
  {
   "cell_type": "code",
   "execution_count": 17,
   "metadata": {},
   "outputs": [],
   "source": [
    "# A: input array\n",
    "# k: maximum value of A\n",
    "def counting_sort(A, k):\n",
    "    \n",
    "    # B: output array\n",
    "    # init with -1\n",
    "    B = [-1] * len(A)\n",
    "    print(B)\n",
    "    \n",
    "    # C: counting array\n",
    "    # init with zeros\n",
    "    C = [0] * (k + 1)\n",
    "    print(C)\n",
    "    \n",
    "    # count occurences\n",
    "    for a in A:\n",
    "        C[a] += 1\n",
    "        print(C[a])\n",
    "    \n",
    "    # update C\n",
    "    for i in range(k):\n",
    "        C[i+1] += C[i]\n",
    "        print(C)\n",
    "    \n",
    "    # update B\n",
    "    for j in reversed(range(len(A))):\n",
    "    \tB[C[A[j]] - 1] = A[j]\n",
    "    \tC[A[j]] -= 1\n",
    "\n",
    "    return B, B[-1]"
   ]
  },
  {
   "cell_type": "code",
   "execution_count": 20,
   "metadata": {},
   "outputs": [
    {
     "ename": "NameError",
     "evalue": "name 'index' is not defined",
     "output_type": "error",
     "traceback": [
      "\u001b[1;31m---------------------------------------------------------------------------\u001b[0m",
      "\u001b[1;31mNameError\u001b[0m                                 Traceback (most recent call last)",
      "\u001b[1;32m<ipython-input-20-8d07d83884d3>\u001b[0m in \u001b[0;36m<module>\u001b[1;34m\u001b[0m\n\u001b[0;32m      1\u001b[0m \u001b[0mc\u001b[0m \u001b[1;33m=\u001b[0m \u001b[1;33m[\u001b[0m\u001b[1;36m1\u001b[0m\u001b[1;33m,\u001b[0m\u001b[1;36m2\u001b[0m\u001b[1;33m,\u001b[0m\u001b[1;36m3\u001b[0m\u001b[1;33m,\u001b[0m\u001b[1;36m4\u001b[0m\u001b[1;33m,\u001b[0m\u001b[1;36m5\u001b[0m\u001b[1;33m]\u001b[0m\u001b[1;33m\u001b[0m\u001b[1;33m\u001b[0m\u001b[0m\n\u001b[0;32m      2\u001b[0m \u001b[0mc\u001b[0m\u001b[1;33m[\u001b[0m\u001b[1;36m1\u001b[0m\u001b[1;33m]\u001b[0m\u001b[1;33m\u001b[0m\u001b[1;33m\u001b[0m\u001b[0m\n\u001b[1;32m----> 3\u001b[1;33m \u001b[0mc\u001b[0m\u001b[1;33m[\u001b[0m\u001b[0mindex\u001b[0m\u001b[1;33m(\u001b[0m\u001b[1;36m1\u001b[0m\u001b[1;33m)\u001b[0m\u001b[1;33m]\u001b[0m\u001b[1;33m\u001b[0m\u001b[1;33m\u001b[0m\u001b[0m\n\u001b[0m",
      "\u001b[1;31mNameError\u001b[0m: name 'index' is not defined"
     ]
    }
   ],
   "source": [
    "c = [1,2,3,4,5]\n",
    "c[1]\n",
    "c[index(1)]"
   ]
  },
  {
   "cell_type": "code",
   "execution_count": 7,
   "metadata": {},
   "outputs": [
    {
     "name": "stdout",
     "output_type": "stream",
     "text": [
      "range(0, 3)\n",
      "2\n",
      "range(0, 3)\n",
      "1\n",
      "range(0, 3)\n",
      "0\n"
     ]
    }
   ],
   "source": [
    "a = [1, 3, 3]\n",
    "for i in reversed(range(len(a))):\n",
    "    print(range(len(a)))\n",
    "    print(i)"
   ]
  },
  {
   "cell_type": "markdown",
   "metadata": {},
   "source": [
    "# 4835 구간합"
   ]
  },
  {
   "cell_type": "code",
   "execution_count": null,
   "metadata": {},
   "outputs": [],
   "source": []
  }
 ],
 "metadata": {
  "kernelspec": {
   "display_name": "Python 3",
   "language": "python",
   "name": "python3"
  },
  "language_info": {
   "codemirror_mode": {
    "name": "ipython",
    "version": 3
   },
   "file_extension": ".py",
   "mimetype": "text/x-python",
   "name": "python",
   "nbconvert_exporter": "python",
   "pygments_lexer": "ipython3",
   "version": "3.7.5"
  },
  "toc": {
   "base_numbering": 1,
   "nav_menu": {},
   "number_sections": true,
   "sideBar": true,
   "skip_h1_title": false,
   "title_cell": "Table of Contents",
   "title_sidebar": "Contents",
   "toc_cell": false,
   "toc_position": {},
   "toc_section_display": true,
   "toc_window_display": false
  },
  "varInspector": {
   "cols": {
    "lenName": 16,
    "lenType": 16,
    "lenVar": 40
   },
   "kernels_config": {
    "python": {
     "delete_cmd_postfix": "",
     "delete_cmd_prefix": "del ",
     "library": "var_list.py",
     "varRefreshCmd": "print(var_dic_list())"
    },
    "r": {
     "delete_cmd_postfix": ") ",
     "delete_cmd_prefix": "rm(",
     "library": "var_list.r",
     "varRefreshCmd": "cat(var_dic_list()) "
    }
   },
   "types_to_exclude": [
    "module",
    "function",
    "builtin_function_or_method",
    "instance",
    "_Feature"
   ],
   "window_display": false
  }
 },
 "nbformat": 4,
 "nbformat_minor": 2
}
