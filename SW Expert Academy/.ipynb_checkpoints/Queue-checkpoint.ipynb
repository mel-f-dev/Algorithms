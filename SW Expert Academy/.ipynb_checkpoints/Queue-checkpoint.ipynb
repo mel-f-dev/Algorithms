{
 "cells": [
  {
   "cell_type": "markdown",
   "metadata": {},
   "source": [
    "# 큐의 종류"
   ]
  },
  {
   "cell_type": "markdown",
   "metadata": {},
   "source": [
    "##  선형 큐"
   ]
  },
  {
   "cell_type": "markdown",
   "metadata": {},
   "source": [
    "1. 1차원 리스트를 이용한 큐\n",
    " - 큐의 크기 = 리스트의 크기\n",
    " - front: 첫 번째 원소의 인덱스\n",
    " - rear: 저장된 마지막 원소의 인덱스\n",
    "\n",
    "2. 상태 표현\n",
    " - 초기 상태: front = rear = -1\n",
    " - 공백 상태: front = rear\n",
    " - 포화 상태: rear = n-1(리스트의 마지막 인덱스)"
   ]
  },
  {
   "cell_type": "markdown",
   "metadata": {},
   "source": [
    "## 원형 큐"
   ]
  },
  {
   "cell_type": "code",
   "execution_count": 1,
   "metadata": {},
   "outputs": [
    {
     "name": "stdout",
     "output_type": "stream",
     "text": [
      "Queue_Full\n",
      "<function deQueue at 0x000001EB758FCD38>\n",
      "<function deQueue at 0x000001EB758FCD38>\n",
      "<function deQueue at 0x000001EB758FCD38>\n"
     ]
    }
   ],
   "source": [
    "# 원형 큐의 삽입 및 삭제 함수\n",
    "def isEmpty():\n",
    "    return front == rear\n",
    "\n",
    "def isFull():\n",
    "    return (rear+1) % len(cQ) == front\n",
    "\n",
    "def enQueue(item): # 원형 큐의 삽입 연산\n",
    "    global rear\n",
    "    if isFull():\n",
    "        print(\"Queue_Full\")\n",
    "    else:\n",
    "        rear = (rear + 1) % len(cQ)\n",
    "        cQ[rear] = item\n",
    "        \n",
    "def deQueue(): # 원형 큐의 삭제 연산\n",
    "    global front\n",
    "    if isEmpty():\n",
    "        print(\"Queue_Empty\")\n",
    "    else:\n",
    "        front = (front+1) % len(cQ)\n",
    "        return cQ[front]\n",
    "\n",
    "cQ_SIZE = 3\n",
    "cQ = [0]*cQ_SIZE\n",
    "\n",
    "# front, rear를 0으로 초기화\n",
    "front = rear = 0\n",
    "\n",
    "enQueue('A')\n",
    "enQueue('B')\n",
    "enQueue('C')\n",
    "print(deQueue)\n",
    "print(deQueue)\n",
    "print(deQueue)"
   ]
  },
  {
   "cell_type": "code",
   "execution_count": null,
   "metadata": {},
   "outputs": [],
   "source": [
    "front: 리스트의 맨 앞: -1\n",
    "rear: 리스트의 맨 뒤: len(queue) -1"
   ]
  },
  {
   "cell_type": "code",
   "execution_count": 2,
   "metadata": {},
   "outputs": [
    {
     "name": "stdout",
     "output_type": "stream",
     "text": [
      "<function deQueue at 0x000001EB743E5798>\n",
      "<function deQueue at 0x000001EB743E5798>\n",
      "<function deQueue at 0x000001EB743E5798>\n"
     ]
    }
   ],
   "source": [
    "def enQueue(item):\n",
    "    queue.append(item)\n",
    "\n",
    "def deQueue():\n",
    "    if isEmpty():\n",
    "        print(\"Queue_Empty\")\n",
    "    else:\n",
    "        return queue.pop(0)\n",
    "    \n",
    "def isEmpty():\n",
    "    return len(queue) == 0\n",
    "\n",
    "def Qpeek():\n",
    "    if isEmpty():\n",
    "        print(\"Queue_Empty\")\n",
    "    else:\n",
    "        return queue[0]\n",
    "    \n",
    "queue = []\n",
    "\n",
    "enQueue('A')\n",
    "enQueue('B')\n",
    "enQueue('C')\n",
    "print(deQueue)\n",
    "print(deQueue)\n",
    "print(deQueue)"
   ]
  },
  {
   "cell_type": "markdown",
   "metadata": {},
   "source": [
    "## 연결 큐"
   ]
  },
  {
   "cell_type": "code",
   "execution_count": null,
   "metadata": {},
   "outputs": [],
   "source": [
    "단순 연결 리스트를 이용한 큐"
   ]
  },
  {
   "cell_type": "code",
   "execution_count": null,
   "metadata": {},
   "outputs": [],
   "source": []
  },
  {
   "cell_type": "code",
   "execution_count": null,
   "metadata": {},
   "outputs": [],
   "source": []
  },
  {
   "cell_type": "code",
   "execution_count": null,
   "metadata": {},
   "outputs": [],
   "source": []
  },
  {
   "cell_type": "code",
   "execution_count": null,
   "metadata": {},
   "outputs": [],
   "source": []
  },
  {
   "cell_type": "code",
   "execution_count": null,
   "metadata": {},
   "outputs": [],
   "source": []
  },
  {
   "cell_type": "code",
   "execution_count": null,
   "metadata": {},
   "outputs": [],
   "source": []
  },
  {
   "cell_type": "code",
   "execution_count": null,
   "metadata": {},
   "outputs": [],
   "source": []
  },
  {
   "cell_type": "code",
   "execution_count": 17,
   "metadata": {},
   "outputs": [
    {
     "name": "stdout",
     "output_type": "stream",
     "text": [
      "3\n",
      "1\n",
      "2\n",
      "3\n"
     ]
    }
   ],
   "source": [
    "N = int(input())\n",
    "Maze = [input().split() for _ in range(N)]"
   ]
  },
  {
   "cell_type": "code",
   "execution_count": 16,
   "metadata": {},
   "outputs": [
    {
     "name": "stdout",
     "output_type": "stream",
     "text": [
      "[[1, 2, 3], [1, 2, 3], [1, 2, 3]]\n"
     ]
    }
   ],
   "source": [
    "print(Maze)"
   ]
  },
  {
   "cell_type": "markdown",
   "metadata": {},
   "source": [
    "# 회전"
   ]
  },
  {
   "cell_type": "code",
   "execution_count": 20,
   "metadata": {},
   "outputs": [
    {
     "name": "stdout",
     "output_type": "stream",
     "text": [
      "3\n",
      "3 10\n",
      "5527 731 31274\n",
      "#1 731\n",
      "5 12\n",
      "18140 14618 18641 22536 23097\n",
      "#2 18641\n",
      "10 23\n",
      "17236 31594 29094 2412 4316 5044 28515 24737 11578 7907\t\n",
      "#3 2412\n"
     ]
    }
   ],
   "source": [
    "# 수열 맨 앞에 있는 숫자 출력\n",
    "def front_rear(x):\n",
    "    front = x.pop(0)\n",
    "    x.append(front)\n",
    "\n",
    "\n",
    "T = int(input())\n",
    "\n",
    "for test_case in range(1, T+1):\n",
    "    N, M = map(int, input().split())\n",
    "    num_list = list(map(int,input().split()))\n",
    "    for _ in range(M):\n",
    "        front_rear(num_list)\n",
    "\n",
    "    print(\"#{} {}\".format(test_case,num_list[0]))"
   ]
  },
  {
   "cell_type": "markdown",
   "metadata": {},
   "source": [
    "# 미로의 거리"
   ]
  },
  {
   "cell_type": "markdown",
   "metadata": {},
   "source": [
    "# 피자 굽기"
   ]
  },
  {
   "cell_type": "code",
   "execution_count": null,
   "metadata": {},
   "outputs": [],
   "source": [
    "# 마지막 남은 피자 번호\n",
    "\n",
    "T = int(input())\n",
    "\n",
    "for test_case in range(1, T+1):\n",
    "    N, M = map(int, input().split())\n",
    "    C = int(input())\n",
    "    \n",
    "    \n",
    "#     한 칸씩 옮길 때마다 (1/2) * (1/N) 만큼 치즈 녹음 "
   ]
  },
  {
   "cell_type": "code",
   "execution_count": null,
   "metadata": {},
   "outputs": [],
   "source": []
  },
  {
   "cell_type": "code",
   "execution_count": null,
   "metadata": {},
   "outputs": [],
   "source": []
  },
  {
   "cell_type": "code",
   "execution_count": null,
   "metadata": {},
   "outputs": [],
   "source": []
  },
  {
   "cell_type": "code",
   "execution_count": null,
   "metadata": {},
   "outputs": [],
   "source": []
  },
  {
   "cell_type": "code",
   "execution_count": null,
   "metadata": {},
   "outputs": [],
   "source": []
  },
  {
   "cell_type": "markdown",
   "metadata": {},
   "source": [
    "# 노드의 거리"
   ]
  },
  {
   "cell_type": "code",
   "execution_count": null,
   "metadata": {},
   "outputs": [],
   "source": [
    "# 최소 몇 개의 간선 지나야 되는지\n",
    "# 간선으로 연결되지 않은 경우도 있다.\n",
    "\n",
    "T = int(input())\n",
    "for test_case in range(1, T+1):\n",
    "    V, E = map(int, input().split())\n",
    "    trunk = [map(int, input().split()) for _ in range(E)]\n",
    "    S, G = map(int, input().split())"
   ]
  }
 ],
 "metadata": {
  "kernelspec": {
   "display_name": "Python 3",
   "language": "python",
   "name": "python3"
  },
  "language_info": {
   "codemirror_mode": {
    "name": "ipython",
    "version": 3
   },
   "file_extension": ".py",
   "mimetype": "text/x-python",
   "name": "python",
   "nbconvert_exporter": "python",
   "pygments_lexer": "ipython3",
   "version": "3.7.7"
  },
  "toc": {
   "base_numbering": 1,
   "nav_menu": {},
   "number_sections": true,
   "sideBar": true,
   "skip_h1_title": false,
   "title_cell": "Table of Contents",
   "title_sidebar": "Contents",
   "toc_cell": false,
   "toc_position": {},
   "toc_section_display": true,
   "toc_window_display": false
  },
  "varInspector": {
   "cols": {
    "lenName": 16,
    "lenType": 16,
    "lenVar": 40
   },
   "kernels_config": {
    "python": {
     "delete_cmd_postfix": "",
     "delete_cmd_prefix": "del ",
     "library": "var_list.py",
     "varRefreshCmd": "print(var_dic_list())"
    },
    "r": {
     "delete_cmd_postfix": ") ",
     "delete_cmd_prefix": "rm(",
     "library": "var_list.r",
     "varRefreshCmd": "cat(var_dic_list()) "
    }
   },
   "types_to_exclude": [
    "module",
    "function",
    "builtin_function_or_method",
    "instance",
    "_Feature"
   ],
   "window_display": false
  }
 },
 "nbformat": 4,
 "nbformat_minor": 4
}
