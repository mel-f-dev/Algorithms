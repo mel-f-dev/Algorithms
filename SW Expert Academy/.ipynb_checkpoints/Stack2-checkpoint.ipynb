{
 "cells": [
  {
   "cell_type": "markdown",
   "metadata": {},
   "source": [
    "# 백트래킹(Backtracking)"
   ]
  },
  {
   "cell_type": "markdown",
   "metadata": {},
   "source": [
    "해를 찾는 도중에 막히면(해가 아니면) 되돌아가서 다시 해를 찾아가는 기법\n",
    "- 최적화 문제\n",
    "- 결정 문제: 문제의 조건을 만족하는 해가 존재하는지의 여부를 yes 또는 no로 답하는 문제\n",
    "- => ex) 미로찾기, n-Queen문제, Map coloring, 부분 집합의 합 문제 등"
   ]
  },
  {
   "cell_type": "markdown",
   "metadata": {},
   "source": [
    "미로찾기\n",
    "```\n",
    "입구와 출구가 주어진 미로에서 입구부터 출구까지의 경로를 찾는 문제\n",
    "이동할 수 있는 방향은 4방향\n",
    "```"
   ]
  },
  {
   "cell_type": "markdown",
   "metadata": {},
   "source": [
    "- 어떤 노드의 유망성을 점검한 후 유망하지 않다고 결정되면 그 노드의 부모로 되돌아가 다음 자식 노드로 돌아감\n",
    "- 어떤 노드를 방문하였을 때 그 노드를 포함한 경로가 해답이 될 수 없으면 그 노드는 유망하지 않다\n",
    "- 유망하다: 해답의 가능성이 있을 때\n",
    "- 가지치기(Pruning): 유망하지 않은 노드가 ㅍ ㅗ함되는 경로는 더 이상 고려하지 않음"
   ]
  },
  {
   "cell_type": "markdown",
   "metadata": {},
   "source": [
    "절차\n",
    "1. 상태 공간 Tree의 깊이 우선 검색 실시\n",
    "2. 각 노드가 유망한지 점검\n",
    "3. 노드가 유망하지 않으면 그 노드의 부모 노드로 돌아가서 검색 계속"
   ]
  },
  {
   "cell_type": "code",
   "execution_count": null,
   "metadata": {},
   "outputs": [],
   "source": [
    "# ex) n-Queen 문제\n",
    "\n",
    "def checknode(v): #node\n",
    "    if promising(v):\n",
    "        if there is a solution at v:\n",
    "            write the solution\n",
    "        else:\n",
    "            for u in each child of v:\n",
    "                checknode(u)"
   ]
  },
  {
   "cell_type": "code",
   "execution_count": null,
   "metadata": {},
   "outputs": [],
   "source": [
    "# ex) power set: 어떤 집합의 모든 부분집합\n",
    "# 부분집합을 만들 때, True 또는 False값을 가지는 항목들로 구성된 n개의 리스트를 만드는 방법 이용\n",
    "# 리스트의 i번째 항목은 i번째 원소가 부분집합의 값인지 아닌지를 나타내는 값\n",
    "\n",
    "def backtrack(a, k, input):\n",
    "    global MAXCANDIDATES\n",
    "    c = [0] * MAXCANDIDATES\n",
    "    \n",
    "    if k == input:\n",
    "        process_solution(a, k) # 답이면 원하는 작업을 한다.\n",
    "    else:\n",
    "        k+=1\n",
    "        ncandidates = construct_candidates(a, k, input, c)\n",
    "        for i in range(ncandidates):\n",
    "            a[k] = c[i]\n",
    "            backtrack(a, k, input) # 재귀호출\n",
    "      \n",
    " # 후보군 생성 함수\n",
    "def construct_candidates(a, k, input, c):\n",
    "    c[0] = True\n",
    "    c[1] = False\n",
    "    return 2\n",
    "\n",
    "def process_solution(a,k):\n",
    "    print(\"(\", end =\"\")\n",
    "    for i in range(k+1):\n",
    "        if a[i]:\n",
    "            print(i, end=\" \")\n",
    "    print(\")\")\n",
    "\n",
    "MAXCANDIDATES = 100\n",
    "NMAX = 100\n",
    "a = [0]*NMAX\n",
    "backtrack(a, 0, 3)"
   ]
  },
  {
   "cell_type": "markdown",
   "metadata": {},
   "source": [
    "# 분할정복"
   ]
  },
  {
   "cell_type": "markdown",
   "metadata": {},
   "source": [
    "- 분할: 해결할 문제를 여러 개의 작은 부분으로 나눔\n",
    "- 정복: 나눈 작은 문제를 각각 해결\n",
    "- 통합: 필요하다면 해결된 해답을 모음"
   ]
  },
  {
   "cell_type": "code",
   "execution_count": 63,
   "metadata": {},
   "outputs": [],
   "source": [
    "# 거듭제곱 알고리즘: O(n)\n",
    "def Power(Base, Exponent):\n",
    "    if Base == 0:\n",
    "        return 1\n",
    "    result = 1\n",
    "    for i in range(Exponent):\n",
    "        result *= Base\n",
    "    return result"
   ]
  },
  {
   "cell_type": "code",
   "execution_count": 64,
   "metadata": {},
   "outputs": [
    {
     "data": {
      "text/plain": [
       "27"
      ]
     },
     "execution_count": 64,
     "metadata": {},
     "output_type": "execute_result"
    }
   ],
   "source": [
    "Power(3, 3)"
   ]
  },
  {
   "cell_type": "code",
   "execution_count": null,
   "metadata": {},
   "outputs": [],
   "source": [
    "# 거듭제곱 알고리즘2: O(log2n)\n",
    "def Power(Base, Exponent):\n",
    "    if Exponent == 0 or Base == 0:\n",
    "        return 1\n",
    "    if Exponent % 2 == 0:\n",
    "        NewBase = Power(Base, Exponent/2)\n",
    "        return NewBase*NewBase\n",
    "    else:\n",
    "        NewBase = Power(Base, (Exponent-1)/2)\n",
    "        return(NewBase*NewBase)*Base"
   ]
  },
  {
   "cell_type": "markdown",
   "metadata": {},
   "source": [
    "## 퀵 정렬"
   ]
  },
  {
   "cell_type": "markdown",
   "metadata": {},
   "source": [
    "- 주어진 리스트를 두 개로 분할하고 각각을 정렬\n",
    "- 분할할 때, 기준 아이템(Pivot Item)을 중심으로 이보다 작은 것은 왼편, 큰 것은 오른편에 위치시킴\n",
    "- 각 부분 정렬이 끝난 후, 후처리 작업 필요 없음"
   ]
  },
  {
   "cell_type": "code",
   "execution_count": null,
   "metadata": {},
   "outputs": [],
   "source": [
    "def quickSort(a, begin, end):\n",
    "    if begin < end:\n",
    "        p = partition(a, begin, end)\n",
    "        quickSort(a, begin, p-1)\n",
    "        quickSort(a, p+1, end)"
   ]
  },
  {
   "cell_type": "code",
   "execution_count": null,
   "metadata": {},
   "outputs": [],
   "source": [
    "# 주어진 리스트에서 피봇을 구하는 알고리즘\n",
    "def partition(a, begin, end):\n",
    "    pivot = (begin + end) // 2\n",
    "    L = begin\n",
    "    R = end\n",
    "    while L<R:\n",
    "        while(a[L]<a[pibot] and L<R):\n",
    "            L += 1\n",
    "        while(a[R]>=a[pivot] and L<R):\n",
    "            R -= 1\n",
    "        if L < R:\n",
    "            if L == pivot:\n",
    "                pivot = R\n",
    "            a[L], a[R] = a[R], a[L]\n",
    "    a[pivot], a[R] = a[R], a[pivot]\n",
    "    return R"
   ]
  },
  {
   "cell_type": "code",
   "execution_count": null,
   "metadata": {},
   "outputs": [],
   "source": [
    "{68, 11, 29, 3, 15, 9, 32, 23}"
   ]
  },
  {
   "cell_type": "code",
   "execution_count": null,
   "metadata": {},
   "outputs": [],
   "source": []
  },
  {
   "cell_type": "code",
   "execution_count": null,
   "metadata": {},
   "outputs": [],
   "source": []
  },
  {
   "cell_type": "code",
   "execution_count": null,
   "metadata": {},
   "outputs": [],
   "source": []
  },
  {
   "cell_type": "markdown",
   "metadata": {},
   "source": [
    "#  계산기"
   ]
  },
  {
   "cell_type": "markdown",
   "metadata": {},
   "source": [
    "## 중위표기식을 후위표기식으로"
   ]
  },
  {
   "cell_type": "code",
   "execution_count": null,
   "metadata": {},
   "outputs": [],
   "source": [
    "# 중위표기법으로 표현된 수식\n",
    "(6 + 5 * (2 - 8)/2)\n",
    "\n",
    "# 후위표기법으로 출력될 수식\n",
    "6528-*2/+"
   ]
  },
  {
   "cell_type": "markdown",
   "metadata": {},
   "source": [
    "\n",
    "```\n",
    "중위표기식에서 토큰부터 읽어온다.\n",
    "토큰: 수식에서 의미 있는 최소의 단위\n",
    "\n",
    "피연산자는 후위표기법 수식에 출력되고,\n",
    "\n",
    "연산자는 필히 스택을 거쳐간다고 생각하면 된다.\n",
    "연산자를 스택에 푸쉬할 때, 스택에서 자리를 잡아 스택에 푸쉬해야 한다.\n",
    "자기보다 우선순위가 낮은 것 위에 올라갈 수 있다.\n",
    "따라서 자기보다 우선순위가 낮은 또는 스택이 비어있을 때 까지 스택에서 pop하여 출력.\n",
    "```\n",
    "\n",
    "1. 토큰 하나 가져오기: \"(\"\n",
    "2. 스택연산 push(): 토큰이 연산자면 스택 top과 비교\n",
    "- 높으면 스택에 push\n",
    "- 여는 괄호 push\n",
    "3. top변경: 스택에 쌓여있는 마지막 값을 가리킴\n",
    "4. 다음 토큰은 피연산자이므로 스택에 삽입하지 않고 피연산자 그대로 출력\n",
    "\n",
    "**여는 괄호 우선순위**\n",
    "- ISP(스택 내부): 제일 낮다. 어느 연산자든 위에 쌓을 수 있다.\n",
    "- ICP(스택 외부): 제일 높다. 무조건 스택에 푸쉬 가능\n",
    "\n",
    "닫는 괄호는 여는 괄호를 만날 때 까지 모두 pop()하여 출력하는 성질.\n",
    "-> 짝이 되는 여는 괄호는 버린다."
   ]
  },
  {
   "cell_type": "code",
   "execution_count": 2,
   "metadata": {},
   "outputs": [
    {
     "data": {
      "text/plain": [
       "-9.0"
      ]
     },
     "execution_count": 2,
     "metadata": {},
     "output_type": "execute_result"
    }
   ],
   "source": [
    "eval(\"6+5*(2-8)/2\")"
   ]
  },
  {
   "cell_type": "code",
   "execution_count": 4,
   "metadata": {},
   "outputs": [
    {
     "data": {
      "text/plain": [
       "-9.0"
      ]
     },
     "execution_count": 4,
     "metadata": {},
     "output_type": "execute_result"
    }
   ],
   "source": [
    "6+5*(2-8)/2"
   ]
  },
  {
   "cell_type": "markdown",
   "metadata": {},
   "source": [
    "# 4874 Forth "
   ]
  },
  {
   "cell_type": "markdown",
   "metadata": {},
   "source": [
    "###### 후위표기법의 수식을 스택을 이용하여 계산\n",
    "1. 피연산자를 만나면 스택에 push\n",
    "2. 연산자를 만나면 필요한 만큼의 피연산자를 스택에서 pop하여 연산, 연산 결과를 다시 스택에 push\n",
    "3. 수식이 끝나면 마지막으로 스택을 pop하여 출력\n",
    "\n",
    "**후위표기식 계산 시, 피연산자를 스택에 쌓아 계산**"
   ]
  },
  {
   "cell_type": "code",
   "execution_count": null,
   "metadata": {},
   "outputs": [],
   "source": [
    "출력\n",
    "#1 84\n",
    "#2 error\n",
    "#3 168\t"
   ]
  },
  {
   "cell_type": "code",
   "execution_count": 20,
   "metadata": {
    "scrolled": true
   },
   "outputs": [
    {
     "name": "stdout",
     "output_type": "stream",
     "text": [
      "3\n",
      "10 2 + 3 4 + * .\n",
      "#1 84\n",
      "5 3 * + .\n",
      "#2 error\n",
      "1 5 8 10 3 4 + + 3 + * 2 + + + .\n",
      "#3 168\n"
     ]
    }
   ],
   "source": [
    "# 사칙연산 함수 만들어서 풀이!\n",
    "T = int(input())\n",
    "\n",
    "for test_case in range(1, T+1):  \n",
    "    forth_cal = input().split()\n",
    "    \n",
    "    stack = []\n",
    "    for i in forth_cal:\n",
    "        # 인덱스 에러 발생 상황 제외시키기\n",
    "        try:\n",
    "            # 숫자는 stack에 푸쉬\n",
    "            if i != '+' and i != '-' and i != '*' and i != '/' and i != '.':\n",
    "                stack.append(i)\n",
    "            \n",
    "            # 사칙연산 부호 반환시 \n",
    "            elif i == '+' or i == '-' or i == '*' or i == '/':\n",
    "                # stack에 푸쉬해뒀던 숫자 순서에 맞게 pop하여 식 만들기\n",
    "                new = stack.pop(-2) + i + stack.pop(-1)\n",
    "                # str 타입의 공식 eval()함수로 계산\n",
    "                cal = eval(new)\n",
    "                # int -> str로 변환하여 다시 푸쉬\n",
    "                stack.append(str(cal))\n",
    "            # '.' 만난 경우 반복문 stop\n",
    "            else:\n",
    "                break\n",
    "                \n",
    "        # 인덱스 에러 발생시\n",
    "        except:\n",
    "            # stack == 1일 때만 결과값을 반환하도록 -> 반례 있을 듯... 고치기\n",
    "                stack.append(i)\n",
    "\n",
    "    \n",
    "    if len(stack) > 1:\n",
    "        print('#{} {}'.format(test_case, 'error'))\n",
    "    else:\n",
    "        print('#{} {}'.format(test_case, stack[0]))"
   ]
  },
  {
   "cell_type": "code",
   "execution_count": 13,
   "metadata": {
    "scrolled": true
   },
   "outputs": [
    {
     "name": "stdout",
     "output_type": "stream",
     "text": [
      "3\n",
      "10 2 + 3 4 + * .\n",
      "#1 84\n",
      "5 3 * + .\n",
      "#2 error\n",
      "1 5 8 10 3 4 + + 3 + * 2 + + + .\n",
      "#3 168\n"
     ]
    }
   ],
   "source": [
    "T = int(input())\n",
    "\n",
    "for test_case in range(1, T+1):  \n",
    "    forth_cal = input().split()\n",
    "    \n",
    "    stack = []\n",
    "    flag = 0\n",
    "    for i in forth_cal:\n",
    "        # 숫자는 stack에 푸쉬\n",
    "        if i != '+' and i != '-' and i != '*' and i != '/' and i != '.':\n",
    "            stack.append(i)\n",
    "            \n",
    "        elif i == '.':\n",
    "            break\n",
    "\n",
    "        else:\n",
    "            try:\n",
    "                num2, num1 = int(stack.pop()), int(stack.pop())\n",
    "                \n",
    "                if i == '+':\n",
    "                    new = num1 + num2\n",
    "\n",
    "                elif i == '-':\n",
    "                    new = num1 - num2\n",
    "                    \n",
    "                elif i == '*':\n",
    "                    new = num1 * num2\n",
    "\n",
    "                elif i == '/':\n",
    "                    new = int(num1 / num2)     # float 형태여서 ㄱㅖ속 오류 -> int로 형변환\n",
    "                \n",
    "                stack.append(new)\n",
    "                \n",
    "            except:\n",
    "                flag = 9999\n",
    "                \n",
    "    \n",
    "    if flag == 0 and len(stack) == 1:\n",
    "#         print(stack)\n",
    "        print('#{} {}'.format(test_case, stack[0]))\n",
    "    elif flag == 9999 or len(stack) !=1 :\n",
    "#         print(stack)\n",
    "        print('#{} {}'.format(test_case, 'error'))\n",
    "        \n"
   ]
  },
  {
   "cell_type": "code",
   "execution_count": 12,
   "metadata": {},
   "outputs": [
    {
     "name": "stdout",
     "output_type": "stream",
     "text": [
      "2\n",
      "4 2 / .\n",
      "#1 2\n",
      "4 3 - /\n",
      "#2 1\n"
     ]
    }
   ],
   "source": [
    "# 다른 풀이\n",
    "# 문자열 전체에 대해 반복문을 돌려 숫자일 경우 stack에 넣고,\n",
    "# 연산자일 경우 stack안에 들어있는 끝의 두 숫자를 꺼내 연산한 뒤 연산 결과를 stack에 넣는다\n",
    "T = int(input())\n",
    "for test_case in range(1, T + 1):\n",
    "    strings=[x for x in input().split()]\n",
    "    stack=[]\n",
    "    for i in range(len(strings)-1):\n",
    "        if strings[i].isdigit():  #해당 문자가 숫자인지 확인\n",
    "            stack.append(int(strings[i]))  #숫자일 경우 stack에 저장\n",
    "        else:\n",
    "            try:   \n",
    "                n2, n1= stack.pop(), stack.pop() #stack에 저장되어 있는 두 숫자를 꺼내서 연산 실행\n",
    "                if strings[i] == '+' : val=n1 + n2\n",
    "                elif strings[i] == '-' : val=n1 - n2\n",
    "                elif strings[i] == '*' : val=n1 * n2\n",
    "                elif strings[i] == '/' : val=n1 // n2\n",
    "                stack.append(val) #연산한 값을 stack에 저장\n",
    "            except:\n",
    "                val='error'  #에러 날 경우 \n",
    "    if val =='error':\n",
    "        print('#{} {}'.format(test_case, val))\n",
    "    else: print('#{} {}'.format(test_case, stack[0]))"
   ]
  },
  {
   "cell_type": "markdown",
   "metadata": {},
   "source": [
    "# 4875 미로"
   ]
  },
  {
   "cell_type": "markdown",
   "metadata": {},
   "source": [
    "\n",
    "** 이동을 스택에 푸쉬하여 저장, 이동이 불가능할 때 까지 계속해서 진행 **\n",
    "**더 이상 진행할 수 없을 때 pop하면서 되돌아감**\n"
   ]
  },
  {
   "cell_type": "markdown",
   "metadata": {},
   "source": [
    "- NxN 크기의 미로에서 출발지에서 목적지에 도착하는 경로가 존재하는지 확인\n",
    "- 도착 가능 1, 아니면 0"
   ]
  },
  {
   "cell_type": "markdown",
   "metadata": {},
   "source": [
    "0: 통로\n",
    "1: 벽\n",
    "2: 출발\n",
    "3: 도착"
   ]
  },
  {
   "cell_type": "code",
   "execution_count": 40,
   "metadata": {
    "scrolled": true
   },
   "outputs": [
    {
     "name": "stdout",
     "output_type": "stream",
     "text": [
      "1\n",
      "5\n",
      "00013\n",
      "01110\n",
      "21000\n",
      "01111\n",
      "00000\n",
      "#1 0\n"
     ]
    }
   ],
   "source": [
    "# 움직일 수 있는 거리\n",
    "move_lst = [(1,0), (0,1), (-1, 0), (0, -1)]\n",
    "\n",
    "# 미로 영역 밖을 벗어나는가 아닌가\n",
    "def inMaze(x, y):\n",
    "    if x < 0 or y < 0 or x >= N or x >= N:\n",
    "        return False\n",
    "    return True\n",
    "\n",
    "\n",
    "T = int(input())\n",
    "\n",
    "for test_case in range(1, T+1):\n",
    "    N = int(input())\n",
    "    maze = []\n",
    "    for _ in range(N):\n",
    "        x = list(map(int,input()))\n",
    "        maze.append(x)\n",
    "\n",
    "    x, y = 0, 0\n",
    "    result = 0\n",
    "    # 2(시작) 위치\n",
    "    for i in range(N):\n",
    "        if 2 in maze:\n",
    "            x = maze[i].index(2)\n",
    "            y = i\n",
    "            break\n",
    "        \n",
    "    # 스택에 시작 위치 포함, visited(지나간 위치의 값은 0에서 1로 변경)\n",
    "    stack = [(x, y)]\n",
    "    visited = [[0]* N for _ in range(N)]\n",
    "    \n",
    "    # len(stack)==0 까지 반복\n",
    "    while stack:\n",
    "        # stack 원소 pop => visited 변경\n",
    "        x, y = stack.pop()\n",
    "        visited[x][y]\n",
    "        \n",
    "        # 네 방향 검사 -> 길인가 아닌가\n",
    "        for _x, _y in move_lst:\n",
    "            dx = x + _x\n",
    "            dy = y + _y\n",
    "            \n",
    "            # 미로 영역 벗어나면 다음 길\n",
    "            if not inMaze(dx, dy):\n",
    "                continue\n",
    "            \n",
    "            # 가는 곳이 도착지면 result 1 반환 후 종료\n",
    "            if maze[x][y] == 3:\n",
    "                result = 1\n",
    "                break\n",
    "            \n",
    "            # 길(0)이면 스택에 push\n",
    "            elif not visited[dx][dy]:\n",
    "                stack.append((dx, dy))\n",
    "                visited[dx][dy] = 1\n",
    "                \n",
    "            # break 없이 끝났으면 다음 Maze로 진행\n",
    "            else:\n",
    "                continue\n",
    "        # break로 끝났으면 반복 중단\n",
    "        break\n",
    "    \n",
    "    print('#{} {}'.format(test_case, result))\n",
    "        "
   ]
  },
  {
   "cell_type": "code",
   "execution_count": 29,
   "metadata": {},
   "outputs": [],
   "source": [
    "def iswall(y, x):\n",
    "    if y < 0 or x < 0 or y >= N or x >= N:\n",
    "        return True\n",
    "    return False"
   ]
  },
  {
   "cell_type": "code",
   "execution_count": 31,
   "metadata": {},
   "outputs": [
    {
     "data": {
      "text/plain": [
       "False"
      ]
     },
     "execution_count": 31,
     "metadata": {},
     "output_type": "execute_result"
    }
   ],
   "source": [
    "T = int(input())\n",
    "for t in range(1, T+1):\n",
    "    N = int(input())\n",
    "    map_list = [list(map(int, list(input()))) for _ in range(N)]\n",
    "    y, x = 0, 0\n",
    "    result = 0\n",
    "    #2가 있는 위치찾기\n",
    "    for i in range(N):\n",
    "        if 2 in map_list[i]:\n",
    "            x = map_list[i].index(2)\n",
    "            y = i\n",
    "            break\n",
    "    #스택에 시작위치 넣어주기\n",
    "    stack = [(y, x)]\n",
    "    #스택이 빌때까지 반복한다.\n",
    "    while stack:\n",
    "        temp_list = []\n",
    "        #스택에 있는값을 꺼내서\n",
    "        y, x = stack.pop()\n",
    "        #현재위치는 갔다고 변경\n",
    "        map_list[y][x] = 1\n",
    "        #이동할 4방향을 검사한다.\n",
    "        for _y, _x in move_list:\n",
    "            dy = y + _y\n",
    "            dx = x + _x\n",
    "            #가는길이 바운더리 벗어나면 다음길로\n",
    "            if iswall(dy, dx):\n",
    "                continue\n",
    "                \n",
    "            #가는곳이 3이면 도착지점\n",
    "            if map_list[dy][dx] == 3:\n",
    "                #결과변경후 반복문 종료\n",
    "                result = 1\n",
    "                break\n",
    "            #0이라면 갈수있는 장소를 스택에 추가\n",
    "            elif not map_list[dy][dx]:\n",
    "                stack.append((dy, dx))\n",
    "            else:\n",
    "            #브레이크 없이 끝났다면 다음것으로 진행\n",
    "            continue\n",
    "        #브레이크 문으로 여기까지 왔다면 반복 멈추기\n",
    "        break\n",
    "    #결과출력\n",
    "    print('#{} {}'.format(t, result))"
   ]
  },
  {
   "cell_type": "code",
   "execution_count": 34,
   "metadata": {},
   "outputs": [
    {
     "ename": "TypeError",
     "evalue": "cannot unpack non-iterable int object",
     "output_type": "error",
     "traceback": [
      "\u001b[1;31m---------------------------------------------------------------------------\u001b[0m",
      "\u001b[1;31mTypeError\u001b[0m                                 Traceback (most recent call last)",
      "\u001b[1;32m<ipython-input-34-1bb9afe0b3b6>\u001b[0m in \u001b[0;36m<module>\u001b[1;34m\u001b[0m\n\u001b[1;32m----> 1\u001b[1;33m \u001b[0mx\u001b[0m\u001b[1;33m,\u001b[0m \u001b[0my\u001b[0m \u001b[1;33m=\u001b[0m \u001b[1;36m0\u001b[0m\u001b[1;33m\u001b[0m\u001b[1;33m\u001b[0m\u001b[0m\n\u001b[0m\u001b[0;32m      2\u001b[0m \u001b[0mx\u001b[0m\u001b[1;33m\u001b[0m\u001b[1;33m\u001b[0m\u001b[0m\n",
      "\u001b[1;31mTypeError\u001b[0m: cannot unpack non-iterable int object"
     ]
    }
   ],
   "source": [
    "x, y = 0\n",
    "x"
   ]
  },
  {
   "cell_type": "code",
   "execution_count": null,
   "metadata": {},
   "outputs": [],
   "source": []
  },
  {
   "cell_type": "code",
   "execution_count": null,
   "metadata": {},
   "outputs": [],
   "source": []
  },
  {
   "cell_type": "code",
   "execution_count": null,
   "metadata": {},
   "outputs": [],
   "source": []
  },
  {
   "cell_type": "code",
   "execution_count": null,
   "metadata": {},
   "outputs": [],
   "source": []
  },
  {
   "cell_type": "code",
   "execution_count": null,
   "metadata": {},
   "outputs": [],
   "source": []
  },
  {
   "cell_type": "code",
   "execution_count": null,
   "metadata": {},
   "outputs": [],
   "source": []
  },
  {
   "cell_type": "markdown",
   "metadata": {},
   "source": [
    "# 4880 토너먼트 카드게임"
   ]
  },
  {
   "cell_type": "markdown",
   "metadata": {},
   "source": [
    "- 1: 가위\n",
    "- 2: 바위\n",
    "- 3: 보\n",
    "- 같은 카드인 경우 편의상 번호가 작은 쪽을 승자로\n",
    "=> 1등 번호 출력"
   ]
  },
  {
   "cell_type": "code",
   "execution_count": null,
   "metadata": {},
   "outputs": [],
   "source": [
    "T = int(input())\n",
    "\n",
    "for test_case in range(1, T+1):\n",
    "    N = int(input())\n",
    "    card_num = input().split()\n",
    "    \n",
    "    "
   ]
  },
  {
   "cell_type": "markdown",
   "metadata": {},
   "source": [
    "# 4881 배열 최소 합 "
   ]
  },
  {
   "cell_type": "code",
   "execution_count": 64,
   "metadata": {},
   "outputs": [
    {
     "name": "stdout",
     "output_type": "stream",
     "text": [
      "3\n",
      "3\n",
      "2 1 2\n",
      "5 8 5\n",
      "7 2 2\n",
      "[1, 5, 2]\n",
      "#1 8\n",
      "3\n",
      "9 4 7\n",
      "8 6 5\n",
      "5 3 7\n",
      "[4, 5, 3]\n",
      "#2 12\n",
      "\n"
     ]
    },
    {
     "ename": "ValueError",
     "evalue": "invalid literal for int() with base 10: ''",
     "output_type": "error",
     "traceback": [
      "\u001b[1;31m---------------------------------------------------------------------------\u001b[0m",
      "\u001b[1;31mValueError\u001b[0m                                Traceback (most recent call last)",
      "\u001b[1;32m<ipython-input-64-0321ac3df37f>\u001b[0m in \u001b[0;36m<module>\u001b[1;34m\u001b[0m\n\u001b[0;32m      2\u001b[0m \u001b[1;33m\u001b[0m\u001b[0m\n\u001b[0;32m      3\u001b[0m \u001b[1;32mfor\u001b[0m \u001b[0mtest_case\u001b[0m \u001b[1;32min\u001b[0m \u001b[0mrange\u001b[0m\u001b[1;33m(\u001b[0m\u001b[1;36m1\u001b[0m\u001b[1;33m,\u001b[0m \u001b[0mT\u001b[0m\u001b[1;33m+\u001b[0m\u001b[1;36m1\u001b[0m\u001b[1;33m)\u001b[0m\u001b[1;33m:\u001b[0m\u001b[1;33m\u001b[0m\u001b[1;33m\u001b[0m\u001b[0m\n\u001b[1;32m----> 4\u001b[1;33m     \u001b[0mN\u001b[0m \u001b[1;33m=\u001b[0m \u001b[0mint\u001b[0m\u001b[1;33m(\u001b[0m\u001b[0minput\u001b[0m\u001b[1;33m(\u001b[0m\u001b[1;33m)\u001b[0m\u001b[1;33m)\u001b[0m\u001b[1;33m\u001b[0m\u001b[1;33m\u001b[0m\u001b[0m\n\u001b[0m\u001b[0;32m      5\u001b[0m     \u001b[0mmin_arr\u001b[0m \u001b[1;33m=\u001b[0m \u001b[1;33m[\u001b[0m\u001b[1;33m]\u001b[0m\u001b[1;33m\u001b[0m\u001b[1;33m\u001b[0m\u001b[0m\n\u001b[0;32m      6\u001b[0m     \u001b[1;32mfor\u001b[0m \u001b[0mi\u001b[0m \u001b[1;32min\u001b[0m \u001b[0mrange\u001b[0m\u001b[1;33m(\u001b[0m\u001b[0mN\u001b[0m\u001b[1;33m)\u001b[0m\u001b[1;33m:\u001b[0m\u001b[1;33m\u001b[0m\u001b[1;33m\u001b[0m\u001b[0m\n",
      "\u001b[1;31mValueError\u001b[0m: invalid literal for int() with base 10: ''"
     ]
    }
   ],
   "source": [
    "# 단, 세로로 같은 줄에서 두 개 이상의 숫자를 고를 수 없다.\n",
    "\n",
    "T = int(input())\n",
    "\n",
    "for test_case in range(1, T+1):\n",
    "    N = int(input())\n",
    "    \n",
    "    min_arr = []\n",
    "    visited = [[0]*N for _ in range(N)]\n",
    "    for i in range(N):\n",
    "        arr = list(map(int, input().split()))\n",
    "        \n",
    "        for j in range(N):\n",
    "            min_arr.append(arr[i][j])\n",
    "            visited[i][j] = 1\n",
    "            \n",
    "            if visited[i][j]\n",
    "            \n",
    "        \n",
    "            \n",
    "        \n",
    "    \n",
    "    \n",
    "    print('#{} {}'.format(test_case, sum(min_arr)))\n",
    "        \n",
    "    "
   ]
  },
  {
   "cell_type": "code",
   "execution_count": null,
   "metadata": {},
   "outputs": [],
   "source": [
    "\n",
    "def dfs(idx, _sum):\n",
    "    global min_result\n",
    "    if idx == N:\n",
    "        if _sum < min_result:\n",
    "            min_result = _sum\n",
    "        return\n",
    "    #가지치기\n",
    "    if _sum >= min_result:\n",
    "        return\n",
    "    for i in range(N):\n",
    "        #갔던 세로줄은 사용불가하게 바꾸기\n",
    "        if use_check[i]:\n",
    "            use_check[i] = False\n",
    "            dfs(idx+1, _sum + map_list[idx][i])\n",
    "            use_check[i] = True\n",
    "            \n",
    "T = int(input())\n",
    "for t in range(1, T+1):\n",
    "    N = int(input())\n",
    "    map_list = [list(map(int, input().split())) for _ in range(N)]\n",
    "    use_check = [True for _ in range(N)]\n",
    "    min_result = 987654321\n",
    "    dfs(0, 0)\n",
    "    print(\"#{} {}\".format(t, min_result))"
   ]
  }
 ],
 "metadata": {
  "kernelspec": {
   "display_name": "Python 3",
   "language": "python",
   "name": "python3"
  },
  "language_info": {
   "codemirror_mode": {
    "name": "ipython",
    "version": 3
   },
   "file_extension": ".py",
   "mimetype": "text/x-python",
   "name": "python",
   "nbconvert_exporter": "python",
   "pygments_lexer": "ipython3",
   "version": "3.7.7"
  },
  "toc": {
   "base_numbering": 1,
   "nav_menu": {},
   "number_sections": true,
   "sideBar": true,
   "skip_h1_title": false,
   "title_cell": "Table of Contents",
   "title_sidebar": "Contents",
   "toc_cell": false,
   "toc_position": {},
   "toc_section_display": true,
   "toc_window_display": false
  },
  "varInspector": {
   "cols": {
    "lenName": 16,
    "lenType": 16,
    "lenVar": 40
   },
   "kernels_config": {
    "python": {
     "delete_cmd_postfix": "",
     "delete_cmd_prefix": "del ",
     "library": "var_list.py",
     "varRefreshCmd": "print(var_dic_list())"
    },
    "r": {
     "delete_cmd_postfix": ") ",
     "delete_cmd_prefix": "rm(",
     "library": "var_list.r",
     "varRefreshCmd": "cat(var_dic_list()) "
    }
   },
   "types_to_exclude": [
    "module",
    "function",
    "builtin_function_or_method",
    "instance",
    "_Feature"
   ],
   "window_display": false
  }
 },
 "nbformat": 4,
 "nbformat_minor": 2
}
