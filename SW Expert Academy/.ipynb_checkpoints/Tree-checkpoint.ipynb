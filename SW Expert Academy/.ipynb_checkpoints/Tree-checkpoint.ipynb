{
 "cells": [
  {
   "cell_type": "markdown",
   "metadata": {},
   "source": [
    "# 5174 subtree\n",
    "노드 N을 루트로 하는 서브 트리에 속한 노드의 개수를 알아내는 프로그램"
   ]
  },
  {
   "cell_type": "markdown",
   "metadata": {},
   "source": [
    "첫 줄에 테스트케이스의 수 T가 주어진다. 1<=T<=50\n",
    "\n",
    "다음 줄부터 테스트 케이스의 별로 첫 줄에 간선의 개수 E와 N이 주어지고, 다음 줄에 E개의 부모 자식 노드 번호 쌍이 주어진다.\n",
    "\n",
    "노드 번호는 1번부터 E+1번까지 존재한다. 1<=E<=1000, 1<=N<=E+1"
   ]
  },
  {
   "cell_type": "code",
   "execution_count": null,
   "metadata": {},
   "outputs": [],
   "source": [
    "T = int(input())\n",
    "\n",
    "for test_case in range(1, T+1):\n",
    "    E, N = map(int, input().split())\n",
    "    par_chi = list(map(int, input().split()))\n",
    "    "
   ]
  },
  {
   "cell_type": "code",
   "execution_count": 3,
   "metadata": {},
   "outputs": [
    {
     "name": "stdout",
     "output_type": "stream",
     "text": [
      "1 2 3 4\n"
     ]
    }
   ],
   "source": [
    "a = list(map(int, input().split()))"
   ]
  },
  {
   "cell_type": "code",
   "execution_count": 6,
   "metadata": {},
   "outputs": [
    {
     "name": "stdout",
     "output_type": "stream",
     "text": [
      "1\n",
      "5 1\n",
      "2 6 6 4 6 5 4 1 5 3\n",
      "#1 1\n"
     ]
    }
   ],
   "source": [
    "# 다른 풀이\n",
    "class Node:\n",
    "    def __init__(self, data):\n",
    "        self.left = None\n",
    "        self.right = None\n",
    "        self.data = data\n",
    "        \n",
    "class Tree:\n",
    "    def __init__(self, cnt):\n",
    "        self.node_lst = [None]\n",
    "        for i in range(E + 1):\n",
    "            self.node_lst.append(Node(i))\n",
    "        \n",
    "    def put(self, parent, child):\n",
    "        if self.node_lst[parent].left == None:\n",
    "            self.node_lst[parent].left = self.node_lst[child]\n",
    "        else:\n",
    "            self.node_lst[parent].right = self.node_lst[child]\n",
    "            \n",
    "    def count(self, node):\n",
    "        self.cnt += 1\n",
    "        if node.left != None:\n",
    "            self.count(node.left)\n",
    "        if node.right != None:\n",
    "            self.count(node.right)\n",
    "        \n",
    "    \n",
    "    def my_result(self, num):\n",
    "        self.cnt = 0\n",
    "        self.count(self.node_lst[num])\n",
    "        return self.cnt\n",
    "\n",
    "T = int(input())\n",
    "for test_case in range(1, 1 + T):\n",
    "    E, N = map(int, input().split())\n",
    "    data = list(map(int, input().split()))\n",
    "    tree = Tree(E)\n",
    "    for i in range(E):\n",
    "        tree.put(data[2 * i], data[2 * i + 1])\n",
    "    print('#{} {}'.format(test_case, tree.my_result(N)))"
   ]
  },
  {
   "cell_type": "code",
   "execution_count": 7,
   "metadata": {},
   "outputs": [
    {
     "name": "stdout",
     "output_type": "stream",
     "text": [
      "1\n",
      "5 1\n",
      "2 6 6 4 6 5 4 1 5 3\n",
      "#1 1\n"
     ]
    }
   ],
   "source": [
    "# 다른 풀이\n",
    "\n",
    "def dfs(idx):\n",
    "    global count\n",
    "    #순회를 할때마다 카운트\n",
    "    count += 1\n",
    "    #자식노드를 순회한다.\n",
    "    for i in Tree[idx]:\n",
    "        dfs(i)\n",
    " \n",
    "for t in range(int(input())):\n",
    "    #노드의 개수와 출력할 노드\n",
    "    E, N = map(int, input().split())\n",
    "    temp_list = input().split()\n",
    "    #노드의 개수만큼 리스트 만들기\n",
    "    Tree = [ [ ] for _ in range(E+2)]\n",
    "    for idx, i in enumerate(range(0, E*2, 2)):\n",
    "        a = int(temp_list[i])\n",
    "        b = int(temp_list[i+1])\n",
    "        #부모노드를 찾아서 자식노드 표현\n",
    "        Tree[a].append(b)    \n",
    "    count = 0\n",
    "    dfs(N)\n",
    "    #결과값 출력\n",
    "    print('#{} {}'.format(t+1, count))"
   ]
  },
  {
   "cell_type": "code",
   "execution_count": null,
   "metadata": {},
   "outputs": [],
   "source": []
  }
 ],
 "metadata": {
  "kernelspec": {
   "display_name": "Python 3",
   "language": "python",
   "name": "python3"
  },
  "language_info": {
   "codemirror_mode": {
    "name": "ipython",
    "version": 3
   },
   "file_extension": ".py",
   "mimetype": "text/x-python",
   "name": "python",
   "nbconvert_exporter": "python",
   "pygments_lexer": "ipython3",
   "version": "3.7.7"
  },
  "toc": {
   "base_numbering": 1,
   "nav_menu": {},
   "number_sections": true,
   "sideBar": true,
   "skip_h1_title": false,
   "title_cell": "Table of Contents",
   "title_sidebar": "Contents",
   "toc_cell": false,
   "toc_position": {},
   "toc_section_display": true,
   "toc_window_display": false
  },
  "varInspector": {
   "cols": {
    "lenName": 16,
    "lenType": 16,
    "lenVar": 40
   },
   "kernels_config": {
    "python": {
     "delete_cmd_postfix": "",
     "delete_cmd_prefix": "del ",
     "library": "var_list.py",
     "varRefreshCmd": "print(var_dic_list())"
    },
    "r": {
     "delete_cmd_postfix": ") ",
     "delete_cmd_prefix": "rm(",
     "library": "var_list.r",
     "varRefreshCmd": "cat(var_dic_list()) "
    }
   },
   "types_to_exclude": [
    "module",
    "function",
    "builtin_function_or_method",
    "instance",
    "_Feature"
   ],
   "window_display": false
  }
 },
 "nbformat": 4,
 "nbformat_minor": 4
}
