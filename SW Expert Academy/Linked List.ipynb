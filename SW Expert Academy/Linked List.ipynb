{
 "cells": [
  {
   "cell_type": "markdown",
   "metadata": {},
   "source": [
    "# 리스트"
   ]
  },
  {
   "cell_type": "markdown",
   "metadata": {},
   "source": [
    "- 순서를 가진 데이터의 묶음 - 같은 데이터의 중복 저장 가능\n",
    "- 시퀀스 자료형 - 인덱싱, 슬라이싱, 연산자, 메서드 사용 가능\n",
    "- 크기 제한, 타입제한 없음"
   ]
  },
  {
   "cell_type": "markdown",
   "metadata": {},
   "source": [
    "||크기|데이터의 타입|\n",
    "|--|:---:|:---:|\n",
    "|**배열**|변경 불가|선언된 한가지 타입만 저장 가능|\n",
    "|**리스트**|변경 가능|다양한 데이터 타입 저장 가능|\n",
    "                "
   ]
  },
  {
   "cell_type": "markdown",
   "metadata": {},
   "source": [
    "## 순차 리스트"
   ]
  },
  {
   "cell_type": "markdown",
   "metadata": {},
   "source": [
    "- 리스트: 동적 배열로 작성된 순차 리스트\n",
    "- 자료의 삽입.삭제 연산: 원소의 이동 작업 필요\n",
    "- 원소의 개수가 많고 삽입/삭제 연산이 빈번: 소요되는 시간 크게 증가"
   ]
  },
  {
   "cell_type": "markdown",
   "metadata": {},
   "source": [
    "## 연결 리스트"
   ]
  },
  {
   "cell_type": "markdown",
   "metadata": {},
   "source": [
    "리스트의 단점을 보완한 자료구조\n",
    "1. 자료의 논리적 순서와 메모리상 물리적 순서 불일치, 개별적으로 위치하고 있는 원소의 주소를 연결하여 하나의 전체적인 자료구조를 이룸\n",
    "2. 링크를 통해 원소에 접근, 순차 리스트에서 물리적인 순서를 맞추기 위한 작업 불필요\n",
    "3. 자료구조 크기를 동적으로 조정할 수 있어 메모리의 효율적인 사용 가능\n",
    "4. 탐색 - 순차탐색"
   ]
  },
  {
   "cell_type": "markdown",
   "metadata": {},
   "source": [
    "### 주요함수\n",
    "\n",
    "|함수명|기능|\n",
    "|:--:|:--:|\n",
    "|addtoFirst()|연결 리스트의 앞쪽에 원소를 추가|\n",
    "|addtoLast()|연결 리스트의 뒤쪽에 원소 추가|\n",
    "|add()|연결 리스트의 특정 위치에 원소를 추가|\n",
    "|delete()|연결 리스트의 특정 위치에 있는 원소 삭제|\n",
    "|get()|연결 리스트의 특정 위치에 있는 원소 리턴|"
   ]
  },
  {
   "cell_type": "markdown",
   "metadata": {},
   "source": [
    "### 노드\n",
    "- 연결 리스트에서 하나의 원소에 필요한 데이터를 갖고 있는 자료단위\n",
    "- 데이터 필드: 원소의 값을 저장하는 자료구조\n",
    "- 링크 필드: 다음 노드의 주소를 저장하는 자료구조"
   ]
  },
  {
   "cell_type": "markdown",
   "metadata": {},
   "source": [
    "### 헤드\n",
    "- 리스트의 처음 노드를 가리키는 레퍼런스\n"
   ]
  },
  {
   "cell_type": "markdown",
   "metadata": {},
   "source": [
    "### 단순 연결 리스트\n",
    "- 노드가 하나의 링크 필드에 의해 다음 노드와 연결되는 구조\n",
    "- 헤드가 가장 앞의 노드를 가리키고, 각 노드의 링크 필드가 연속적으로 다음 노드를 가리킴\n",
    "- 최종적으로 None을 가리키는 노드가 리스트의 가장 마지막 노드"
   ]
  },
  {
   "cell_type": "code",
   "execution_count": 2,
   "metadata": {},
   "outputs": [],
   "source": [
    "# 새 원소를 첫번째 노드로 삽입하는 알고리즘\n",
    "\n",
    "def addtoFirst(data): # 첫 노드에 데이터 삽입\n",
    "    global Head\n",
    "    Head = Node(data, Head) # 새로운 노드 생성"
   ]
  },
  {
   "cell_type": "code",
   "execution_count": 3,
   "metadata": {},
   "outputs": [],
   "source": [
    "# 가운데 노드로 삽입\n",
    "\n",
    "def add(pre, data): # pre다음에 데이터 삽입\n",
    "    if pre == None:\n",
    "        print('error')\n",
    "    else:\n",
    "        pre.link = Node(data, pre.link)"
   ]
  },
  {
   "cell_type": "code",
   "execution_count": 4,
   "metadata": {},
   "outputs": [],
   "source": [
    "#  마지막 노드로 삽입하는 알고리즘\n",
    "\n",
    "def addtoLast(data): # 마지막에 데이터 삽입\n",
    "    global Head\n",
    "    if Head == None: # 빈 리스트이면\n",
    "        Head = Node(data, None)\n",
    "    else:\n",
    "        p = Head\n",
    "        while p.link != None: # 마지막 노드 찾을 때 까지\n",
    "            p = p.link\n",
    "            p.link = Node(data, None)"
   ]
  },
  {
   "cell_type": "code",
   "execution_count": 5,
   "metadata": {},
   "outputs": [],
   "source": [
    "# 첫 번째 노드 삭제\n",
    "\n",
    "def deletetoFirst(): # 처음 노드 삭제\n",
    "    global Head\n",
    "    if Head == None:\n",
    "        print('error')\n",
    "    else:\n",
    "        Head = Head.link"
   ]
  },
  {
   "cell_type": "code",
   "execution_count": 6,
   "metadata": {},
   "outputs": [],
   "source": [
    "# 노드 pre의 다음 위치에 있는 노드 삭제\n",
    "\n",
    "def delete(pre): # pre 다음 노드 삭제\n",
    "    if pre == None or pre.link == None:\n",
    "        print('error')\n",
    "    else:\n",
    "        pre.link = pre.link.link"
   ]
  },
  {
   "cell_type": "markdown",
   "metadata": {},
   "source": [
    "### 이중 연결 리스트\n",
    "- 양쪽 방향으로 순회할 수 있도록 노드를 연결한 리스트\n",
    "- 두 개의 링크 필드와 한 개의 데이터 필드로 구성"
   ]
  },
  {
   "cell_type": "markdown",
   "metadata": {},
   "source": [
    "# 병합정렬"
   ]
  },
  {
   "cell_type": "code",
   "execution_count": null,
   "metadata": {},
   "outputs": [],
   "source": [
    "def merge_sort(m):\n",
    "    if len(m) <=1: # 사이즈가 0이거나 1인 경우 리턴\n",
    "        return m\n",
    "    \n",
    "    # 1. Divide 부분\n",
    "    mid = len(m)//2\n",
    "    left = m[:mid]\n",
    "    right = m[mid:]\n",
    "    \n",
    "    # 리스트 크기가 1이 될 때 까지 재귀호출\n",
    "    left = merge_sort(left)\n",
    "    right = merge_sort(right)\n",
    "    \n",
    "    # 2. Conquer 부분: 분할된 리스트들 병합\n",
    "    return merge(left, right)"
   ]
  },
  {
   "cell_type": "code",
   "execution_count": null,
   "metadata": {},
   "outputs": [],
   "source": [
    "def merge(left, right):\n",
    "    # 두 개의 분할된 리스트 병합\n",
    "    result = []\n",
    "    \n",
    "    while len(left) > 0 and len(right) > 0:\n",
    "        # 두 서브 리스트의 첫 원소들을 비교하여 작은 것부터 추가\n",
    "        if left[0] <= right[0]:\n",
    "            result.append(left.pop(0))\n",
    "        else:\n",
    "            result.append(right.pop(0))\n",
    "            \n",
    "    if len(left) > 0: \n",
    "        result.extend(left)\n",
    "    if len(right) > 0:\n",
    "        result.xtend(right)\n",
    "    return result\n",
    "    "
   ]
  },
  {
   "cell_type": "markdown",
   "metadata": {},
   "source": [
    "# 5108 숫자 추가"
   ]
  },
  {
   "cell_type": "code",
   "execution_count": 18,
   "metadata": {},
   "outputs": [
    {
     "name": "stdout",
     "output_type": "stream",
     "text": [
      "1\n",
      "5 2 5\n",
      "1 2 3 4 5\n",
      "2 7\n",
      "4 8\n",
      "#1 4\n"
     ]
    }
   ],
   "source": [
    "T = int(input())\n",
    "\n",
    "# N: 수열길이, M: 추가 횟수, L: 출력할 인덱스 번호\n",
    "# idx번째 index에 num 추가\n",
    "\n",
    "for t_c in range(1, T+1):\n",
    "    N, M, L = map(int, input().split())\n",
    "    seq = list(map(int, input().split())) \n",
    "    \n",
    "    for i in range(M):\n",
    "        idx, num = map(int, input().split())   \n",
    "        # insert(인덱스, 삽입할 수)\n",
    "        seq.insert(idx, num)\n",
    "\n",
    "    print(f\"#{t_c} {seq[L]}\" )"
   ]
  },
  {
   "cell_type": "markdown",
   "metadata": {},
   "source": [
    "# 5110 수열 합치기"
   ]
  },
  {
   "cell_type": "code",
   "execution_count": null,
   "metadata": {},
   "outputs": [],
   "source": [
    "def addtoFirst(seq, new_seq):\n",
    "    idx = 0\n",
    "    for i in range(len(new_seq)):\n",
    "        seq.insert(idx, new_seq[i])\n",
    "        idx += 1\n",
    "        return seq\n",
    "\n",
    "def addtoLast(seq, new_seq):\n",
    "    for i in range(len(new_seq)):\n",
    "        seq.append(new_seq[i])\n",
    "    return seq\n",
    "\n",
    "def add():\n",
    "    \n",
    "\n",
    "\n",
    "T = int(input())\n",
    "\n",
    "for test_case in range(1, T+1):\n",
    "    # N: 수열의 길이, M: 수열 개수\n",
    "    N, M = map(int, input().split())\n",
    "    \n",
    "    # M개의 수열을 seq에 각각 리스트 형태로 저장\n",
    "    seq = []\n",
    "    for i in range(M):\n",
    "        seq.append(list(map(int, input().split())))\n",
    "        \n",
    "        # 수열을 저장한 리스트가 비어있을 때 pass\n",
    "        if len(seq) == 0:\n",
    "            pass\n",
    "        \n",
    "        else:\n",
    "            # 앞의 원소 다 훑어야되니까 stack..?\n",
    "                \n",
    "                    \n",
    "                    \n",
    "            \n",
    "\n",
    "            \n",
    "    result = seq[0]\n",
    "    \n",
    "    print(f\"#{test_case} {result[:-11:-1]}\")"
   ]
  },
  {
   "cell_type": "code",
   "execution_count": 17,
   "metadata": {},
   "outputs": [
    {
     "name": "stdout",
     "output_type": "stream",
     "text": [
      "[4, 3]\n"
     ]
    }
   ],
   "source": [
    "# 풀이1\n",
    "class Node:\n",
    "    # 초기화 메소드\n",
    "    def __init__(self, data):\n",
    "        self.data = data\n",
    "        self.link = None\n",
    "\n",
    "class LinkedList:\n",
    "    # 초기화 메소드\n",
    "    def __init__(self):\n",
    "        new_node = Node('head')\n",
    "        self.head = new_node\n",
    "        self.tail = new_node\n",
    "        self.before = None\n",
    "        self.current = None\n",
    "        self.num_of_data = 0\n",
    "\n",
    "    def append(self, data):\n",
    "        new_node = Node(data) # 새 노드 생성\n",
    "        self.tail.link = new_node # 연결\n",
    "        self.tail = new_node # tail 갱신\n",
    "        self.num_of_data += 1\n",
    "\n",
    "    def first(self):\n",
    "        if self.num_of_data == 0: # 빈 리스트이면 None 리턴\n",
    "            return None\n",
    "        self.before = self.head\n",
    "        self.current = self.head.link\n",
    "        return self.current.data\n",
    "\n",
    "    def next(self):\n",
    "        self.before = self.current\n",
    "        self.current = self.current.link\n",
    "        if self.current == None:\n",
    "            return None\n",
    "        return self.current.data\n",
    "\n",
    "    def insertlist(self, new_list):\n",
    "        insert_num = new_list.first()\n",
    "        num = self.first()\n",
    "        # 수열 2의 첫 숫자 보다 큰 수자를 수열 1에서 찾아 그 앞에 수열 2를 끼워 넣는다.\n",
    "        for _ in range(self.num_of_data):\n",
    "            if num > insert_num:\n",
    "                self.before.link = new_list.head.link\n",
    "                new_list.tail.link = self.current\n",
    "                self.num_of_data += new_list.num_of_data\n",
    "                break\n",
    "            num = self.next()\n",
    "        else: # 큰 숫자가 없는 경우 맨 뒤에 붙인다.\n",
    "            self.tail.link = new_list.head.link\n",
    "            self.num_of_data += new_list.num_of_data\n",
    "\n",
    "    # 빈 리스트에 링크드리스트data 담아서 마지막 10요소 출력\n",
    "    def my_result(self):\n",
    "        lst = []\n",
    "        num = self.first()\n",
    "        for i in range(self.num_of_data):\n",
    "            lst.append(num)\n",
    "            num = self.next()\n",
    "        return ' '.join(map(str, lst[-1:-11:-1]))\n",
    "\n",
    "# main 함수\n",
    "T = int(input())\n",
    "for test_case in range(1, T + 1):\n",
    "    N, M = map(int, input().split())\n",
    "    # 빈 LinkedList 생성\n",
    "    Seq1 = LinkedList()\n",
    "    # LinkedList 입력받기\n",
    "    for i in map(int, input().split()):\n",
    "        Seq1.append(i)\n",
    "\n",
    "    for _ in range(M - 1):\n",
    "        # 빈 LinkedList 생성\n",
    "        Seq2 = LinkedList()\n",
    "        # LinkedList 입력받기\n",
    "        for j in map(int, input().split()):\n",
    "            Seq2.append(j)\n",
    "        # Seq1에 Seq2 삽입\n",
    "        Seq1.insertlist(Seq2)\n",
    "    \n",
    "    print('#{} {}'.format(test_case, Seq1.my_result()))"
   ]
  },
  {
   "cell_type": "markdown",
   "metadata": {},
   "source": [
    "# 5120 암호"
   ]
  },
  {
   "cell_type": "code",
   "execution_count": null,
   "metadata": {},
   "outputs": [],
   "source": [
    "T = int(input())\n",
    "\n",
    "for test_case in range(1, T+1):\n",
    "    N, M, K = map(int, input().split())\n",
    "    \n",
    "    start_idx = 0\n",
    "    start_num = seq[start_idx]\n",
    "    for i in range(K):\n",
    "        try:\n",
    "            seq = list(map(int, input().split()))\n",
    "            #지정 위치부터 M번째 칸을 추가, 앞칸의 숫자와 뒤로 밀려난 칸의 숫자를 더해 넣는다. \n",
    "            start_idx = start_idx + M\n",
    "            seq.insert(start_idx, seq[start_idx - 1]+seq[start_idx + 1])\n",
    "            # 추가된 칸이 새로운 지정 위치가 된다. \n",
    "            start = seq[start_idx]\n",
    "        \n",
    "        except IndexError:\n",
    "            \n",
    "        \n",
    "        \n",
    "        # 밀려난 칸이 없으면(M번째 숫자가 마지막 숫자이면) 시작 숫자와 더한다.\n",
    "        \n",
    "        # 역순으로 출력"
   ]
  },
  {
   "cell_type": "code",
   "execution_count": null,
   "metadata": {},
   "outputs": [],
   "source": []
  },
  {
   "cell_type": "code",
   "execution_count": null,
   "metadata": {},
   "outputs": [],
   "source": []
  },
  {
   "cell_type": "code",
   "execution_count": null,
   "metadata": {},
   "outputs": [],
   "source": []
  },
  {
   "cell_type": "markdown",
   "metadata": {},
   "source": [
    "# 5122 수열편집"
   ]
  },
  {
   "cell_type": "code",
   "execution_count": 12,
   "metadata": {},
   "outputs": [
    {
     "name": "stdout",
     "output_type": "stream",
     "text": [
      "d\n"
     ]
    },
    {
     "ename": "ValueError",
     "evalue": "invalid literal for int() with base 10: 'd'",
     "output_type": "error",
     "traceback": [
      "\u001b[1;31m---------------------------------------------------------------------------\u001b[0m",
      "\u001b[1;31mValueError\u001b[0m                                Traceback (most recent call last)",
      "\u001b[1;32m<ipython-input-12-b7222cde6288>\u001b[0m in \u001b[0;36m<module>\u001b[1;34m\u001b[0m\n\u001b[0;32m     14\u001b[0m \u001b[1;31m# I: 추가, D: 삭제, C: 교체\u001b[0m\u001b[1;33m\u001b[0m\u001b[1;33m\u001b[0m\u001b[1;33m\u001b[0m\u001b[0m\n\u001b[0;32m     15\u001b[0m \u001b[1;33m\u001b[0m\u001b[0m\n\u001b[1;32m---> 16\u001b[1;33m \u001b[0mT\u001b[0m \u001b[1;33m=\u001b[0m \u001b[0mint\u001b[0m\u001b[1;33m(\u001b[0m\u001b[0minput\u001b[0m\u001b[1;33m(\u001b[0m\u001b[1;33m)\u001b[0m\u001b[1;33m)\u001b[0m\u001b[1;33m\u001b[0m\u001b[1;33m\u001b[0m\u001b[0m\n\u001b[0m\u001b[0;32m     17\u001b[0m \u001b[1;33m\u001b[0m\u001b[0m\n\u001b[0;32m     18\u001b[0m \u001b[1;32mfor\u001b[0m \u001b[0mtest_case\u001b[0m \u001b[1;32min\u001b[0m \u001b[0mrange\u001b[0m\u001b[1;33m(\u001b[0m\u001b[1;36m1\u001b[0m\u001b[1;33m,\u001b[0m \u001b[0mT\u001b[0m\u001b[1;33m+\u001b[0m\u001b[1;36m1\u001b[0m\u001b[1;33m)\u001b[0m\u001b[1;33m:\u001b[0m\u001b[1;33m\u001b[0m\u001b[1;33m\u001b[0m\u001b[0m\n",
      "\u001b[1;31mValueError\u001b[0m: invalid literal for int() with base 10: 'd'"
     ]
    }
   ],
   "source": [
    "def Insert(seq, idx, new_num):\n",
    "    seq.insert(idx, new_num)\n",
    "    return seq\n",
    "\n",
    "def Delete(seq, idx):\n",
    "    seq.pop(idx)\n",
    "    return seq\n",
    "\n",
    "def Change(seq, idx, new_num):\n",
    "    seq[idx] = new_num\n",
    "    return seq\n",
    "\n",
    "\n",
    "# I: 추가, D: 삭제, C: 교체\n",
    "\n",
    "T = int(input())\n",
    "\n",
    "for test_case in range(1, T+1):\n",
    "    N, M, L = map(int, input().split())\n",
    "    seq = list(map(int, input().split()))\n",
    "    \n",
    "    for i in range(M): \n",
    "        a = input().split()\n",
    "        if a[0] == 'D':\n",
    "            a = [a[0], int(a[1])]\n",
    "            Delete(seq, a[1])\n",
    "#             print('newA:', a)\n",
    "#             print('seq:', seq)\n",
    "        elif a[0] == 'I':\n",
    "            a = [a[0], int(a[1]), int(a[2])]\n",
    "            Insert(seq, a[1], a[2])\n",
    "#             print('newA:', a)\n",
    "#             print('seq:', seq)\n",
    "            \n",
    "        else:\n",
    "            a = [a[0], int(a[1]), int(a[2])]\n",
    "            Change(seq, a[1], a[2])\n",
    "#             print('newA:', a)\n",
    "#             print('seq:', seq)\n",
    "            \n",
    "            \n",
    "    # 인덱스 번호 L이 존재하면 해당 숫자, 존재하지 않으면 -1 출력            \n",
    "    if len(seq) <= L:\n",
    "        print(f\"#{test_case} -1\")\n",
    "\n",
    "    else:\n",
    "        print(f\"#{test_case} {seq[L]}\")"
   ]
  },
  {
   "cell_type": "code",
   "execution_count": null,
   "metadata": {},
   "outputs": [],
   "source": []
  },
  {
   "cell_type": "code",
   "execution_count": null,
   "metadata": {},
   "outputs": [],
   "source": []
  },
  {
   "cell_type": "code",
   "execution_count": null,
   "metadata": {},
   "outputs": [],
   "source": []
  },
  {
   "cell_type": "code",
   "execution_count": null,
   "metadata": {},
   "outputs": [],
   "source": []
  }
 ],
 "metadata": {
  "kernelspec": {
   "display_name": "Python 3",
   "language": "python",
   "name": "python3"
  },
  "language_info": {
   "codemirror_mode": {
    "name": "ipython",
    "version": 3
   },
   "file_extension": ".py",
   "mimetype": "text/x-python",
   "name": "python",
   "nbconvert_exporter": "python",
   "pygments_lexer": "ipython3",
   "version": "3.7.7"
  },
  "toc": {
   "base_numbering": 1,
   "nav_menu": {},
   "number_sections": true,
   "sideBar": true,
   "skip_h1_title": false,
   "title_cell": "Table of Contents",
   "title_sidebar": "Contents",
   "toc_cell": false,
   "toc_position": {},
   "toc_section_display": true,
   "toc_window_display": false
  },
  "varInspector": {
   "cols": {
    "lenName": 16,
    "lenType": 16,
    "lenVar": 40
   },
   "kernels_config": {
    "python": {
     "delete_cmd_postfix": "",
     "delete_cmd_prefix": "del ",
     "library": "var_list.py",
     "varRefreshCmd": "print(var_dic_list())"
    },
    "r": {
     "delete_cmd_postfix": ") ",
     "delete_cmd_prefix": "rm(",
     "library": "var_list.r",
     "varRefreshCmd": "cat(var_dic_list()) "
    }
   },
   "types_to_exclude": [
    "module",
    "function",
    "builtin_function_or_method",
    "instance",
    "_Feature"
   ],
   "window_display": false
  }
 },
 "nbformat": 4,
 "nbformat_minor": 4
}
