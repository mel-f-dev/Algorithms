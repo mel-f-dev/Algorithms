{
 "cells": [
  {
   "cell_type": "markdown",
   "metadata": {},
   "source": [
    "# 리스트"
   ]
  },
  {
   "cell_type": "markdown",
   "metadata": {},
   "source": [
    "- 순서를 가진 데이터의 묶음 - 같은 데이터의 중복 저장 가능\n",
    "- 시퀀스 자료형 - 인덱싱, 슬라이싱, 연산자, 메서드 사용 가능\n",
    "- 크기 제한, 타입제한 없음"
   ]
  },
  {
   "cell_type": "markdown",
   "metadata": {},
   "source": [
    "||크기|데이터의 타입|\n",
    "|--|:---:|:---:|\n",
    "|**배열**|변경 불가|선언된 한가지 타입만 저장 가능|\n",
    "|**리스트**|변경 가능|다양한 데이터 타입 저장 가능|\n",
    "                "
   ]
  },
  {
   "cell_type": "markdown",
   "metadata": {},
   "source": [
    "## 순차 리스트"
   ]
  },
  {
   "cell_type": "markdown",
   "metadata": {},
   "source": [
    "- 리스트: 동적 배열로 작성된 순차 리스트\n",
    "- 자료의 삽입.삭제 연산: 원소의 이동 작업 필요\n",
    "- 원소의 개수가 많고 삽입/삭제 연산이 빈번: 소요되는 시간 크게 증가"
   ]
  },
  {
   "cell_type": "markdown",
   "metadata": {},
   "source": [
    "## 연결 리스트"
   ]
  },
  {
   "cell_type": "markdown",
   "metadata": {},
   "source": [
    "리스트의 단점을 보완한 자료구조\n",
    "1. 자료의 논리적 순서와 메모리상 물리적 순서 불일치, 개별적으로 위치하고 있는 원소의 주소를 연결하여 하나의 전체적인 자료구조를 이룸\n",
    "2. 링크를 통해 원소에 접근, 순차 리스트에서 물리적인 순서를 맞추기 위한 작업 불필요\n",
    "3. 자료구조 크기를 동적으로 조정할 수 있어 메모리의 효율적인 사용 가능\n",
    "4. 탐색 - 순차탐색"
   ]
  },
  {
   "cell_type": "markdown",
   "metadata": {},
   "source": [
    "### 주요함수\n",
    "\n",
    "|함수명|기능|\n",
    "|:--:|:--:|\n",
    "|addtoFirst()|연결 리스트의 앞쪽에 원소를 추가|\n",
    "|addtoLast()|연결 리스트의 뒤쪽에 원소 추가|\n",
    "|add()|연결 리스트의 특정 위치에 원소를 추가|\n",
    "|delete()|연결 리스트의 특정 위치에 있는 원소 삭제|\n",
    "|get()|연결 리스트의 특정 위치에 있는 원소 리턴|"
   ]
  },
  {
   "cell_type": "markdown",
   "metadata": {},
   "source": [
    "### 노드\n",
    "- 연결 리스트에서 하나의 원소에 필요한 데이터를 갖고 있는 자료단위\n",
    "- 데이터 필드: 원소의 값을 저장하는 자료구조\n",
    "- 링크 필드: 다음 노드의 주소를 저장하는 자료구조"
   ]
  },
  {
   "cell_type": "markdown",
   "metadata": {},
   "source": [
    "### 헤드\n",
    "- 리스트의 처음 노드를 가리키는 레퍼런스\n"
   ]
  },
  {
   "cell_type": "markdown",
   "metadata": {},
   "source": [
    "### 단순 연결 리스트\n",
    "- 노드가 하나의 링크 필드에 의해 다음 노드와 연결되는 구조\n",
    "- 헤드가 가장 앞의 노드를 가리키고, 각 노드의 링크 필드가 연속적으로 다음 노드를 가리킴\n",
    "- 최종적으로 None을 가리키는 노드가 리스트의 가장 마지막 노드"
   ]
  },
  {
   "cell_type": "code",
   "execution_count": 2,
   "metadata": {},
   "outputs": [],
   "source": [
    "# 새 원소를 첫번째 노드로 삽입하는 알고리즘\n",
    "\n",
    "def addtoFirst(data): # 첫 노드에 데이터 삽입\n",
    "    global Head\n",
    "    Head = Node(data, Head) # 새로운 노드 생성"
   ]
  },
  {
   "cell_type": "code",
   "execution_count": 3,
   "metadata": {},
   "outputs": [],
   "source": [
    "# 가운데 노드로 삽입\n",
    "\n",
    "def add(pre, data): # pre다음에 데이터 삽입\n",
    "    if pre == None:\n",
    "        print('error')\n",
    "    else:\n",
    "        pre.link = Node(data, pre.link)"
   ]
  },
  {
   "cell_type": "code",
   "execution_count": 4,
   "metadata": {},
   "outputs": [],
   "source": [
    "#  마지막 노드로 삽입하는 알고리즘\n",
    "\n",
    "def addtoLast(data): # 마지막에 데이터 삽입\n",
    "    global Head\n",
    "    if Head == None: # 빈 리스트이면\n",
    "        Head = Node(data, None)\n",
    "    else:\n",
    "        p = Head\n",
    "        while p.link != None: # 마지막 노드 찾을 때 까지\n",
    "            p = p.link\n",
    "            p.link = Node(data, None)"
   ]
  },
  {
   "cell_type": "code",
   "execution_count": 5,
   "metadata": {},
   "outputs": [],
   "source": [
    "# 첫 번째 노드 삭제\n",
    "\n",
    "def deletetoFirst(): # 처음 노드 삭제\n",
    "    global Head\n",
    "    if Head == None:\n",
    "        print('error')\n",
    "    else:\n",
    "        Head = Head.link"
   ]
  },
  {
   "cell_type": "code",
   "execution_count": 6,
   "metadata": {},
   "outputs": [],
   "source": [
    "# 노드 pre의 다음 위치에 있는 노드 삭제\n",
    "\n",
    "def delete(pre): # pre 다음 노드 삭제\n",
    "    if pre == None or pre.link == None:\n",
    "        print('error')\n",
    "    else:\n",
    "        pre.link = pre.link.link"
   ]
  },
  {
   "cell_type": "markdown",
   "metadata": {},
   "source": [
    "### 이중 연결 리스트\n",
    "- 양쪽 방향으로 순회할 수 있도록 노드를 연결한 리스트\n",
    "- 두 개의 링크 필드와 한 개의 데이터 필드로 구성"
   ]
  },
  {
   "cell_type": "code",
   "execution_count": null,
   "metadata": {},
   "outputs": [],
   "source": []
  },
  {
   "cell_type": "code",
   "execution_count": null,
   "metadata": {},
   "outputs": [],
   "source": []
  },
  {
   "cell_type": "code",
   "execution_count": null,
   "metadata": {},
   "outputs": [],
   "source": []
  },
  {
   "cell_type": "code",
   "execution_count": null,
   "metadata": {},
   "outputs": [],
   "source": []
  },
  {
   "cell_type": "code",
   "execution_count": null,
   "metadata": {},
   "outputs": [],
   "source": []
  },
  {
   "cell_type": "code",
   "execution_count": null,
   "metadata": {},
   "outputs": [],
   "source": []
  },
  {
   "cell_type": "code",
   "execution_count": null,
   "metadata": {},
   "outputs": [],
   "source": []
  }
 ],
 "metadata": {
  "kernelspec": {
   "display_name": "Python 3",
   "language": "python",
   "name": "python3"
  },
  "language_info": {
   "codemirror_mode": {
    "name": "ipython",
    "version": 3
   },
   "file_extension": ".py",
   "mimetype": "text/x-python",
   "name": "python",
   "nbconvert_exporter": "python",
   "pygments_lexer": "ipython3",
   "version": "3.7.7"
  },
  "toc": {
   "base_numbering": 1,
   "nav_menu": {},
   "number_sections": true,
   "sideBar": true,
   "skip_h1_title": false,
   "title_cell": "Table of Contents",
   "title_sidebar": "Contents",
   "toc_cell": false,
   "toc_position": {},
   "toc_section_display": true,
   "toc_window_display": false
  },
  "varInspector": {
   "cols": {
    "lenName": 16,
    "lenType": 16,
    "lenVar": 40
   },
   "kernels_config": {
    "python": {
     "delete_cmd_postfix": "",
     "delete_cmd_prefix": "del ",
     "library": "var_list.py",
     "varRefreshCmd": "print(var_dic_list())"
    },
    "r": {
     "delete_cmd_postfix": ") ",
     "delete_cmd_prefix": "rm(",
     "library": "var_list.r",
     "varRefreshCmd": "cat(var_dic_list()) "
    }
   },
   "types_to_exclude": [
    "module",
    "function",
    "builtin_function_or_method",
    "instance",
    "_Feature"
   ],
   "window_display": false
  }
 },
 "nbformat": 4,
 "nbformat_minor": 4
}
