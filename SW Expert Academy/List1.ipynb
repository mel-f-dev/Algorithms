{
 "cells": [
  {
   "cell_type": "markdown",
   "metadata": {},
   "source": [
    "# min max"
   ]
  },
  {
   "cell_type": "code",
   "execution_count": null,
   "metadata": {},
   "outputs": [],
   "source": [
    "T = int(input())\n",
    "\n",
    "for i in range(T):\n",
    "    N = int(input())\n",
    "    a = list(map(int, input().split()))\n",
    "    Max_min = max(a) - min(a)\n",
    "    print('#%d %d' % (i+1, Max_min)) "
   ]
  },
  {
   "cell_type": "markdown",
   "metadata": {},
   "source": [
    "# 전기버스 ★"
   ]
  },
  {
   "cell_type": "markdown",
   "metadata": {},
   "source": [
    "A도시는 전기버스를 운행하려고 한다. 전기버스는 한번 충전으로 이동할 수 있는 정류장 수가 정해져 있어서, 중간에 충전기가 설치된 정류장을 만들기로 했다.\n",
    "버스는 0번에서 출발해 종점인 N번 정류장까지 이동하고, 한번 충전으로 최대한 이동할 수 있는 정류장 수 K가 정해져 있다.\n",
    "\n",
    "\n",
    "충전기가 설치된 M개의 정류장 번호가 주어질 때, 최소한 몇 번의 충전을 해야 종점에 도착할 수 있는지 출력하는 프로그램을 만드시오.\n",
    "만약 충전기 설치가 잘못되어 종점에 도착할 수 없는 경우는 0을 출력한다. 출발지에는 항상 충전기가 설치되어 있지만 충전횟수에는 포함하지 않는다."
   ]
  },
  {
   "cell_type": "code",
   "execution_count": null,
   "metadata": {},
   "outputs": [],
   "source": [
    "# T: 노선 수, N: 정류장 번호, K: 한 번 충전으로 이동할 수 있는 정류장 수, M: 충전기 설치된 정류장\n",
    "T = int(input())\n",
    "\n",
    "for i in range(T):\n",
    "    K, N, M = map(int, input().split())\n",
    "    M = list(map(int, input().split()))\n",
    "    \n",
    "    start_loc = 0\n",
    "    charge = 0\n",
    "    for i range(N+1):\n",
    "        "
   ]
  },
  {
   "cell_type": "code",
   "execution_count": 34,
   "metadata": {},
   "outputs": [
    {
     "name": "stdout",
     "output_type": "stream",
     "text": [
      "3\n",
      "3 10 5\n",
      "1 3 5 7 9\n",
      "#1 3\n",
      "3 10 5\n",
      "1 3 7 8 9\n",
      "#2 0\n",
      "5 20 5\n",
      "4 7 9 14 17\t\n",
      "#3 4\n"
     ]
    }
   ],
   "source": [
    "# 다른 사람 풀이1\n",
    "T = int(input())\n",
    "\n",
    "for test_case in range(1, T + 1):\n",
    "    '''\n",
    "    k : 한 번 충전으로 최대 이동할 수 있는 정류장 수\n",
    "    n : 정류장 개수\n",
    "    m : 충전 가능한 정류장 개수\n",
    "    M : 충전 가능한 정류장\n",
    "    '''\n",
    "    k,n,m = map(int, input().split())\n",
    "    M=[int(x) for x in input().split()]\n",
    "    # b : 실제로 충전하는 정류장\n",
    "    b=max([x for x in M if x <=k])\n",
    "    # count : 충전 횟수\n",
    "    count=1\n",
    "    while (b<=n-1) & (b+k<n):\n",
    "        data=[x for x in M if x>b]\n",
    "        bus=[x for x in data if x<=b+k]\n",
    "        try:\n",
    "            b=max(bus)\n",
    "            count+=1\n",
    "        except:\n",
    "            count=0\n",
    "            break\n",
    "    print(\"#\"+str(test_case)+\" \"+str(count))"
   ]
  },
  {
   "cell_type": "markdown",
   "metadata": {},
   "source": [
    "### 풀이 2"
   ]
  },
  {
   "cell_type": "code",
   "execution_count": 35,
   "metadata": {},
   "outputs": [
    {
     "name": "stdout",
     "output_type": "stream",
     "text": [
      "3\n",
      "3 10 5\n",
      "1 3 5 7 9\n",
      "#1 3\n",
      "3 10 5\n",
      "1 3 7 8 9\n",
      "#2 0\n",
      "5 20 5\n",
      "4 7 9 14 17\t\n",
      "#3 4\n"
     ]
    }
   ],
   "source": [
    "T=int(input())\n",
    "for i in range(1,T+1):\n",
    "    K,N,M=map(int,input().split())\n",
    "    stops=list(map(int,input().split()))\n",
    "    charge=[0]*N\n",
    "    for idx in stops:\n",
    "        charge[idx]=1\n",
    "    charged=0\n",
    "    begin=0\n",
    "    while begin<N-K:\n",
    "        isallzero=charge[begin+1:begin+K+1]\n",
    "        if sum(isallzero)==0:\n",
    "            charged=0\n",
    "            break\n",
    "        for j in range(K+begin,begin,-1):\n",
    "            if charge[j]==1:\n",
    "                charged+=1\n",
    "                begin=j\n",
    "                break\n",
    "    print('#'+str(i)+' '+str(charged))"
   ]
  },
  {
   "cell_type": "markdown",
   "metadata": {},
   "source": [
    "# 숫자 카드 ★"
   ]
  },
  {
   "cell_type": "markdown",
   "metadata": {},
   "source": [
    "0에서 9까지 숫자가 적힌 N장의 카드가 주어진다.\n",
    "\n",
    "가장 많은 카드에 적힌 숫자와 카드가 몇 장인지 출력하는 프로그램을 만드시오. 카드 장수가 같을 때는 적힌 숫자가 큰 쪽을 출력한다.\n",
    "\n",
    "\n",
    " \n",
    "\n",
    "[입력]\n",
    " \n",
    "\n",
    "첫 줄에 테스트 케이스 개수 T가 주어진다.  ( 1 ≤ T ≤ 50 )\n",
    "\n",
    "다음 줄부터 테스트케이스의 첫 줄에 카드 장수 N이 주어진다. ( 5 ≤ N ≤ 100 )\n",
    "\n",
    "다음 줄에 N개의 숫자 ai가 여백없이 주어진다. (0으로 시작할 수도 있다.)  ( 0 ≤ ai ≤ 9 ) \n",
    "\n",
    " \n",
    "\n",
    "[출력]\n",
    " \n",
    "\n",
    "각 줄마다 \"#T\" (T는 테스트 케이스 번호)를 출력한 뒤, 가장 많은 카드의 숫자와 장 수를 차례로 출력한다.\n",
    "\n"
   ]
  },
  {
   "cell_type": "code",
   "execution_count": 3,
   "metadata": {
    "scrolled": true
   },
   "outputs": [
    {
     "name": "stdout",
     "output_type": "stream",
     "text": [
      "3\n",
      "5\n",
      "49679\n",
      "[0, 0, 0, 0, 1, 0, 1, 1, 0, 2]\n",
      "#1 9 2\n",
      "5\n",
      "08271\n",
      "[1, 1, 1, 0, 0, 0, 0, 1, 1, 0]\n",
      "#2 8 1\n",
      "10\n",
      "7797946543\n",
      "[0, 0, 0, 1, 2, 1, 1, 3, 0, 2]\n",
      "#3 7 3\n"
     ]
    }
   ],
   "source": [
    "T = int(input())\n",
    "\n",
    "for test_case in range(1, T+1):\n",
    "    N = int(input())\n",
    "    a = [int(i) for i in input()]\n",
    "        \n",
    "    count_lst = [0] * 10\n",
    "    for i in a:\n",
    "        count_lst[i] += 1\n",
    "    \n",
    "#     print(count_lst)\n",
    "        \n",
    "    max_num = 0\n",
    "    for j in range(len(count_lst)-1,-1,-1):\n",
    "        if max(count_lst) == count_lst[j]:\n",
    "            max_num = j\n",
    "            break\n",
    "    print('#%d %d %d' % (test_case, j, max(count_lst)))"
   ]
  },
  {
   "cell_type": "code",
   "execution_count": null,
   "metadata": {},
   "outputs": [],
   "source": [
    "### 다른 풀이\n",
    "T = int(input())\n",
    "# 여러개의 테스트 케이스가 주어지므로, 각각을 처리합니다.\n",
    "for test_case in range(1, T + 1):\n",
    "    num=int(input())\n",
    "    data=list(x for x in input())\n",
    "    data=list(int(x) for x in data)\n",
    "    import collections\n",
    "    count=collections.Counter(data) #data안의 각 원소의 개수를 구해주기\n",
    "    print(count)\n",
    "    keys=sorted(count) # 원소의 개수가 많은 순으로 정렬\n",
    "    for key in keys:\n",
    "        if count[key]==max(count.values()): #가장 많은 개수의 원소 반환\n",
    "            max_key=key\n",
    "            max_count=count[key]\n",
    "    print('#'+str(test_case)+' '+str(max_key)+\" \" +str(max_count))"
   ]
  },
  {
   "cell_type": "code",
   "execution_count": 40,
   "metadata": {},
   "outputs": [
    {
     "data": {
      "text/plain": [
       "[0, 1, 2, 7, 8]"
      ]
     },
     "execution_count": 40,
     "metadata": {},
     "output_type": "execute_result"
    }
   ],
   "source": [
    "keys=sorted(count)\n",
    "keys"
   ]
  },
  {
   "cell_type": "markdown",
   "metadata": {},
   "source": [
    "# 4835 구간합"
   ]
  },
  {
   "cell_type": "code",
   "execution_count": 13,
   "metadata": {},
   "outputs": [
    {
     "name": "stdout",
     "output_type": "stream",
     "text": [
      "1 \n",
      "20 19\n",
      "3266 9419 3087 9001 9321 1341 7379 6236 5795 8910 2990 2152 2249 4059 1394 6871 4911 3648 1969 2176\t\n",
      "0\n",
      "[3266, 9419, 3087, 9001, 9321, 1341, 7379, 6236, 5795, 8910, 2990, 2152, 2249, 4059, 1394, 6871, 4911, 3648, 1969]\n",
      "1\n",
      "[9419, 3087, 9001, 9321, 1341, 7379, 6236, 5795, 8910, 2990, 2152, 2249, 4059, 1394, 6871, 4911, 3648, 1969, 2176]\n",
      "[93998, 92908]\n",
      "#1 1090\n"
     ]
    }
   ],
   "source": [
    "T = int(input())\n",
    "\n",
    "for test_case in range(1, T + 1):\n",
    "    N, M = map(int, input().split())\n",
    "\n",
    "    a = list(map(int, input().split()))\n",
    "\n",
    "    M_sum = []\n",
    "    for i in range(N - M + 1):\n",
    "        M_sum.append(sum(a[i:i+M]))\n",
    "        \n",
    "    print('#%d %d' % (test_case,max(M_sum) - min(M_sum)))"
   ]
  },
  {
   "cell_type": "code",
   "execution_count": null,
   "metadata": {},
   "outputs": [],
   "source": []
  }
 ],
 "metadata": {
  "kernelspec": {
   "display_name": "Python 3",
   "language": "python",
   "name": "python3"
  },
  "toc": {
   "base_numbering": 1,
   "nav_menu": {},
   "number_sections": true,
   "sideBar": true,
   "skip_h1_title": false,
   "title_cell": "Table of Contents",
   "title_sidebar": "Contents",
   "toc_cell": false,
   "toc_position": {},
   "toc_section_display": true,
   "toc_window_display": false
  },
  "varInspector": {
   "cols": {
    "lenName": 16,
    "lenType": 16,
    "lenVar": 40
   },
   "kernels_config": {
    "python": {
     "delete_cmd_postfix": "",
     "delete_cmd_prefix": "del ",
     "library": "var_list.py",
     "varRefreshCmd": "print(var_dic_list())"
    },
    "r": {
     "delete_cmd_postfix": ") ",
     "delete_cmd_prefix": "rm(",
     "library": "var_list.r",
     "varRefreshCmd": "cat(var_dic_list()) "
    }
   },
   "types_to_exclude": [
    "module",
    "function",
    "builtin_function_or_method",
    "instance",
    "_Feature"
   ],
   "window_display": false
  }
 },
 "nbformat": 4,
 "nbformat_minor": 2
}
