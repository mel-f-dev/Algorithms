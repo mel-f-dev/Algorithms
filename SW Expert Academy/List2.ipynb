{
 "cells": [
  {
   "cell_type": "markdown",
   "metadata": {
    "heading_collapsed": true
   },
   "source": [
    "# 2차원 List"
   ]
  },
  {
   "cell_type": "markdown",
   "metadata": {
    "hidden": true
   },
   "source": [
    "## 2차원 List 입력 받기"
   ]
  },
  {
   "cell_type": "markdown",
   "metadata": {
    "hidden": true
   },
   "source": [
    "- 첫째 줄에 n행 m열\n",
    "- 둘째 줄부터 n*m의 행열 데이터가 주어질 경우 입력을 받는 방법"
   ]
  },
  {
   "cell_type": "code",
   "execution_count": 3,
   "metadata": {
    "hidden": true
   },
   "outputs": [
    {
     "name": "stdout",
     "output_type": "stream",
     "text": [
      "3 4\n",
      "[0, 0, 0]\n",
      "[0, 0, 0]\n"
     ]
    }
   ],
   "source": [
    "# 예시 1\n",
    "n,m = map(int,input().split())\n",
    "\n",
    "mylst_1 = [0 for _ in range(n)]\n",
    "mylst_2 = [0]*n\n",
    "print(mylst_1)\n",
    "print(mylst_2)\n",
    "\n",
    "for i in range(n):\n",
    "    mylst_1[i] = list(map(int, input().split())) "
   ]
  },
  {
   "cell_type": "code",
   "execution_count": 8,
   "metadata": {
    "hidden": true
   },
   "outputs": [
    {
     "name": "stdout",
     "output_type": "stream",
     "text": [
      "3 4\n",
      "0 0 0 0\n",
      "0 0 0 0\n",
      "0 0 0 0\n"
     ]
    }
   ],
   "source": [
    "# 예시 2\n",
    "n, m = map(int,input().split())\n",
    "mylst = []\n",
    "for i in range(n):\n",
    "    mylst.append(list(map(int, input().split())))"
   ]
  },
  {
   "cell_type": "code",
   "execution_count": 9,
   "metadata": {
    "hidden": true,
    "scrolled": true
   },
   "outputs": [
    {
     "name": "stdout",
     "output_type": "stream",
     "text": [
      "3 4\n",
      "0 0 0 0\n",
      "0\n",
      "0\n"
     ]
    }
   ],
   "source": [
    "# 예시 3\n",
    "n, m = map(int, input().split())\n",
    "mylst = [list(map(int, input().split())) for _ in range(n)]"
   ]
  },
  {
   "cell_type": "markdown",
   "metadata": {
    "hidden": true
   },
   "source": [
    "## 원하는 데이터 위치 찾기"
   ]
  },
  {
   "cell_type": "code",
   "execution_count": 3,
   "metadata": {
    "hidden": true
   },
   "outputs": [
    {
     "name": "stdout",
     "output_type": "stream",
     "text": [
      "3 4\n",
      "0 1 0 0\n",
      "0 0 0 0\n",
      "0 0 1 0\n"
     ]
    }
   ],
   "source": [
    "# 1이 입력된 [행,열]의 위치 찾기\n",
    "\n",
    "n, m = map(int, input().split())\n",
    "newlist=[]\n",
    "mylist = [0 for _ in range(n)]\n",
    "for i in range(n):\n",
    "    mylist[i]=list(map(int, input().split()))\n",
    "    for j in range(m):\n",
    "        if mylist[i][j] == 1:\n",
    "            newlist.append([i,j])"
   ]
  },
  {
   "cell_type": "code",
   "execution_count": 4,
   "metadata": {
    "hidden": true
   },
   "outputs": [
    {
     "name": "stdout",
     "output_type": "stream",
     "text": [
      "[[0, 1], [2, 2]]\n"
     ]
    }
   ],
   "source": [
    "print(newlist)"
   ]
  },
  {
   "cell_type": "markdown",
   "metadata": {
    "hidden": true
   },
   "source": [
    "## 리스트 순회 "
   ]
  },
  {
   "cell_type": "markdown",
   "metadata": {
    "hidden": true
   },
   "source": [
    "n*m 개의 모든 원소를 빠짐없이 조사하는 방법"
   ]
  },
  {
   "cell_type": "markdown",
   "metadata": {
    "hidden": true
   },
   "source": [
    "### 행 우선 순회"
   ]
  },
  {
   "cell_type": "code",
   "execution_count": 6,
   "metadata": {
    "hidden": true
   },
   "outputs": [
    {
     "data": {
      "text/plain": [
       "[[0, 1, 2, 3], [4, 5, 6, 7], [8, 9, 10, 11]]"
      ]
     },
     "execution_count": 6,
     "metadata": {},
     "output_type": "execute_result"
    }
   ],
   "source": [
    "# 예시\n",
    "arr = [[0,1,2,3], [4,5,6,7], [8,9,10,11]]\n",
    "# i: 행의 좌표, n = len(arr)\n",
    "# j: 열의 좌표, m = len(arr[0])\n",
    "arr"
   ]
  },
  {
   "cell_type": "code",
   "execution_count": 8,
   "metadata": {
    "hidden": true,
    "scrolled": false
   },
   "outputs": [
    {
     "name": "stdout",
     "output_type": "stream",
     "text": [
      "0\n",
      "1\n",
      "2\n",
      "3\n",
      "4\n",
      "5\n",
      "6\n",
      "7\n",
      "8\n",
      "9\n",
      "10\n",
      "11\n"
     ]
    }
   ],
   "source": [
    "for i in range(len(arr)):\n",
    "    for j in range(len(arr[i])):\n",
    "        print(arr[i][j]) # 필요한 연산 수행"
   ]
  },
  {
   "cell_type": "markdown",
   "metadata": {
    "hidden": true
   },
   "source": [
    "### 열 우선 순회"
   ]
  },
  {
   "cell_type": "code",
   "execution_count": 11,
   "metadata": {
    "hidden": true
   },
   "outputs": [
    {
     "name": "stdout",
     "output_type": "stream",
     "text": [
      "0\n",
      "4\n",
      "8\n",
      "1\n",
      "5\n",
      "9\n",
      "2\n",
      "6\n",
      "10\n",
      "3\n",
      "7\n",
      "11\n"
     ]
    }
   ],
   "source": [
    "for j in range(len(arr[0])):\n",
    "    for i in range(len(arr)):\n",
    "        print(arr[i][j]) # 필요한 연산 수행"
   ]
  },
  {
   "cell_type": "markdown",
   "metadata": {
    "hidden": true
   },
   "source": [
    "### 지그재그 순회"
   ]
  },
  {
   "cell_type": "code",
   "execution_count": null,
   "metadata": {
    "hidden": true
   },
   "outputs": [],
   "source": [
    "for i in range(len(arr)):\n",
    "    for j in range(len(arr[0])):\n",
    "        arr[i][j + (m-1-2*j)*(i%2)]\n",
    "        # 필요한 연산 수행"
   ]
  },
  {
   "cell_type": "markdown",
   "metadata": {
    "hidden": true
   },
   "source": [
    "## 델타를 이용한 2차 리스트 탐색 ★"
   ]
  },
  {
   "cell_type": "markdown",
   "metadata": {
    "hidden": true
   },
   "source": [
    "- 2차 리스트의 한 좌표에서 네 방향의 인접 list 요소를 탐색할 때 사용\n",
    "- 델타 값은 한 좌표에서 네 방향의 좌표와 x, y의 차이를 저장한 list로 구현\n",
    "- 델타 값을 이용하여 특정 원소의 상하좌우에 위치한 원소에 접근할 수 있음\n",
    "- 가장자리 원소들은 상하좌우 네 방향에 원소가 존재하지 않을 경우가 있으므로, index를 체크하거나 범위를 제한해야 함"
   ]
  },
  {
   "cell_type": "code",
   "execution_count": 12,
   "metadata": {
    "collapsed": true,
    "hidden": true
   },
   "outputs": [
    {
     "name": "stdout",
     "output_type": "stream",
     "text": [
      "3\n",
      "1\n",
      "8\n",
      "4\n",
      "0\n",
      "2\n",
      "9\n",
      "5\n",
      "1\n",
      "3\n",
      "10\n",
      "6\n",
      "2\n"
     ]
    },
    {
     "ename": "IndexError",
     "evalue": "list index out of range",
     "output_type": "error",
     "traceback": [
      "\u001b[1;31m---------------------------------------------------------------------------\u001b[0m",
      "\u001b[1;31mIndexError\u001b[0m                                Traceback (most recent call last)",
      "\u001b[1;32m<ipython-input-12-1b7a774d7308>\u001b[0m in \u001b[0;36m<module>\u001b[1;34m\u001b[0m\n\u001b[0;32m      9\u001b[0m             \u001b[0mtestX\u001b[0m \u001b[1;33m=\u001b[0m \u001b[0mx\u001b[0m \u001b[1;33m+\u001b[0m \u001b[0mdx\u001b[0m\u001b[1;33m[\u001b[0m\u001b[0mi\u001b[0m\u001b[1;33m]\u001b[0m\u001b[1;33m\u001b[0m\u001b[1;33m\u001b[0m\u001b[0m\n\u001b[0;32m     10\u001b[0m             \u001b[0mtestY\u001b[0m \u001b[1;33m=\u001b[0m \u001b[0my\u001b[0m \u001b[1;33m+\u001b[0m \u001b[0mdy\u001b[0m\u001b[1;33m[\u001b[0m\u001b[0mi\u001b[0m\u001b[1;33m]\u001b[0m\u001b[1;33m\u001b[0m\u001b[1;33m\u001b[0m\u001b[0m\n\u001b[1;32m---> 11\u001b[1;33m             \u001b[0mprint\u001b[0m\u001b[1;33m(\u001b[0m\u001b[0marr\u001b[0m\u001b[1;33m[\u001b[0m\u001b[0mtestX\u001b[0m\u001b[1;33m]\u001b[0m\u001b[1;33m[\u001b[0m\u001b[0mtestY\u001b[0m\u001b[1;33m]\u001b[0m\u001b[1;33m)\u001b[0m\u001b[1;33m\u001b[0m\u001b[1;33m\u001b[0m\u001b[0m\n\u001b[0m",
      "\u001b[1;31mIndexError\u001b[0m: list index out of range"
     ]
    }
   ],
   "source": [
    "# 예시\n",
    "# arr[0...n-1][0...n-1]: 2차원 리스트\n",
    "dx = [0, 0, -1, 1] # 상하좌우\n",
    "dy = [-1, 1, 0, 0]\n",
    "\n",
    "for x in range(len(arr)):\n",
    "    for y in range(len(arr[x])):\n",
    "        for i in range(4):\n",
    "            testX = x + dx[i]\n",
    "            testY = y + dy[i]\n",
    "            print(arr[testX][testY])"
   ]
  },
  {
   "cell_type": "markdown",
   "metadata": {
    "heading_collapsed": true
   },
   "source": [
    "# 부분집합의 합 문제\n"
   ]
  },
  {
   "cell_type": "markdown",
   "metadata": {
    "hidden": true
   },
   "source": [
    "집합의 부분 집합 중 그 집합의 원소를 모두 더한 값이 0이 되는 경우가 있는가\n",
    "\n",
    "1. 완전 검색기법 -> 모든 부분집합을 생성, 각 부분 집합의 합 계산\n",
    "2. 주어진 집합의 부분 집합을 생성하는 방법 고려"
   ]
  },
  {
   "cell_type": "markdown",
   "metadata": {
    "hidden": true
   },
   "source": [
    "##  부분집합의 수\n",
    "- 2^n개"
   ]
  },
  {
   "cell_type": "markdown",
   "metadata": {
    "hidden": true
   },
   "source": [
    "### Loop를 이용하여 확인하고 부분 집합 생성"
   ]
  },
  {
   "cell_type": "code",
   "execution_count": 3,
   "metadata": {
    "hidden": true
   },
   "outputs": [
    {
     "name": "stdout",
     "output_type": "stream",
     "text": [
      "[0, 0, 0, 0]\n",
      "[0, 0, 0, 1]\n",
      "[0, 0, 1, 0]\n",
      "[0, 0, 1, 1]\n",
      "[0, 1, 0, 0]\n",
      "[0, 1, 0, 1]\n",
      "[0, 1, 1, 0]\n",
      "[0, 1, 1, 1]\n",
      "[1, 0, 0, 0]\n",
      "[1, 0, 0, 1]\n",
      "[1, 0, 1, 0]\n",
      "[1, 0, 1, 1]\n",
      "[1, 1, 0, 0]\n",
      "[1, 1, 0, 1]\n",
      "[1, 1, 1, 0]\n",
      "[1, 1, 1, 1]\n"
     ]
    }
   ],
   "source": [
    "# bit list : 대상 리스트의 각 원소를 포함할지 말지를 정하는 list\n",
    "bit = [0, 0, 0, 0]\n",
    "for i in range(2):\n",
    "    bit[0] = i     # 0번째 원소\n",
    "    for j in range(2):\n",
    "        bit[1] = j      # 1번째 원소\n",
    "        for k in range(2):\n",
    "            bit[2] = k    # 2번째 원소\n",
    "            for l in range(2):\n",
    "                bit[3] = l      # 3번째 원소\n",
    "                print(bit)"
   ]
  },
  {
   "cell_type": "markdown",
   "metadata": {
    "hidden": true
   },
   "source": [
    "### 비트연산자"
   ]
  },
  {
   "cell_type": "markdown",
   "metadata": {
    "hidden": true
   },
   "source": [
    "& | <<(피연산자가 비트 열을 왼쪽으로 이동시킴) >>(피연산자가 비트 열을 오른쪽으로 이동시킴)\n",
    "\n",
    "- 1 << n: 2^n: 원소가 n개일 경우의 모든 부분 집합의 수\n",
    "- i & (1<<j):1: i에서 j번째 비트가 1인지 아닌지 리턴"
   ]
  },
  {
   "cell_type": "markdown",
   "metadata": {
    "hidden": true
   },
   "source": [
    "## 간결하게 부분집합 생성"
   ]
  },
  {
   "cell_type": "code",
   "execution_count": 8,
   "metadata": {
    "collapsed": true,
    "hidden": true
   },
   "outputs": [
    {
     "name": "stdout",
     "output_type": "stream",
     "text": [
      "\n",
      "\n",
      "6,1,4,\n",
      "6,1,4,\n",
      "7,1,\n",
      "7,1,\n",
      "6,7,1,4,\n",
      "6,7,1,4,\n",
      "5,4,\n",
      "5,4,\n",
      "6,1,5,4,\n",
      "6,1,5,4,\n",
      "7,1,5,4,\n",
      "7,1,5,4,\n",
      "6,7,1,5,4,\n",
      "6,7,1,5,4,\n",
      "\n",
      "\n",
      "6,1,4,\n",
      "6,1,4,\n",
      "7,1,\n",
      "7,1,\n",
      "6,7,1,4,\n",
      "6,7,1,4,\n",
      "5,4,\n",
      "5,4,\n",
      "6,1,5,4,\n",
      "6,1,5,4,\n",
      "7,1,5,4,\n",
      "7,1,5,4,\n",
      "6,7,1,5,4,\n",
      "6,7,1,5,4,\n",
      "\n",
      "\n",
      "6,1,4,\n",
      "6,1,4,\n",
      "7,1,\n",
      "7,1,\n",
      "6,7,1,4,\n",
      "6,7,1,4,\n",
      "5,4,\n",
      "5,4,\n",
      "6,1,5,4,\n",
      "6,1,5,4,\n",
      "7,1,5,4,\n",
      "7,1,5,4,\n",
      "6,7,1,5,4,\n",
      "6,7,1,5,4,\n",
      "\n",
      "\n",
      "6,1,4,\n",
      "6,1,4,\n",
      "7,1,\n",
      "7,1,\n",
      "6,7,1,4,\n",
      "6,7,1,4,\n",
      "5,4,\n",
      "5,4,\n",
      "6,1,5,4,\n",
      "6,1,5,4,\n",
      "7,1,5,4,\n",
      "7,1,5,4,\n",
      "6,7,1,5,4,\n",
      "6,7,1,5,4,\n"
     ]
    }
   ],
   "source": [
    "arr = [3, 6, 7, 1, 5, 4]\n",
    "n = len(arr)\n",
    "\n",
    "for i in range(1<<n):    # 부분집합의 개수\n",
    "    for j in range(n):    # 원소의 수만큼 비트를 비교, 원소의 포함 여부 판단\n",
    "        if i&(j<<1):    # i의 j번째 비트가 1이면 j번째 원소 출력\n",
    "            print(arr[j], end = \",\")\n",
    "        \n",
    "    print()"
   ]
  },
  {
   "cell_type": "markdown",
   "metadata": {},
   "source": [
    "# 검색"
   ]
  },
  {
   "cell_type": "markdown",
   "metadata": {},
   "source": [
    "##  순차검색\n",
    "- 정렬\n",
    "- 정렬 X"
   ]
  },
  {
   "cell_type": "markdown",
   "metadata": {},
   "source": [
    "### 정렬되지 않은 자료의 검색\n",
    "- 첫번째 원소부터 순서대로 검색대상과 키값이 같은 원소가 있는지 비교\n",
    "- 키 값이 동일한 원소의 인덱스 반환"
   ]
  },
  {
   "cell_type": "code",
   "execution_count": null,
   "metadata": {},
   "outputs": [],
   "source": [
    "# 예시\n",
    "def sequentialSearch(a, n, key):\n",
    "    i = 0\n",
    "    while i < n and a[i] != key:\n",
    "        i += 1\n",
    "    if i < n: \n",
    "        return i\n",
    "    else:\n",
    "        return -1"
   ]
  },
  {
   "cell_type": "markdown",
   "metadata": {},
   "source": [
    "### 정렬된 자료의 검색\n",
    "- 자료가 오름차순으로 정렬된 상태에서 검색을 실시한다고 가정\n",
    "- 자료를 순차적으로 검색하면서 키 값 비교\n",
    "- 원소의 키 값이 검색 대상의 키 값보다 크면 원소가 없다는 것이므로 종료"
   ]
  },
  {
   "cell_type": "markdown",
   "metadata": {
    "heading_collapsed": true
   },
   "source": [
    "## 이진검색\n",
    "- 검색 범위의 시작점과 종료점을 이용하여 검색을 반복 수행\n",
    "- 자료에 삽입이나 삭제가 발생하였을 때 List의 상태를 항상 정렬 상태로 유지하는 추가 작업 필요"
   ]
  },
  {
   "cell_type": "code",
   "execution_count": null,
   "metadata": {
    "hidden": true
   },
   "outputs": [],
   "source": [
    "# 예시\n",
    "def binarySearch(a, key):\n",
    "    start = 0\n",
    "    end = len(a) - 1\n",
    "    while start <= end:\n",
    "        middle = start + (end - start)// 2\n",
    "        if key == a[middle]:    # 검색 성공\n",
    "            end = middle - 1\n",
    "        else:\n",
    "            start = middle + 1\n",
    "    return False    # 검색 실패"
   ]
  },
  {
   "cell_type": "markdown",
   "metadata": {},
   "source": [
    "# 4836 색칠하기 ★"
   ]
  },
  {
   "cell_type": "code",
   "execution_count": 8,
   "metadata": {},
   "outputs": [
    {
     "name": "stdout",
     "output_type": "stream",
     "text": [
      "1\n",
      "2\n",
      "2 2 4 4 1\n",
      "3 3 6 6 2\n",
      "#1 0\n"
     ]
    }
   ],
   "source": [
    "T = int(input())\n",
    "\n",
    "for test_case in range(1, T+1):    \n",
    "    N = int(input())\n",
    "    for j in range(N):\n",
    "        r1, c1, r2, c2, color = map(int,input().split())\n",
    "        result = 0\n",
    "    print('#{} {}'.format(test_case, result))\n"
   ]
  },
  {
   "cell_type": "code",
   "execution_count": 14,
   "metadata": {},
   "outputs": [
    {
     "ename": "AttributeError",
     "evalue": "'list' object has no attribute 'add'",
     "output_type": "error",
     "traceback": [
      "\u001b[1;31m---------------------------------------------------------------------------\u001b[0m",
      "\u001b[1;31mAttributeError\u001b[0m                            Traceback (most recent call last)",
      "\u001b[1;32m<ipython-input-14-08c4c2a714b5>\u001b[0m in \u001b[0;36m<module>\u001b[1;34m\u001b[0m\n\u001b[0;32m      2\u001b[0m \u001b[0mcol\u001b[0m\u001b[1;33m\u001b[0m\u001b[1;33m\u001b[0m\u001b[0m\n\u001b[0;32m      3\u001b[0m \u001b[1;33m\u001b[0m\u001b[0m\n\u001b[1;32m----> 4\u001b[1;33m \u001b[0mcol\u001b[0m\u001b[1;33m.\u001b[0m\u001b[0madd\u001b[0m\u001b[1;33m(\u001b[0m\u001b[1;33m(\u001b[0m\u001b[1;36m1\u001b[0m\u001b[1;33m,\u001b[0m\u001b[1;36m3\u001b[0m\u001b[1;33m)\u001b[0m\u001b[1;33m)\u001b[0m\u001b[1;33m\u001b[0m\u001b[1;33m\u001b[0m\u001b[0m\n\u001b[0m\u001b[0;32m      5\u001b[0m \u001b[0mcol\u001b[0m\u001b[1;33m\u001b[0m\u001b[1;33m\u001b[0m\u001b[0m\n",
      "\u001b[1;31mAttributeError\u001b[0m: 'list' object has no attribute 'add'"
     ]
    }
   ],
   "source": [
    "col = [(1,1)]*10\n",
    "col\n",
    "\n",
    "col.add((1,3))\n",
    "col"
   ]
  },
  {
   "cell_type": "code",
   "execution_count": null,
   "metadata": {},
   "outputs": [],
   "source": [
    "# 다른 풀이1\n",
    "from collections import Counter\n",
    "T=int(input())\n",
    "for i in range(1,T+1):\n",
    "    N=int(input())\n",
    "    arr=[]\n",
    "    for n in range(N):\n",
    "        arr.append(list(map(int,input().split())))\n",
    "    arr2=[]\n",
    "    for j in range(N):\n",
    "        for r1 in range(arr[j][0],arr[j][2]+1):\n",
    "            for r2 in range(arr[j][1],arr[j][3]+1):\n",
    "                arr2.append((r1,r2))\n",
    "    counts=Counter(arr2)\n",
    "    colored=0\n",
    "    for m in counts.values():\n",
    "        if m>=2:\n",
    "            colored+=1\n",
    "    print('#%s %d' %(i,colored))"
   ]
  },
  {
   "cell_type": "code",
   "execution_count": null,
   "metadata": {},
   "outputs": [],
   "source": [
    "# 다른 풀이 2\n",
    "T = int(input())\n",
    "# 여러개의 테스트 케이스가 주어지므로, 각각을 처리합니다.\n",
    "for test_case in range(1, T + 1):\n",
    "    # ///////////////////////////////////////////////////////////////////////////////////\n",
    "    squarenum=int(input())  # 색칠영역 개수\n",
    "    col=[set(), set()]   #col[0]은 빨강, col[1]은 파랑\n",
    "    for i in range(squarenum):\n",
    "        x1, y1, x2, y2, color=map(int, input().split())\n",
    "        for x in range(x1, x2+1):\n",
    "            for y in range(y1, y2+1):\n",
    "                col[color-1].add((x,y))\n",
    "    ret=len(col[0] & col[1])\n",
    "    print('# {} {}'.format(test_case, ret)) "
   ]
  },
  {
   "cell_type": "markdown",
   "metadata": {},
   "source": [
    "# 4837 부분집합의 합"
   ]
  },
  {
   "cell_type": "markdown",
   "metadata": {},
   "source": [
    "- A = [1, 2, 3, 4, 5, 6, 7, 8, 9, 10, 11, 12]\n",
    "- A 부분 집합 중 N개의 원소, 원소 합이 K인 부분집합 개수\n",
    "- 첫 줄에 테스트 케이스 개수 T가 주어진다.  ( 1 ≤ T ≤ 50 ) \n",
    "- 테스트 케이스 별로 부분집합 원소의 수 N과 부분 집합의 합 K가 여백을 두고 주어진다. ( 1 ≤ N ≤ 12, 1 ≤ K ≤ 100 )"
   ]
  },
  {
   "cell_type": "code",
   "execution_count": 2,
   "metadata": {
    "scrolled": true
   },
   "outputs": [
    {
     "name": "stdout",
     "output_type": "stream",
     "text": [
      "3\n",
      "3 6\n",
      "#1 1\n",
      "5 15\n",
      "#2 1\n",
      "5 10\n",
      "#3 0\n"
     ]
    }
   ],
   "source": [
    "T = int(input())\n",
    "A = list(range(1, 13))\n",
    "A_len = len(A)\n",
    "\n",
    "subset_lst = []\n",
    "for i in range(1<<A_len):\n",
    "    subset = []\n",
    "    for j in range(A_len):\n",
    "        if i & (1 << j):\n",
    "            subset.append(A[j])\n",
    "    subset_lst.append(subset)\n",
    "\n",
    "for test_case in range(1, T+1):\n",
    "    N, K = map(int, input().split())\n",
    "    count_k = []\n",
    "    for k in subset_lst:\n",
    "        if len(k) == N and sum(k) == K:\n",
    "            count_k.append(k)\n",
    "            \n",
    "    print('#%d %d' % (test_case, len(count_k)))"
   ]
  },
  {
   "cell_type": "markdown",
   "metadata": {},
   "source": [
    "# 4839 이진탐색 ★"
   ]
  },
  {
   "cell_type": "markdown",
   "metadata": {},
   "source": [
    "- 테스트 케이스 별로 책의 전체 쪽 수 P, A, B가 찾을 쪽 번호 Pa, Pb가 차례로 주어진다. 1<= P, Pa, Pb <=1000\n",
    "- 각 줄마다 \"#T\" (T는 테스트 케이스 번호)를 출력한 뒤, A, B, 0 중 하나를 출력"
   ]
  },
  {
   "cell_type": "code",
   "execution_count": null,
   "metadata": {},
   "outputs": [
    {
     "name": "stdout",
     "output_type": "stream",
     "text": [
      "3\n",
      "400 300 350\n"
     ]
    }
   ],
   "source": [
    "T = int(input())\n",
    "\n",
    "def count_num(start, end, X):\n",
    "    count_x = 0\n",
    "    while start <= end:\n",
    "            middle = (start + (end - start)) //2\n",
    "            if middle == X:\n",
    "                end = middle - 1\n",
    "                count_x += 1\n",
    "\n",
    "            else:\n",
    "                start = middle + 1\n",
    "                count_x += 1\n",
    "\n",
    "\n",
    "for test_case in range(1, T+1):\n",
    "    P, A, B = map(int, input().split())\n",
    "    \n",
    "    start = 1\n",
    "    end = P\n",
    "    \n",
    "    if count_num(start, end, A) > count_num(start, end, B):\n",
    "        print(\"A\")\n",
    "    else:\n",
    "        print(\"B\")\n",
    "    \n",
    "    \n",
    "            \n",
    "    "
   ]
  },
  {
   "cell_type": "code",
   "execution_count": null,
   "metadata": {},
   "outputs": [],
   "source": [
    "T = int(input())\n",
    "\n",
    "for test_case in range(1, T+1):\n",
    "    P, A, B = map(int, input().split())"
   ]
  },
  {
   "cell_type": "code",
   "execution_count": null,
   "metadata": {},
   "outputs": [],
   "source": [
    "# 다른 풀이\n",
    "T = int(input())\n",
    "# 여러개의 테스트 케이스가 주어지므로, 각각을 처리합니다.\n",
    "for test_case in range(1, T + 1):\n",
    "    # ///////////////////////////////////////////////////////////////////////////////////\n",
    "    P,A,B=map(int, input().split())\n",
    "    #A의 시행횟수\n",
    "    left=1\n",
    "    right=P\n",
    "    Atry=0\n",
    "    Btry=0\n",
    "    while 1:\n",
    "        C=int((left+right)/2)\n",
    "        Atry += 1\n",
    "        if C == A:\n",
    "            break\n",
    "        elif C < A:\n",
    "            left=C\n",
    "        else: \n",
    "            right=C\n",
    "    #B의 시행횟수\n",
    "    left=1\n",
    "    right=P\n",
    "    while 1:\n",
    "        C=int((left+right)/2)\n",
    "        Btry += 1\n",
    "        if C == B:\n",
    "            break\n",
    "        elif C < B:\n",
    "            left=C\n",
    "        else: \n",
    "            right=C\n",
    "    if Atry > Btry: ret='B'\n",
    "    elif Btry > Atry: ret='A'\n",
    "    else: ret='0'\n",
    "    print('# %d %c' %(test_case, ret))"
   ]
  },
  {
   "cell_type": "markdown",
   "metadata": {},
   "source": [
    "# 4843 특별한 정렬"
   ]
  },
  {
   "cell_type": "markdown",
   "metadata": {},
   "source": [
    "```\n",
    "N개의 정수가 주어지면 가장 큰 수, 가장 작은 수, 2번째 큰 수, 2번째 작은 수 식으로 큰 수와 작은 수를 번갈아 정렬\n",
    "10 1 9 2 8 3 7 4 6 5\n",
    "주어진 숫자에 대해 특별한 정렬을 한 결과를 10개까지 출력\n",
    "```"
   ]
  },
  {
   "cell_type": "code",
   "execution_count": 1,
   "metadata": {},
   "outputs": [
    {
     "name": "stdout",
     "output_type": "stream",
     "text": [
      "1\n",
      "10\n",
      "1 2 3 4 5 6 7 8 9 10\n",
      "#1 10 1 9 2 8 3 7 4 6 5\n"
     ]
    }
   ],
   "source": [
    "T = int(input())\n",
    "\n",
    "for test_case in range(1, T+1):\n",
    "    N = int(input())\n",
    "    a = list(map(int, input().split()))\n",
    "    \n",
    "    re_arr = []\n",
    "    for i in range(5):\n",
    "        re_arr.append(max(a))\n",
    "        re_arr.append(min(a))\n",
    "        a.remove(max(a))\n",
    "        a.remove(min(a))\n",
    "    \n",
    "    result = ''\n",
    "    for i in re_arr:\n",
    "        result = result + ' ' + str(i)\n",
    "    print('#{}{}'.format(test_case, result))"
   ]
  },
  {
   "cell_type": "code",
   "execution_count": 1,
   "metadata": {},
   "outputs": [],
   "source": [
    "# remove -> 시간 오래걸리는 함수\n",
    "\n",
    "# 반복문 짝수번, 홀수번 [0]*10 각 자리에 번갈아 대입"
   ]
  },
  {
   "cell_type": "code",
   "execution_count": null,
   "metadata": {},
   "outputs": [],
   "source": []
  }
 ],
 "metadata": {
  "kernelspec": {
   "display_name": "Python 3",
   "language": "python",
   "name": "python3"
  },
  "language_info": {
   "codemirror_mode": {
    "name": "ipython",
    "version": 3
   },
   "file_extension": ".py",
   "mimetype": "text/x-python",
   "name": "python",
   "nbconvert_exporter": "python",
   "pygments_lexer": "ipython3",
   "version": "3.7.5"
  },
  "toc": {
   "base_numbering": 1,
   "nav_menu": {},
   "number_sections": true,
   "sideBar": true,
   "skip_h1_title": false,
   "title_cell": "Table of Contents",
   "title_sidebar": "Contents",
   "toc_cell": false,
   "toc_position": {},
   "toc_section_display": true,
   "toc_window_display": false
  },
  "varInspector": {
   "cols": {
    "lenName": 16,
    "lenType": 16,
    "lenVar": 40
   },
   "kernels_config": {
    "python": {
     "delete_cmd_postfix": "",
     "delete_cmd_prefix": "del ",
     "library": "var_list.py",
     "varRefreshCmd": "print(var_dic_list())"
    },
    "r": {
     "delete_cmd_postfix": ") ",
     "delete_cmd_prefix": "rm(",
     "library": "var_list.r",
     "varRefreshCmd": "cat(var_dic_list()) "
    }
   },
   "types_to_exclude": [
    "module",
    "function",
    "builtin_function_or_method",
    "instance",
    "_Feature"
   ],
   "window_display": false
  }
 },
 "nbformat": 4,
 "nbformat_minor": 2
}
