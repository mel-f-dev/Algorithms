{
 "cells": [
  {
   "cell_type": "markdown",
   "metadata": {},
   "source": [
    "# 큐의 종류"
   ]
  },
  {
   "cell_type": "markdown",
   "metadata": {},
   "source": [
    "##  선형 큐"
   ]
  },
  {
   "cell_type": "markdown",
   "metadata": {},
   "source": [
    "1. 1차원 리스트를 이용한 큐\n",
    " - 큐의 크기 = 리스트의 크기\n",
    " - front: 첫 번째 원소의 인덱스\n",
    " - rear: 저장된 마지막 원소의 인덱스\n",
    "\n",
    "2. 상태 표현\n",
    " - 초기 상태: front = rear = -1\n",
    " - 공백 상태: front = rear\n",
    " - 포화 상태: rear = n-1(리스트의 마지막 인덱스)"
   ]
  },
  {
   "cell_type": "markdown",
   "metadata": {},
   "source": [
    "## 원형 큐"
   ]
  },
  {
   "cell_type": "code",
   "execution_count": 1,
   "metadata": {},
   "outputs": [
    {
     "name": "stdout",
     "output_type": "stream",
     "text": [
      "Queue_Full\n",
      "<function deQueue at 0x000001EB758FCD38>\n",
      "<function deQueue at 0x000001EB758FCD38>\n",
      "<function deQueue at 0x000001EB758FCD38>\n"
     ]
    }
   ],
   "source": [
    "# 원형 큐의 삽입 및 삭제 함수\n",
    "def isEmpty():\n",
    "    return front == rear\n",
    "\n",
    "def isFull():\n",
    "    return (rear+1) % len(cQ) == front\n",
    "\n",
    "def enQueue(item): # 원형 큐의 삽입 연산\n",
    "    global rear\n",
    "    if isFull():\n",
    "        print(\"Queue_Full\")\n",
    "    else:\n",
    "        rear = (rear + 1) % len(cQ)\n",
    "        cQ[rear] = item\n",
    "        \n",
    "def deQueue(): # 원형 큐의 삭제 연산\n",
    "    global front\n",
    "    if isEmpty():\n",
    "        print(\"Queue_Empty\")\n",
    "    else:\n",
    "        front = (front+1) % len(cQ)\n",
    "        return cQ[front]\n",
    "\n",
    "cQ_SIZE = 3\n",
    "cQ = [0]*cQ_SIZE\n",
    "\n",
    "# front, rear를 0으로 초기화\n",
    "front = rear = 0\n",
    "\n",
    "enQueue('A')\n",
    "enQueue('B')\n",
    "enQueue('C')\n",
    "print(deQueue)\n",
    "print(deQueue)\n",
    "print(deQueue)"
   ]
  },
  {
   "cell_type": "code",
   "execution_count": null,
   "metadata": {},
   "outputs": [],
   "source": [
    "front: 리스트의 맨 앞: -1\n",
    "rear: 리스트의 맨 뒤: len(queue) -1"
   ]
  },
  {
   "cell_type": "code",
   "execution_count": 2,
   "metadata": {},
   "outputs": [
    {
     "name": "stdout",
     "output_type": "stream",
     "text": [
      "<function deQueue at 0x000001EB743E5798>\n",
      "<function deQueue at 0x000001EB743E5798>\n",
      "<function deQueue at 0x000001EB743E5798>\n"
     ]
    }
   ],
   "source": [
    "def enQueue(item):\n",
    "    queue.append(item)\n",
    "\n",
    "def deQueue():\n",
    "    if isEmpty():\n",
    "        print(\"Queue_Empty\")\n",
    "    else:\n",
    "        return queue.pop(0)\n",
    "    \n",
    "def isEmpty():\n",
    "    return len(queue) == 0\n",
    "\n",
    "def Qpeek():\n",
    "    if isEmpty():\n",
    "        print(\"Queue_Empty\")\n",
    "    else:\n",
    "        return queue[0]\n",
    "    \n",
    "queue = []\n",
    "\n",
    "enQueue('A')\n",
    "enQueue('B')\n",
    "enQueue('C')\n",
    "print(deQueue)\n",
    "print(deQueue)\n",
    "print(deQueue)"
   ]
  },
  {
   "cell_type": "markdown",
   "metadata": {},
   "source": [
    "## 연결 큐"
   ]
  },
  {
   "cell_type": "code",
   "execution_count": 1,
   "metadata": {},
   "outputs": [],
   "source": [
    "# 예\n",
    "class Node:\n",
    "    def __init__(self, item, n=None):\n",
    "        self.item = item\n",
    "        self.next = n\n",
    "    \n",
    "def enQueue(item): # 연결 큐의 삽입 연산\n",
    "    global front, rear\n",
    "    newNode = Node(item) # 새로운 노드 생성\n",
    "    if front == None: # 큐가 비어있다면\n",
    "        front = newNode\n",
    "    else:\n",
    "        rear.next = newNode\n",
    "    rear = newNode\n",
    "\n",
    "def isEmpty():\n",
    "    return front == None\n",
    "\n",
    "def deQueue(): # 연결 큐의 삭제 연산\n",
    "    global front, rear\n",
    "    if isEmpty():\n",
    "        print(\"Queue_Empty\")\n",
    "        return None\n",
    "    item = front.item\n",
    "    front = front.next\n",
    "    if front == None:\n",
    "        rear = None\n",
    "    return item\n",
    "\n",
    "def Qpeek():\n",
    "    return front.item\n",
    "\n",
    "def printQ():\n",
    "    f = front\n",
    "    s = \"\"\n",
    "    while f:\n",
    "        s += f.item + \"\"\n",
    "        f = f.next\n",
    "    return s"
   ]
  },
  {
   "cell_type": "code",
   "execution_count": 2,
   "metadata": {},
   "outputs": [
    {
     "name": "stdout",
     "output_type": "stream",
     "text": [
      "A\n",
      "B\n",
      "C\n"
     ]
    }
   ],
   "source": [
    "front = None\n",
    "rear = None\n",
    "\n",
    "enQueue('A')\n",
    "enQueue('B')\n",
    "enQueue('C')\n",
    "printQ()\n",
    "print(deQueue())\n",
    "print(deQueue())\n",
    "print(deQueue())"
   ]
  },
  {
   "cell_type": "markdown",
   "metadata": {},
   "source": [
    "# 큐 모듈에 정의된 클래스"
   ]
  },
  {
   "cell_type": "markdown",
   "metadata": {},
   "source": [
    "|클래스|내용|\n",
    "|:-----:|:--------|\n",
    "|queue.Queue(maxsize)|선입선출 큐 객체 생성|\n",
    "|queue.LifoQueue(maxsize)|스택 개념의 후입선출, 큐 객체 생성|\n",
    "|queue.PriorityQueue(maxsize)|- 우선순위 큐 객체 생성<br> - 입력되는 아이템의 형식은 (순위, 아이템)의 튜플로 입력<br> - 숫자가 작을수록 높은 우선순위|\n",
    "* maxsize: 최대 아이템수, 지정하지 않거나 음수이면 내용만큼 늘어남 "
   ]
  },
  {
   "cell_type": "markdown",
   "metadata": {},
   "source": [
    "다음과 같은 동일한 메서드를 가짐\n",
    "\n",
    "\n",
    "|메서드|내용|\n",
    "|:-----:|:--------|\n",
    "|qsize()|큐 객체에 입력된 아이템의 개수 반환|\n",
    "|put(item[, block[, timeout]]|큐 객체에 아이템 입력|\n",
    "|get([block[, timeout]])|생성된 큐 객체 특성에 맞추어 아이템 1개 반환|\n",
    "|empty()|큐 객체가 비어있으면 True 리턴|\n",
    "|full()|큐 객체가 꽉 차 있으면 True 리턴|\n",
    "\n",
    "클래스 정렬방식에 따라 get 계열의 메서드 결과가 달라짐"
   ]
  },
  {
   "cell_type": "code",
   "execution_count": 3,
   "metadata": {},
   "outputs": [
    {
     "name": "stdout",
     "output_type": "stream",
     "text": [
      "A\n",
      "B\n",
      "C\n"
     ]
    }
   ],
   "source": [
    "# 선입선출의 큐 개념을 구현한 큐 클래스 활용, 큐 모듈 활용한 예\n",
    "\n",
    "import queue\n",
    "\n",
    "q = queue.Queue()    # FIFO 구조 큐 생성\n",
    "q.put('A')\n",
    "q.put('B')\n",
    "q.put('C')\n",
    "\n",
    "while not q.empty():\n",
    "    print(q.get())"
   ]
  },
  {
   "cell_type": "markdown",
   "metadata": {},
   "source": [
    "# Queue의 활용"
   ]
  },
  {
   "cell_type": "markdown",
   "metadata": {},
   "source": [
    "## 우선순위 큐\n",
    "- 우선순위를 가진 항목들을 저장\n",
    "- 선입선출이 아니라 우선순위가 높은 순서대로 먼저 나가게 됨\n",
    "- 적용분야: 시뮬레이션 시스템, 네트워크 트래픽 제어, 운영체제의 테스크 스케줄링"
   ]
  },
  {
   "cell_type": "markdown",
   "metadata": {},
   "source": [
    "### 리스트를 이용한 구현\n",
    "- 리스트를 이용하여 자료 저장\n",
    "- 원소를 삽입하는 과정에서 우선순위를 비교하여 적절한 위치에 삽입하는 구조\n",
    "- 가장 앞에 최고 우선순위의 원소가 위치<br>\n",
    "<br>\n",
    "\n",
    "**문제점**\n",
    "- 리스트를 사용 => 삽입이나 삭제 연산이 일어날 때 원소의 재배치 발생\n",
    "- 소요되는 시간이 많이 걸림 <br>\n",
    "<br>\n",
    "\n",
    "**해결방법**\n",
    "- PriorityQueue(maxsize) 클래스 사용\n",
    "- 힙 자료구조 사용"
   ]
  },
  {
   "cell_type": "markdown",
   "metadata": {},
   "source": [
    "### 예: 버퍼\n",
    "- 버퍼: 데이터를 한 곳에서 다른 한 곳으로 전송하는 동안 일시적으로 그 데이터를 보관하는 메모리 영역\n",
    "- 버퍼링: 버퍼를 활용하는 방식 또는 버퍼를 채우는 동작\n",
    "- 버퍼의 자료구조\n",
    "    1. 일반적으로 입출력 및 네트워크와 관련된 기능에서 사용\n",
    "    2. 순서대로 입력/출력/전달 되어야 하므로 선입선출 방식의 자료 구조인 큐가 활용된다."
   ]
  },
  {
   "cell_type": "markdown",
   "metadata": {},
   "source": [
    "# BFS(너비 우선 탐색)\n",
    "- 큐 활용\n",
    "- 시작점의 인접한 정점들을 모두 차례로 방문한 후 방문했던 정점을 시작점으로 하여 다시 인접한 정점들을 차례로 방문하는 방식\n",
    "- 인접한 정점들을 탐색한 후, 차례로 너비 우선 탐색을 진행해야 하므로, 선입선출 형태의 자료구조인 큐 활용"
   ]
  },
  {
   "cell_type": "markdown",
   "metadata": {},
   "source": [
    "## BFS 알고리즘\n",
    "- 입력 파라미터\n",
    "    1. 그래프 G \n",
    "    2. 탐색 시작점 v"
   ]
  },
  {
   "cell_type": "code",
   "execution_count": 6,
   "metadata": {},
   "outputs": [],
   "source": [
    "def BFS(G, v): # 그래프 G, 탐색 시작점 v\n",
    "    visitied = [0]*n    # n: 정점의 개수\n",
    "    queue = []    # 큐 생성\n",
    "    queue.append(v)    # 시작점 v를 큐에 삽입\n",
    "    while queue:    # 큐가 비어있지 않은 경우\n",
    "        t = queue.pop(0)    # 큐의 첫번째 원소 반환\n",
    "        if not visited[t]:    # 방문되지 않은 곳이라면\n",
    "            visited[t] = True    # 방문한 것으로 표시\n",
    "            visit(t)\n",
    "        for i in G[t]:    # t와 연결된 모든 선에 대해\n",
    "            if not visitied[i]:    # 방문되지 않은 곳이라면\n",
    "                queue.append(i)    # 큐에 넣기"
   ]
  },
  {
   "cell_type": "markdown",
   "metadata": {},
   "source": [
    "# 회전"
   ]
  },
  {
   "cell_type": "code",
   "execution_count": 20,
   "metadata": {},
   "outputs": [
    {
     "name": "stdout",
     "output_type": "stream",
     "text": [
      "3\n",
      "3 10\n",
      "5527 731 31274\n",
      "#1 731\n",
      "5 12\n",
      "18140 14618 18641 22536 23097\n",
      "#2 18641\n",
      "10 23\n",
      "17236 31594 29094 2412 4316 5044 28515 24737 11578 7907\t\n",
      "#3 2412\n"
     ]
    }
   ],
   "source": [
    "# 수열 맨 앞에 있는 숫자 출력\n",
    "def front_rear(x):\n",
    "    front = x.pop(0)\n",
    "    x.append(front)\n",
    "\n",
    "\n",
    "T = int(input())\n",
    "\n",
    "for test_case in range(1, T+1):\n",
    "    N, M = map(int, input().split())\n",
    "    num_list = list(map(int,input().split()))\n",
    "    for _ in range(M):\n",
    "        front_rear(num_list)\n",
    "\n",
    "    print(\"#{} {}\".format(test_case,num_list[0]))"
   ]
  },
  {
   "cell_type": "markdown",
   "metadata": {},
   "source": [
    "# 미로의 거리"
   ]
  },
  {
   "cell_type": "code",
   "execution_count": 77,
   "metadata": {},
   "outputs": [
    {
     "name": "stdout",
     "output_type": "stream",
     "text": [
      "d\n"
     ]
    },
    {
     "ename": "ValueError",
     "evalue": "invalid literal for int() with base 10: 'd'",
     "output_type": "error",
     "traceback": [
      "\u001b[1;31m---------------------------------------------------------------------------\u001b[0m",
      "\u001b[1;31mValueError\u001b[0m                                Traceback (most recent call last)",
      "\u001b[1;32m<ipython-input-77-75b0336b046f>\u001b[0m in \u001b[0;36m<module>\u001b[1;34m\u001b[0m\n\u001b[0;32m      4\u001b[0m \u001b[1;33m\u001b[0m\u001b[0m\n\u001b[0;32m      5\u001b[0m \u001b[1;33m\u001b[0m\u001b[0m\n\u001b[1;32m----> 6\u001b[1;33m \u001b[0mT\u001b[0m \u001b[1;33m=\u001b[0m \u001b[0mint\u001b[0m\u001b[1;33m(\u001b[0m\u001b[0minput\u001b[0m\u001b[1;33m(\u001b[0m\u001b[1;33m)\u001b[0m\u001b[1;33m)\u001b[0m\u001b[1;33m\u001b[0m\u001b[1;33m\u001b[0m\u001b[0m\n\u001b[0m\u001b[0;32m      7\u001b[0m \u001b[1;33m\u001b[0m\u001b[0m\n\u001b[0;32m      8\u001b[0m \u001b[1;32mfor\u001b[0m \u001b[0mtest_case\u001b[0m \u001b[1;32min\u001b[0m \u001b[0mrange\u001b[0m\u001b[1;33m(\u001b[0m\u001b[1;36m1\u001b[0m\u001b[1;33m,\u001b[0m \u001b[0mT\u001b[0m\u001b[1;33m+\u001b[0m\u001b[1;36m1\u001b[0m\u001b[1;33m)\u001b[0m\u001b[1;33m:\u001b[0m\u001b[1;33m\u001b[0m\u001b[1;33m\u001b[0m\u001b[0m\n",
      "\u001b[1;31mValueError\u001b[0m: invalid literal for int() with base 10: 'd'"
     ]
    }
   ],
   "source": [
    "# BFS의 개념을 적용시킨 첫번째 문제\n",
    "def IsSafe(y,x):\n",
    "    return 0 <= y < N and 0<= x < N and (Maze[y][x] == 0 or Maze[y][x] == 3)\n",
    "\n",
    "\n",
    "T = int(input())\n",
    "\n",
    "for test_case in range(1, T+1):\n",
    "    \n",
    "    N = int(input())\n",
    "    \n",
    "    Maze = [list(map(int, input())) for _ in range(N)]\n",
    "    visited = [[0]*N for _ in range(N)]\n",
    "    \n",
    "    for y in range(N):\n",
    "        for x in range(N):\n",
    "            if Maze[y][x] == 2:\n",
    "                start_y, start_x = y, x\n",
    "\n",
    "    dy = [1, -1, 0, 0]\n",
    "    dx = [0, 0, -1, 1]\n",
    "\n",
    "    D_result = 0\n",
    "    Q = []\n",
    "    Distance = [[0]*N for _ in range(N)]\n",
    "#     BFS(start_y, start_x)\n",
    "\n",
    "    Q.append((start_y, start_x))\n",
    "    visited.append((start_y, start_x))\n",
    "    \n",
    "    while Q:\n",
    "        start_y, start_x = Q.pop(0)\n",
    "        for dir in range(4):\n",
    "            NewY = start_y + dy[dir]\n",
    "            NewX = start_x + dx[dir]\n",
    "            if IsSafe(NewY, NewX) and (NewY, NewX) not in visited:\n",
    "                Q.append((NewY, NewX))\n",
    "                visited.append((NewY, NewX))\n",
    "                Distance[NewY][NewX] = Distance[start_y][start_x] +1\n",
    "                if Maze[NewY][NewX] == 3:\n",
    "                    D_result = Distance[NewY][NewX] -1\n",
    "    \n",
    "    \n",
    "    print('#{} {}'.format(test_case, D_result))\n",
    "\n",
    "\n",
    "    "
   ]
  },
  {
   "cell_type": "code",
   "execution_count": null,
   "metadata": {},
   "outputs": [],
   "source": [
    "def IsSafe(y,x):\n",
    "    return 0 <= y < N and 0<= x < N and (Maze[y][x] == 0 or Maze[y][x] == 3)\n",
    "\n",
    "def BFS(start_y, start_x):\n",
    "    global D_result\n",
    "    Q.append((start_y, start_x))\n",
    "    visited.append((start_y, start_x))\n",
    "\n",
    "    while Q:\n",
    "        start_y, start_x = Q.pop(0)\n",
    "        for dir in range(4):\n",
    "            NewY = start_y + dy[dir]\n",
    "            NewX = start_x + dx[dir]\n",
    "            if IsSafe(NewY, NewX) and (NewY, NewX) not in visited:\n",
    "                Q.append((NewY, NewX))\n",
    "                visited.append((NewY, NewX))\n",
    "                Distance[NewY][NewX] = Distance[start_y][start_x] +1\n",
    "                if Maze[NewY][NewX] == 3:\n",
    "                    D_result = Distance[NewY][NewX] -1\n",
    "                    return\n",
    "\n",
    "\n",
    "TC = int(input())\n",
    "for tc in range(1, TC+1):\n",
    "    N = int(input())\n",
    "    Maze = [list(map(int, input())) for _ in range(N)]\n",
    "    visited = [[0]*N for _ in range(N)]\n",
    "\n",
    "    for y in range(N):\n",
    "        for x in range(N):\n",
    "            if Maze[y][x] == 2:\n",
    "                start_y, start_x = y, x\n",
    "\n",
    "    dy = [1, -1, 0, 0]\n",
    "    dx = [0, 0, -1, 1]\n",
    "\n",
    "    D_result = 0\n",
    "    Q = []\n",
    "    Distance = [[0]*N for _ in range(N)]\n",
    "    BFS(start_y, start_x)\n",
    "    print(f'#{tc} {D_result}')"
   ]
  },
  {
   "cell_type": "code",
   "execution_count": null,
   "metadata": {},
   "outputs": [],
   "source": []
  },
  {
   "cell_type": "code",
   "execution_count": null,
   "metadata": {},
   "outputs": [],
   "source": []
  },
  {
   "cell_type": "code",
   "execution_count": null,
   "metadata": {},
   "outputs": [],
   "source": []
  },
  {
   "cell_type": "code",
   "execution_count": null,
   "metadata": {},
   "outputs": [],
   "source": []
  },
  {
   "cell_type": "code",
   "execution_count": null,
   "metadata": {},
   "outputs": [],
   "source": []
  },
  {
   "cell_type": "code",
   "execution_count": null,
   "metadata": {},
   "outputs": [],
   "source": []
  },
  {
   "cell_type": "code",
   "execution_count": null,
   "metadata": {},
   "outputs": [],
   "source": []
  },
  {
   "cell_type": "markdown",
   "metadata": {},
   "source": [
    "# 피자 굽기 ★"
   ]
  },
  {
   "cell_type": "code",
   "execution_count": null,
   "metadata": {},
   "outputs": [],
   "source": [
    "# 마지막 남은 피자 번호\n",
    "\n",
    "T = int(input())\n",
    "\n",
    "for test_case in range(1, T+1):\n",
    "    N, M = map(int, input().split())\n",
    "    C = int(input())\n",
    "    \n",
    "    \n",
    "#     한 칸씩 옮길 때마다 (1/2) * (1/N) 만큼 치즈 녹음 "
   ]
  },
  {
   "cell_type": "code",
   "execution_count": null,
   "metadata": {},
   "outputs": [],
   "source": []
  },
  {
   "cell_type": "code",
   "execution_count": null,
   "metadata": {},
   "outputs": [],
   "source": []
  },
  {
   "cell_type": "code",
   "execution_count": null,
   "metadata": {},
   "outputs": [],
   "source": []
  },
  {
   "cell_type": "code",
   "execution_count": null,
   "metadata": {},
   "outputs": [],
   "source": []
  },
  {
   "cell_type": "code",
   "execution_count": 78,
   "metadata": {},
   "outputs": [],
   "source": [
    "V = 3\n",
    "graph={key+1 : set() for key in range(V)}"
   ]
  },
  {
   "cell_type": "code",
   "execution_count": 79,
   "metadata": {},
   "outputs": [
    {
     "data": {
      "text/plain": [
       "{1: set(), 2: set(), 3: set()}"
      ]
     },
     "execution_count": 79,
     "metadata": {},
     "output_type": "execute_result"
    }
   ],
   "source": [
    "graph"
   ]
  },
  {
   "cell_type": "code",
   "execution_count": 82,
   "metadata": {},
   "outputs": [
    {
     "name": "stdout",
     "output_type": "stream",
     "text": [
      "1 3\n",
      "1 4\n",
      "2 4\n"
     ]
    }
   ],
   "source": [
    "E = 2\n",
    "for i in range(E):\n",
    "        key, val=map(int, input().split())\n",
    "        graph[key].add(val) # 각 key에 해당하는 set에 연결되는 노드 추가\n",
    "start, end = map(int, input().split())"
   ]
  },
  {
   "cell_type": "code",
   "execution_count": 83,
   "metadata": {},
   "outputs": [
    {
     "data": {
      "text/plain": [
       "{1: {3, 4}, 2: set(), 3: set()}"
      ]
     },
     "execution_count": 83,
     "metadata": {},
     "output_type": "execute_result"
    }
   ],
   "source": [
    "graph"
   ]
  },
  {
   "cell_type": "code",
   "execution_count": 84,
   "metadata": {},
   "outputs": [
    {
     "data": {
      "text/plain": [
       "(2, 4)"
      ]
     },
     "execution_count": 84,
     "metadata": {},
     "output_type": "execute_result"
    }
   ],
   "source": [
    "start, end"
   ]
  },
  {
   "cell_type": "markdown",
   "metadata": {},
   "source": [
    "# 노드의 거리"
   ]
  },
  {
   "cell_type": "code",
   "execution_count": 75,
   "metadata": {},
   "outputs": [
    {
     "name": "stdout",
     "output_type": "stream",
     "text": [
      "1\n",
      "6 5\n",
      "1 4\n",
      "1 3\n",
      "2 3\n",
      "2 5\n",
      "4 6\n",
      "1 6\n",
      "#1 2\n"
     ]
    }
   ],
   "source": [
    "# 최소 몇 개의 간선 지나야 되는지\n",
    "# 간선으로 연결되지 않은 경우도 있다.\n",
    "    \n",
    "\n",
    "T = int(input())\n",
    "for test_case in range(1, T+1):\n",
    "    # V: 노드 개수, E: 총 간선 개수\n",
    "    V, E = map(int, input().split())\n",
    "    \n",
    "    MyMap = [[0] * (V+1) for _ in range(V+1)]\n",
    "    for i in range(E):\n",
    "        start, end = map(int, input().split())\n",
    "        MyMap[start][end] = 1\n",
    "        MyMap[end][start] = 1\n",
    "    \n",
    "    S, G = map(int, input().split())\n",
    "   \n",
    "    # 노드 방문 여부\n",
    "    visited = [0] * (V+1)\n",
    "    # 시작 노드에서 index 번호를 가진 노드 까지의 이동거리\n",
    "    distance = [0] * (V+1)\n",
    "    \n",
    "    Q = []\n",
    "    result = 0\n",
    "    \n",
    "    # 첫 지점 노드 append하고 시작\n",
    "    Q.append(S)\n",
    "    visited[S] = 1\n",
    "    \n",
    "    while Q:    # Q가 비어있지 않는 한\n",
    "        S = Q.pop(0)\n",
    "        for next_node in range(1, V+1):\n",
    "            if MyMap[S][next_node] and not visited[next_node]:\n",
    "                Q.append(next_node)\n",
    "                visited[next_node] = 1\n",
    "                distance[next_node] = distance[S] +1\n",
    "                if next_node == G:\n",
    "                    result = distance[next_node]\n",
    "                \n",
    "    print('#{} {}'.format(test_case, result))\n",
    "    "
   ]
  },
  {
   "cell_type": "markdown",
   "metadata": {},
   "source": [
    "- BFS 와 Queue를 활용한 문제이며, 미로 => 그래프로 문제의 유형만 바뀌었을 뿐, 전반적인 맥락을 동일하다.\n",
    "- 이 문제는 방향성이 없으므로 MyMap(좌표) 안 [start][end] 와 [end][start] 두 곳 모두 경로를 찍었으며, 노드중에 간선이 연결되지 않는 경우를 고려하여 BFS 함수 내에 또다른 return 을 입력하였다."
   ]
  },
  {
   "cell_type": "code",
   "execution_count": null,
   "metadata": {},
   "outputs": [],
   "source": [
    "def BFS(start_node):\n",
    "    global result\n",
    "    Q.append(start_node)\n",
    "    visited[start_node] = 1\n",
    "\n",
    "    while Q:\n",
    "        start_node = Q.pop(0)\n",
    "        for next_node in range(1, v+1):\n",
    "            if MyMap[start_node][next_node] and not visited[next_node]:\n",
    "                Q.append(next_node)\n",
    "                visited[next_node] = 1\n",
    "                distance[next_node] = distance[start_node] +1\n",
    "                if next_node == end_node:\n",
    "                    result = distance[next_node]\n",
    "                    return\n",
    "    return\n",
    "\n",
    "TC = int(input())\n",
    "for tc in range(1, TC+1):\n",
    "    v,e = map(int, input().split())\n",
    "    MyMap = [[0] * (v+1) for _ in range(v+1)]\n",
    "    visited = [0] * (v+1)\n",
    "    distance = [0] * (v+1)\n",
    "\n",
    "    for i in range(e):\n",
    "        start, end = map(int, input().split())\n",
    "        MyMap[start][end] = 1\n",
    "        MyMap[end][start] = 1\n",
    "\n",
    "    start_node, end_node = map(int, input().split())\n",
    "\n",
    "    Q = []\n",
    "    result = 0\n",
    "    BFS(start_node)\n",
    "    print(f'#{tc} {result}')"
   ]
  },
  {
   "cell_type": "code",
   "execution_count": 53,
   "metadata": {},
   "outputs": [],
   "source": [
    "v = 6\n",
    "MyMap = [[0] * (v+1) for _ in range(v+1)]\n",
    "visited = [0] * (v+1)\n",
    "distance = [0] * (v+1)"
   ]
  },
  {
   "cell_type": "code",
   "execution_count": 54,
   "metadata": {},
   "outputs": [
    {
     "data": {
      "text/plain": [
       "[[0, 0, 0, 0, 0, 0, 0],\n",
       " [0, 0, 0, 0, 0, 0, 0],\n",
       " [0, 0, 0, 0, 0, 0, 0],\n",
       " [0, 0, 0, 0, 0, 0, 0],\n",
       " [0, 0, 0, 0, 0, 0, 0],\n",
       " [0, 0, 0, 0, 0, 0, 0],\n",
       " [0, 0, 0, 0, 0, 0, 0]]"
      ]
     },
     "execution_count": 54,
     "metadata": {},
     "output_type": "execute_result"
    }
   ],
   "source": [
    "MyMap"
   ]
  },
  {
   "cell_type": "code",
   "execution_count": 55,
   "metadata": {},
   "outputs": [
    {
     "data": {
      "text/plain": [
       "[0, 0, 0, 0, 0, 0, 0]"
      ]
     },
     "execution_count": 55,
     "metadata": {},
     "output_type": "execute_result"
    }
   ],
   "source": [
    "visited"
   ]
  },
  {
   "cell_type": "code",
   "execution_count": 56,
   "metadata": {},
   "outputs": [
    {
     "data": {
      "text/plain": [
       "[0, 0, 0, 0, 0, 0, 0]"
      ]
     },
     "execution_count": 56,
     "metadata": {},
     "output_type": "execute_result"
    }
   ],
   "source": [
    "distance"
   ]
  },
  {
   "cell_type": "code",
   "execution_count": 57,
   "metadata": {},
   "outputs": [
    {
     "name": "stdout",
     "output_type": "stream",
     "text": [
      "1 4\n",
      "[[0, 0, 0, 0, 0, 0, 0], [0, 0, 0, 0, 1, 0, 0], [0, 0, 0, 0, 0, 0, 0], [0, 0, 0, 0, 0, 0, 0], [0, 1, 0, 0, 0, 0, 0], [0, 0, 0, 0, 0, 0, 0], [0, 0, 0, 0, 0, 0, 0]]\n",
      "1 3\n",
      "[[0, 0, 0, 0, 0, 0, 0], [0, 0, 0, 1, 1, 0, 0], [0, 0, 0, 0, 0, 0, 0], [0, 1, 0, 0, 0, 0, 0], [0, 1, 0, 0, 0, 0, 0], [0, 0, 0, 0, 0, 0, 0], [0, 0, 0, 0, 0, 0, 0]]\n",
      "2 3\n",
      "[[0, 0, 0, 0, 0, 0, 0], [0, 0, 0, 1, 1, 0, 0], [0, 0, 0, 1, 0, 0, 0], [0, 1, 1, 0, 0, 0, 0], [0, 1, 0, 0, 0, 0, 0], [0, 0, 0, 0, 0, 0, 0], [0, 0, 0, 0, 0, 0, 0]]\n",
      "2 5\n",
      "[[0, 0, 0, 0, 0, 0, 0], [0, 0, 0, 1, 1, 0, 0], [0, 0, 0, 1, 0, 1, 0], [0, 1, 1, 0, 0, 0, 0], [0, 1, 0, 0, 0, 0, 0], [0, 0, 1, 0, 0, 0, 0], [0, 0, 0, 0, 0, 0, 0]]\n",
      "4 6\n",
      "[[0, 0, 0, 0, 0, 0, 0], [0, 0, 0, 1, 1, 0, 0], [0, 0, 0, 1, 0, 1, 0], [0, 1, 1, 0, 0, 0, 0], [0, 1, 0, 0, 0, 0, 1], [0, 0, 1, 0, 0, 0, 0], [0, 0, 0, 0, 1, 0, 0]]\n"
     ]
    }
   ],
   "source": [
    "for i in range(5):\n",
    "    start, end = map(int, input().split())\n",
    "    MyMap[start][end] = 1\n",
    "    MyMap[end][start] = 1\n",
    "    print(MyMap)"
   ]
  },
  {
   "cell_type": "code",
   "execution_count": 58,
   "metadata": {
    "scrolled": true
   },
   "outputs": [
    {
     "name": "stdout",
     "output_type": "stream",
     "text": [
      "1 6\n"
     ]
    }
   ],
   "source": [
    "start_node, end_node = map(int, input().split())"
   ]
  },
  {
   "cell_type": "code",
   "execution_count": 59,
   "metadata": {},
   "outputs": [],
   "source": [
    "Q = []\n",
    "result = 0"
   ]
  },
  {
   "cell_type": "code",
   "execution_count": 60,
   "metadata": {},
   "outputs": [
    {
     "name": "stdout",
     "output_type": "stream",
     "text": [
      "start node:  1\n",
      "next_node: 3\n",
      "[3]\n",
      "[0, 1, 0, 1, 0, 0, 0]\n",
      "[0, 0, 0, 1, 0, 0, 0]\n",
      "=====================================\n",
      "next_node: 4\n",
      "[3, 4]\n",
      "[0, 1, 0, 1, 1, 0, 0]\n",
      "[0, 0, 0, 1, 1, 0, 0]\n",
      "=====================================\n",
      "start node:  3\n",
      "next_node: 2\n",
      "[4, 2]\n",
      "[0, 1, 1, 1, 1, 0, 0]\n",
      "[0, 0, 2, 1, 1, 0, 0]\n",
      "=====================================\n",
      "start node:  4\n",
      "next_node: 6\n",
      "[2, 6]\n",
      "[0, 1, 1, 1, 1, 0, 1]\n",
      "[0, 0, 2, 1, 1, 0, 2]\n",
      "=====================================\n",
      "result:  2\n",
      "End\n",
      "start node:  2\n",
      "next_node: 5\n",
      "[6, 5]\n",
      "[0, 1, 1, 1, 1, 1, 1]\n",
      "[0, 0, 2, 1, 1, 3, 2]\n",
      "=====================================\n",
      "start node:  6\n",
      "start node:  5\n"
     ]
    }
   ],
   "source": [
    "Q.append(start_node)\n",
    "visited[start_node] = 1\n",
    "\n",
    "while Q:    # Q가 비어있지 않는 한\n",
    "    start_node = Q.pop(0)\n",
    "    print('start node: ', start_node)\n",
    "    for next_node in range(1, v+1):\n",
    "        if MyMap[start_node][next_node] and not visited[next_node]:\n",
    "            print('next_node:', next_node)\n",
    "            Q.append(next_node)\n",
    "            print(Q)\n",
    "            visited[next_node] = 1\n",
    "            print(visited)\n",
    "            distance[next_node] = distance[start_node] +1\n",
    "            print(distance)\n",
    "            print('=====================================')\n",
    "            if next_node == end_node:\n",
    "                result = distance[next_node]\n",
    "                print('result: ', result)\n",
    "                print('End')"
   ]
  },
  {
   "cell_type": "code",
   "execution_count": 52,
   "metadata": {},
   "outputs": [
    {
     "name": "stdout",
     "output_type": "stream",
     "text": [
      "2\n"
     ]
    }
   ],
   "source": [
    "BFS(start_node)\n",
    "print(result)"
   ]
  },
  {
   "cell_type": "code",
   "execution_count": null,
   "metadata": {},
   "outputs": [],
   "source": [
    "v"
   ]
  },
  {
   "cell_type": "code",
   "execution_count": 61,
   "metadata": {},
   "outputs": [],
   "source": [
    "v = 7\n",
    "MyMap = [[0] * (v+1) for _ in range(v+1)]\n",
    "visited = [0] * (v+1)\n",
    "distance = [0] * (v+1)"
   ]
  },
  {
   "cell_type": "code",
   "execution_count": 62,
   "metadata": {
    "scrolled": true
   },
   "outputs": [
    {
     "name": "stdout",
     "output_type": "stream",
     "text": [
      "1 6\n",
      "[[0, 0, 0, 0, 0, 0, 0, 0], [0, 0, 0, 0, 0, 0, 1, 0], [0, 0, 0, 0, 0, 0, 0, 0], [0, 0, 0, 0, 0, 0, 0, 0], [0, 0, 0, 0, 0, 0, 0, 0], [0, 0, 0, 0, 0, 0, 0, 0], [0, 1, 0, 0, 0, 0, 0, 0], [0, 0, 0, 0, 0, 0, 0, 0]]\n",
      "2 3\n",
      "[[0, 0, 0, 0, 0, 0, 0, 0], [0, 0, 0, 0, 0, 0, 1, 0], [0, 0, 0, 1, 0, 0, 0, 0], [0, 0, 1, 0, 0, 0, 0, 0], [0, 0, 0, 0, 0, 0, 0, 0], [0, 0, 0, 0, 0, 0, 0, 0], [0, 1, 0, 0, 0, 0, 0, 0], [0, 0, 0, 0, 0, 0, 0, 0]]\n",
      "2 6\n",
      "[[0, 0, 0, 0, 0, 0, 0, 0], [0, 0, 0, 0, 0, 0, 1, 0], [0, 0, 0, 1, 0, 0, 1, 0], [0, 0, 1, 0, 0, 0, 0, 0], [0, 0, 0, 0, 0, 0, 0, 0], [0, 0, 0, 0, 0, 0, 0, 0], [0, 1, 1, 0, 0, 0, 0, 0], [0, 0, 0, 0, 0, 0, 0, 0]]\n",
      "3 5\n",
      "[[0, 0, 0, 0, 0, 0, 0, 0], [0, 0, 0, 0, 0, 0, 1, 0], [0, 0, 0, 1, 0, 0, 1, 0], [0, 0, 1, 0, 0, 1, 0, 0], [0, 0, 0, 0, 0, 0, 0, 0], [0, 0, 0, 1, 0, 0, 0, 0], [0, 1, 1, 0, 0, 0, 0, 0], [0, 0, 0, 0, 0, 0, 0, 0]]\n"
     ]
    }
   ],
   "source": [
    "for i in range(4):\n",
    "    start, end = map(int, input().split())\n",
    "    MyMap[start][end] = 1\n",
    "    MyMap[end][start] = 1\n",
    "    print(MyMap)"
   ]
  },
  {
   "cell_type": "code",
   "execution_count": 63,
   "metadata": {
    "scrolled": false
   },
   "outputs": [
    {
     "name": "stdout",
     "output_type": "stream",
     "text": [
      "1 5\n"
     ]
    }
   ],
   "source": [
    "start_node, end_node = map(int, input().split())"
   ]
  },
  {
   "cell_type": "code",
   "execution_count": 64,
   "metadata": {},
   "outputs": [],
   "source": [
    "Q = []\n",
    "result = 0"
   ]
  },
  {
   "cell_type": "code",
   "execution_count": 65,
   "metadata": {},
   "outputs": [
    {
     "name": "stdout",
     "output_type": "stream",
     "text": [
      "start node:  1\n",
      "next_node: 6\n",
      "[6]\n",
      "[0, 1, 0, 0, 0, 0, 1, 0]\n",
      "[0, 0, 0, 0, 0, 0, 1, 0]\n",
      "=====================================\n",
      "start node:  6\n",
      "next_node: 2\n",
      "[2]\n",
      "[0, 1, 1, 0, 0, 0, 1, 0]\n",
      "[0, 0, 2, 0, 0, 0, 1, 0]\n",
      "=====================================\n",
      "start node:  2\n",
      "next_node: 3\n",
      "[3]\n",
      "[0, 1, 1, 1, 0, 0, 1, 0]\n",
      "[0, 0, 2, 3, 0, 0, 1, 0]\n",
      "=====================================\n",
      "start node:  3\n",
      "next_node: 5\n",
      "[5]\n",
      "[0, 1, 1, 1, 0, 1, 1, 0]\n",
      "[0, 0, 2, 3, 0, 4, 1, 0]\n",
      "=====================================\n",
      "result:  4\n",
      "End\n",
      "start node:  5\n"
     ]
    }
   ],
   "source": [
    "Q.append(start_node)\n",
    "visited[start_node] = 1\n",
    "\n",
    "while Q:    # Q가 비어있지 않는 한\n",
    "    start_node = Q.pop(0)\n",
    "    print('start node: ', start_node)\n",
    "    for next_node in range(1, v+1):\n",
    "        if MyMap[start_node][next_node] and not visited[next_node]:\n",
    "            print('next_node:', next_node)\n",
    "            Q.append(next_node)\n",
    "            print(Q)\n",
    "            visited[next_node] = 1\n",
    "            print(visited)\n",
    "            distance[next_node] = distance[start_node] +1\n",
    "            print(distance)\n",
    "            print('=====================================')\n",
    "            if next_node == end_node:\n",
    "                result = distance[next_node]\n",
    "                print('result: ', result)\n",
    "                print('End')"
   ]
  },
  {
   "cell_type": "code",
   "execution_count": 66,
   "metadata": {},
   "outputs": [
    {
     "name": "stdout",
     "output_type": "stream",
     "text": [
      "4\n"
     ]
    }
   ],
   "source": [
    "BFS(start_node)\n",
    "print(result)"
   ]
  },
  {
   "cell_type": "code",
   "execution_count": null,
   "metadata": {},
   "outputs": [],
   "source": []
  },
  {
   "cell_type": "code",
   "execution_count": null,
   "metadata": {},
   "outputs": [],
   "source": []
  },
  {
   "cell_type": "code",
   "execution_count": null,
   "metadata": {},
   "outputs": [],
   "source": []
  },
  {
   "cell_type": "code",
   "execution_count": null,
   "metadata": {},
   "outputs": [],
   "source": []
  }
 ],
 "metadata": {
  "kernelspec": {
   "display_name": "Python 3",
   "language": "python",
   "name": "python3"
  },
  "language_info": {
   "codemirror_mode": {
    "name": "ipython",
    "version": 3
   },
   "file_extension": ".py",
   "mimetype": "text/x-python",
   "name": "python",
   "nbconvert_exporter": "python",
   "pygments_lexer": "ipython3",
   "version": "3.7.7"
  },
  "toc": {
   "base_numbering": 1,
   "nav_menu": {},
   "number_sections": true,
   "sideBar": true,
   "skip_h1_title": false,
   "title_cell": "Table of Contents",
   "title_sidebar": "Contents",
   "toc_cell": false,
   "toc_position": {},
   "toc_section_display": true,
   "toc_window_display": false
  },
  "varInspector": {
   "cols": {
    "lenName": 16,
    "lenType": 16,
    "lenVar": 40
   },
   "kernels_config": {
    "python": {
     "delete_cmd_postfix": "",
     "delete_cmd_prefix": "del ",
     "library": "var_list.py",
     "varRefreshCmd": "print(var_dic_list())"
    },
    "r": {
     "delete_cmd_postfix": ") ",
     "delete_cmd_prefix": "rm(",
     "library": "var_list.r",
     "varRefreshCmd": "cat(var_dic_list()) "
    }
   },
   "types_to_exclude": [
    "module",
    "function",
    "builtin_function_or_method",
    "instance",
    "_Feature"
   ],
   "window_display": false
  }
 },
 "nbformat": 4,
 "nbformat_minor": 4
}
