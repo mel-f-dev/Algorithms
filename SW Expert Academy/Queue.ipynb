{
 "cells": [
  {
   "cell_type": "markdown",
   "metadata": {},
   "source": [
    "# 큐의 종류"
   ]
  },
  {
   "cell_type": "markdown",
   "metadata": {},
   "source": [
    "##  선형 큐"
   ]
  },
  {
   "cell_type": "markdown",
   "metadata": {},
   "source": [
    "1. 1차원 리스트를 이용한 큐\n",
    " - 큐의 크기 = 리스트의 크기\n",
    " - front: 첫 번째 원소의 인덱스\n",
    " - rear: 저장된 마지막 원소의 인덱스\n",
    "\n",
    "2. 상태 표현\n",
    " - 초기 상태: front = rear = -1\n",
    " - 공백 상태: front = rear\n",
    " - 포화 상태: rear = n-1(리스트의 마지막 인덱스)"
   ]
  },
  {
   "cell_type": "markdown",
   "metadata": {},
   "source": [
    "### 선형 큐 구현"
   ]
  },
  {
   "cell_type": "markdown",
   "metadata": {},
   "source": [
    "#### createQueue()\n",
    "초기 공백큐 생성\n",
    "- 크기 n인 1차원 리스트 생성\n",
    "- front, rear = -1로 초기화"
   ]
  },
  {
   "cell_type": "markdown",
   "metadata": {},
   "source": [
    "#### enQueue(item): 삽입\n",
    "마지막 원소 뒤에 새로운 원소를 삽입하기 위해\n",
    "1. rear 값을 하나 증가시켜 새로운 원소를 삽입할 자리 마련\n",
    "2. 그 인덱스에 해당하는 리스트원소 Q[rear]에 item을 저장"
   ]
  },
  {
   "cell_type": "code",
   "execution_count": null,
   "metadata": {},
   "outputs": [],
   "source": [
    "def enQueue(item):\n",
    "    global rear\n",
    "    if isFull(): \n",
    "        print(\"Queue_Full\")\n",
    "    else:\n",
    "        rear += 1\n",
    "        Q[rear] = item"
   ]
  },
  {
   "cell_type": "code",
   "execution_count": null,
   "metadata": {},
   "outputs": [],
   "source": [
    "deQueue\n",
    "공백상태 및 포화상태 검사: isEmpty(), isFull()\n",
    "Qpeek()"
   ]
  }
 ],
 "metadata": {
  "kernelspec": {
   "display_name": "Python 3",
   "language": "python",
   "name": "python3"
  },
  "language_info": {
   "codemirror_mode": {
    "name": "ipython",
    "version": 3
   },
   "file_extension": ".py",
   "mimetype": "text/x-python",
   "name": "python",
   "nbconvert_exporter": "python",
   "pygments_lexer": "ipython3",
   "version": "3.7.7"
  },
  "toc": {
   "base_numbering": 1,
   "nav_menu": {},
   "number_sections": true,
   "sideBar": true,
   "skip_h1_title": false,
   "title_cell": "Table of Contents",
   "title_sidebar": "Contents",
   "toc_cell": false,
   "toc_position": {},
   "toc_section_display": true,
   "toc_window_display": false
  },
  "varInspector": {
   "cols": {
    "lenName": 16,
    "lenType": 16,
    "lenVar": 40
   },
   "kernels_config": {
    "python": {
     "delete_cmd_postfix": "",
     "delete_cmd_prefix": "del ",
     "library": "var_list.py",
     "varRefreshCmd": "print(var_dic_list())"
    },
    "r": {
     "delete_cmd_postfix": ") ",
     "delete_cmd_prefix": "rm(",
     "library": "var_list.r",
     "varRefreshCmd": "cat(var_dic_list()) "
    }
   },
   "types_to_exclude": [
    "module",
    "function",
    "builtin_function_or_method",
    "instance",
    "_Feature"
   ],
   "window_display": false
  }
 },
 "nbformat": 4,
 "nbformat_minor": 4
}
