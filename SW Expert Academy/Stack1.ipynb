{
 "cells": [
  {
   "cell_type": "markdown",
   "metadata": {},
   "source": [
    "# Stack 자료구조 개념"
   ]
  },
  {
   "cell_type": "markdown",
   "metadata": {},
   "source": [
    "- Stack: 물건을 쌓아 올리듯 자료를 쌓아 올린 형태의 자료구조\n",
    "- 스택에 저장된 자료는 선형구조: 자료 간 관계가 1:1\n",
    "- 후입선출(Last in First Out): 마지막에 삽입한 자료를 가장 먼저 꺼냄      \n",
    "        "
   ]
  },
  {
   "cell_type": "markdown",
   "metadata": {},
   "source": [
    "```\n",
    "stack: 저장소 자체\n",
    "top: 스택에서 마지막 삽입된 원소의 위치\n",
    "push: 저장소에 자료 저장\n",
    "pop: 저장소에서 자료 꺼내고 삭제\n",
    "isEmpty: 공백인지 아닌지\n",
    "peek: top에 있는 item 반환 \n",
    "```"
   ]
  },
  {
   "cell_type": "markdown",
   "metadata": {},
   "source": [
    "##  삽입/삭제 연산 과정"
   ]
  },
  {
   "cell_type": "markdown",
   "metadata": {},
   "source": [
    "자료가 삽입됨에 따라 top의 값 변동"
   ]
  },
  {
   "cell_type": "markdown",
   "metadata": {
    "heading_collapsed": true
   },
   "source": [
    "### push 알고리즘"
   ]
  },
  {
   "cell_type": "code",
   "execution_count": null,
   "metadata": {
    "hidden": true
   },
   "outputs": [],
   "source": [
    "def push(item):\n",
    "    s = []\n",
    "    s.append(item)"
   ]
  },
  {
   "cell_type": "markdown",
   "metadata": {
    "heading_collapsed": true
   },
   "source": [
    "### pop 알고리즘"
   ]
  },
  {
   "cell_type": "code",
   "execution_count": 1,
   "metadata": {
    "hidden": true
   },
   "outputs": [],
   "source": [
    "def pop():\n",
    "    if len(s) == 0:\n",
    "        #underflow\n",
    "        return\n",
    "    else:\n",
    "        return s.pop(-1)   # 마지막 위치 값 반환 후 삭제"
   ]
  },
  {
   "cell_type": "markdown",
   "metadata": {
    "heading_collapsed": true
   },
   "source": [
    "### 구현"
   ]
  },
  {
   "cell_type": "code",
   "execution_count": 2,
   "metadata": {
    "hidden": true
   },
   "outputs": [
    {
     "name": "stdout",
     "output_type": "stream",
     "text": [
      "pop item => 3\n",
      "pop item => 2\n",
      "pop item => 1\n"
     ]
    }
   ],
   "source": [
    "# 3개의 데이터 스택에 저장, 다시 3번 꺼내서 출력\n",
    "\n",
    "def push(item):\n",
    "    s.append(item)\n",
    "def pop():\n",
    "    if len(s) == 0:\n",
    "        print(\"Stack is Empty!!\") # underflow\n",
    "        return\n",
    "    else:\n",
    "        return s.pop(-1)\n",
    "s = []\n",
    "push(1)\n",
    "push(2)\n",
    "push(3)\n",
    "\n",
    "print(\"pop item =>\", pop())\n",
    "print(\"pop item =>\", pop())\n",
    "print(\"pop item =>\", pop())\n"
   ]
  },
  {
   "cell_type": "markdown",
   "metadata": {},
   "source": [
    "## Memoimzation"
   ]
  },
  {
   "cell_type": "markdown",
   "metadata": {},
   "source": [
    "컴퓨터 프로그램을 실행할 때 이전에 계산한 값을 메모리에 저장, 매번 다시 계산하지 않도록 하여 전체 실행 속도를 빠르게"
   ]
  },
  {
   "cell_type": "code",
   "execution_count": null,
   "metadata": {},
   "outputs": [],
   "source": [
    "# 피보나치 수열 구하는 함수\n",
    "def fobo(n):\n",
    "    if n < 2:\n",
    "        return n\n",
    "    else:\n",
    "        return fibo(n-1) + fibo(n-2)\n",
    "    \n",
    "# => 중복 계산이 많으므로 메모이제이션 활용"
   ]
  },
  {
   "cell_type": "code",
   "execution_count": null,
   "metadata": {},
   "outputs": [],
   "source": [
    "# fibo(n)의 값을 계산하자마자 저장하면 실행 시간을 줄일 수 있다.\n",
    "\n",
    "# memo를 위한 리스트 생성\n",
    "# memo[0]을 0으로, memo[1]은 1로 초기화\n",
    "\n",
    "def fibo1(n):\n",
    "    global memo\n",
    "    if n >= 2 and len(memo) <= n:\n",
    "        memo.append(fibo1(n-1)+fibo1(n-2))\n",
    "    return memo[n]\n",
    "\n",
    "memo = [0, 1]"
   ]
  },
  {
   "cell_type": "markdown",
   "metadata": {},
   "source": [
    "## DFS(깊이 우선 탐색)\n",
    "비선형구조인 그래프구조의 모든 자료를 빠짐없이 검색하는 방법 중 하나"
   ]
  },
  {
   "cell_type": "markdown",
   "metadata": {},
   "source": [
    "- 시작 정점의 한 방향으로 갈 수 있는 경로가 있는 곳까지 깊이 탐색\n",
    "- 더 이상 갈 곳이 없게 되면 가장 마지막에 만났던 갈림길 간선이 있는 정점으로 되돌아옴\n",
    "- 다른 방향의 정점으로 탐색을 계속 반복, 결국 모든 정점을 방문하여 순회\n",
    "- 가장 마지막에 만났던 갈림길의 정점으로 되돌아가서 다시 깊이 우선 탐색을 반복(후입선출 구조)"
   ]
  },
  {
   "cell_type": "markdown",
   "metadata": {},
   "source": [
    "```\n",
    "시작 정점 v를 결정하여 방문,\n",
    "정점 v에 인접한 정점 중에서\n",
    "```\n",
    "**방문하지 않은 정점 w가 있을 때**\n",
    "- 정점 v를 스택에 push, 정점 w를 방문\n",
    "- w를 v로 하여 다시 반복\n",
    "\n",
    "**방문하지 않은 정점이 없을 때**\n",
    "- 탐색의 방향을 바꾸기 위해 스택을 pop하여 받은 가장 마지막 방문 정점을 v로 하여 다시 반복\n"
   ]
  },
  {
   "cell_type": "code",
   "execution_count": null,
   "metadata": {},
   "outputs": [],
   "source": [
    "# DFS(깊이 우선 탐색)의 예\n",
    "visited[] # 정점 방문 상태 여부 저장\n",
    "stack[] # 경로 역추적\n",
    "\n",
    "DFS(v)\n",
    "    v 방문;\n",
    "    visited[v] <- true;\n",
    "    do {\n",
    "        if (v의 인접 정점 중 방문 안 한 w 찾기)\n",
    "            push(v)\n",
    "        while (w) {\n",
    "            w 방문;\n",
    "            visited[w] <- true;\n",
    "            push(w);\n",
    "            v <- w;\n",
    "            v의 인접 정점 중 방문 안 한 w 찾기\n",
    "        }\n",
    "        v <- pop(stack);\n",
    "    } while(v)\n",
    "end DFS()"
   ]
  },
  {
   "cell_type": "markdown",
   "metadata": {},
   "source": [
    "# 4869 종이붙이기"
   ]
  },
  {
   "cell_type": "markdown",
   "metadata": {},
   "source": [
    "- 20xN 크기의 직사각형을 테이프로 표시하고, 이 안에 준비한 종이를 빈틈없이 붙이는 방법\n",
    "- N: 10의 배수\n",
    "- 테이프로 만든 표시한 영역을 몇 개\n",
    "- 종이 크기 : 20X10, 20X20"
   ]
  },
  {
   "cell_type": "code",
   "execution_count": 1,
   "metadata": {},
   "outputs": [
    {
     "name": "stdout",
     "output_type": "stream",
     "text": [
      "10\n",
      "20\n",
      "#1 3\n",
      "30\n",
      "#2 5\n",
      "40\n",
      "#3 11\n",
      "50\n",
      "#4 21\n",
      "60\n",
      "#5 43\n",
      "70\n",
      "#6 85\n",
      "80\n",
      "#7 171\n",
      "90\n",
      "#8 341\n",
      "100\n",
      "#9 683\n",
      "110\n",
      "#10 1365\n"
     ]
    }
   ],
   "source": [
    "def paper(size):\n",
    "    # 빈틈없이 붙였을 때 1 반환\n",
    "    if size == 0:\n",
    "        return 1\n",
    "    # 정해진 사이즈 오버했을 때 0 반환\n",
    "    elif size < 0:\n",
    "        return 0\n",
    "    \n",
    "    # 한 변의 길이가 10짜리 인 것 + 20짜리인 것 * 2 의 합\n",
    "    return paper(size - 10) + paper(size - 20) * 2\n",
    "\n",
    "T = int(input())\n",
    "\n",
    "for test_case in range(1, T+1):\n",
    "    N = int(input())\n",
    "    print(\"#{} {}\".format(test_case, paper(N)))"
   ]
  },
  {
   "cell_type": "markdown",
   "metadata": {},
   "source": [
    "# 괄호검사"
   ]
  },
  {
   "cell_type": "markdown",
   "metadata": {},
   "source": [
    "**조건**\n",
    "1. 왼쪽 괄호 개수 = 오른쪽 괄호 개수\n",
    "2. 같은 괄호에서 왼쪽 괄호는 오른쪽 괄호보다 먼저\n",
    "3. 괄호 사이에는 포함 관계만 존재 => 교차관계는 존재하지 않는다. ex) {(})"
   ]
  },
  {
   "cell_type": "markdown",
   "metadata": {},
   "source": [
    "- 여는 괄호 -> 스택에 저장\n",
    "- 닫는 괄호일 경우 pop하여 비교\n",
    "- 반복적으로 실행한 뒤 괄호가 남아있거나 조건에 맞지 않는 경우 오류"
   ]
  },
  {
   "cell_type": "markdown",
   "metadata": {},
   "source": [
    "- stack을 활용\n",
    "- 빈 stack에는 \"(\"만 들어갈 수 있다.\n",
    "- \")\"이 올 때까지 \"(\"을 쌓다가, \")\"이 오면 \"(\" 하나와 함께 pop\n",
    "- 마지막에 빈 stack이 남으면 True, 아니면 False"
   ]
  },
  {
   "cell_type": "code",
   "execution_count": 107,
   "metadata": {},
   "outputs": [
    {
     "name": "stdout",
     "output_type": "stream",
     "text": [
      "3\n",
      "print('{} {}'.format(1, 2))\n",
      "#1 1\n",
      "N, M = map(int, input().split())\n",
      "#2 1\n",
      "print('#{} {}'.format(tc, find())\t\n",
      "#3 0\n"
     ]
    }
   ],
   "source": [
    "T = int(input())\n",
    "\n",
    "# 최종 구할 값: len(stack) == 0 일 때 True, else False\n",
    "for i in range(1, T+1):\n",
    "    ch = input()\n",
    "    \n",
    "    stack = []\n",
    "    for j in ch:\n",
    "        # 여는 괄호 stack에 저장\n",
    "        if j == '(' or j =='{':\n",
    "            stack.append(j)\n",
    "        \n",
    "        # 닫는 괄호가 먼저 오는 경우\n",
    "        elif j == ')'or j == '}': \n",
    "            # 여는 괄호가 stack에 없으면 len(stack) != 0으로 만들고 break\n",
    "            if len(stack) == 0:\n",
    "                stack.append(j)\n",
    "                break\n",
    "            # stack의 마지막 원소와 짝이 맞지 않으면 len(stack) != 0으로 만들기\n",
    "            elif j == ')' and stack[-1] != '(':\n",
    "                stack.append(j)\n",
    "            elif j == '}' and stack [-1] != '{':\n",
    "                stack.append(j)\n",
    "            # 짝이 맞는 경우 stack 마지막 원소 pop\n",
    "            else:\n",
    "                stack.pop()\n",
    "    \n",
    "    # 최종적으로 stack 길이가 0인 경우 괄호 짝 맞으므로 1 출력, 아닐 경우 0 출력\n",
    "    if len(stack) == 0:\n",
    "        print('#{} {}'.format(i, 1))\n",
    "    else:\n",
    "        print('#{} {}'.format(i, 0))\n",
    "    "
   ]
  },
  {
   "cell_type": "markdown",
   "metadata": {},
   "source": [
    "# 4871 그래프 경로"
   ]
  },
  {
   "cell_type": "markdown",
   "metadata": {},
   "source": [
    "- V : 노드 개수\n",
    "- E : 간선 수\n",
    "- 노드 번호 1번 부터 존재\n",
    "- 두 개의 노드에 경로가 존재하면 1출력"
   ]
  },
  {
   "cell_type": "markdown",
   "metadata": {},
   "source": [
    "- 첫줄, V E\n",
    "- 둘째, E개의 줄에 걸쳐 출발 노드로 간선 정보\n",
    "- E개의 줄 이후에는 경로의 존재를 확인할 출발 노드 S, 도착 노드 G"
   ]
  },
  {
   "cell_type": "code",
   "execution_count": 3,
   "metadata": {},
   "outputs": [
    {
     "name": "stdout",
     "output_type": "stream",
     "text": [
      "1\n",
      "7 4\n",
      "1 6\n",
      "2 3\n",
      "2 6\n",
      "3 5\n",
      "2 5\n",
      "[(1, 6), (2, 3), (2, 6), (3, 5)]\n",
      "[(1, 6), (2, 3), (2, 6), (3, 5)]\n",
      "[(1, 6), (2, 3), (2, 6), (3, 5)]\n"
     ]
    },
    {
     "ename": "IndexError",
     "evalue": "pop index out of range",
     "output_type": "error",
     "traceback": [
      "\u001b[1;31m---------------------------------------------------------------------------\u001b[0m",
      "\u001b[1;31mIndexError\u001b[0m                                Traceback (most recent call last)",
      "\u001b[1;32m<ipython-input-3-998957a28a1f>\u001b[0m in \u001b[0;36m<module>\u001b[1;34m\u001b[0m\n\u001b[0;32m     14\u001b[0m     \u001b[1;32mfor\u001b[0m \u001b[0mj\u001b[0m \u001b[1;32min\u001b[0m \u001b[0mrange\u001b[0m\u001b[1;33m(\u001b[0m\u001b[0mlen\u001b[0m\u001b[1;33m(\u001b[0m\u001b[0mstack\u001b[0m\u001b[1;33m)\u001b[0m\u001b[1;33m)\u001b[0m\u001b[1;33m:\u001b[0m\u001b[1;33m\u001b[0m\u001b[1;33m\u001b[0m\u001b[0m\n\u001b[0;32m     15\u001b[0m         \u001b[1;32mif\u001b[0m \u001b[0mstack\u001b[0m\u001b[1;33m[\u001b[0m\u001b[0mj\u001b[0m\u001b[1;33m]\u001b[0m\u001b[1;33m[\u001b[0m\u001b[1;36m1\u001b[0m\u001b[1;33m]\u001b[0m \u001b[1;33m==\u001b[0m \u001b[0mG\u001b[0m\u001b[1;33m:\u001b[0m\u001b[1;33m\u001b[0m\u001b[1;33m\u001b[0m\u001b[0m\n\u001b[1;32m---> 16\u001b[1;33m             \u001b[0mstack\u001b[0m\u001b[1;33m.\u001b[0m\u001b[0mpop\u001b[0m\u001b[1;33m(\u001b[0m\u001b[0mstack\u001b[0m\u001b[1;33m[\u001b[0m\u001b[0mj\u001b[0m\u001b[1;33m]\u001b[0m\u001b[1;33m[\u001b[0m\u001b[1;36m1\u001b[0m\u001b[1;33m]\u001b[0m\u001b[1;33m)\u001b[0m\u001b[1;33m\u001b[0m\u001b[1;33m\u001b[0m\u001b[0m\n\u001b[0m\u001b[0;32m     17\u001b[0m             \u001b[0mG\u001b[0m \u001b[1;33m=\u001b[0m \u001b[0mstack\u001b[0m\u001b[1;33m[\u001b[0m\u001b[0mj\u001b[0m\u001b[1;33m]\u001b[0m\u001b[1;33m[\u001b[0m\u001b[1;36m0\u001b[0m\u001b[1;33m]\u001b[0m\u001b[1;33m\u001b[0m\u001b[1;33m\u001b[0m\u001b[0m\n\u001b[0;32m     18\u001b[0m         \u001b[0mprint\u001b[0m\u001b[1;33m(\u001b[0m\u001b[0mstack\u001b[0m\u001b[1;33m)\u001b[0m\u001b[1;33m\u001b[0m\u001b[1;33m\u001b[0m\u001b[0m\n",
      "\u001b[1;31mIndexError\u001b[0m: pop index out of range"
     ]
    }
   ],
   "source": [
    "T = int(input())\n",
    "\n",
    "for test_case in range(1, T+1):\n",
    "    V,E = map(int, input().split())\n",
    "    \n",
    "    stack = []\n",
    "    for i in range(E):\n",
    "        fr, to = map(int, input().split())\n",
    "        stack.append((fr, to))\n",
    "  \n",
    "    S, G = map(int, input().split())\n",
    "    \n",
    "    stack2 = []\n",
    "    for j in range(len(stack)):\n",
    "        if stack[j][1] != G:\n",
    "            stack2.append(stack[j][1])\n",
    "        else:\n",
    "            G = stack[j][0]\n",
    "        \n",
    "    \n",
    "            \n",
    "    \n",
    "\n",
    "\n",
    "# print('#{} {}'.format(test_case, result))"
   ]
  },
  {
   "cell_type": "code",
   "execution_count": 5,
   "metadata": {},
   "outputs": [
    {
     "name": "stdout",
     "output_type": "stream",
     "text": [
      "1\n",
      "7 4\n",
      "graph:  [[], [], [], [], [], [], [], []]\n",
      "visited:  [True, True, True, True, True, True, True, True]\n",
      "1 6\n",
      "graph[a]: []\n",
      "2 3\n",
      "graph[a]: []\n",
      "2 6\n",
      "graph[a]: [3]\n",
      "3 5\n",
      "graph[a]: []\n",
      "2 5\n",
      "#1 1\n"
     ]
    }
   ],
   "source": [
    "def dfs(node):\n",
    "    visited[node] = False\n",
    "    for i in graph[node]:\n",
    "        if visited[i]:\n",
    "            dfs(i)\n",
    " \n",
    "T = int(input())\n",
    "for t in range(1, T+1):\n",
    "    V, E = map(int, input().split())\n",
    "    graph = [[] for _ in range(V+1)]\n",
    "    visited = [True for _ in range(V+1)]\n",
    "    print('graph: ', graph)\n",
    "    print('visited: ', visited)\n",
    "    \n",
    "    for i in range(E):\n",
    "        a, b = map(int, input().split())\n",
    "        #단방향 그래프이므로 하나만 추가한다.\n",
    "        print('graph[a]:', graph[a])\n",
    "        graph[a].append(b)\n",
    "    start, end = map(int, input().split())\n",
    "    #시작노드를 출발점으로 dfs를 시작한다.\n",
    "    dfs(start)\n",
    "    result = 1\n",
    "    #끝나는 노드를 못갔다면 0으로 결과를 바꾼다.\n",
    "    if visited[end]:\n",
    "        result = 0\n",
    "    print(\"#{} {}\".format(t, result))\n"
   ]
  },
  {
   "cell_type": "code",
   "execution_count": null,
   "metadata": {},
   "outputs": [],
   "source": []
  },
  {
   "cell_type": "code",
   "execution_count": null,
   "metadata": {},
   "outputs": [],
   "source": []
  },
  {
   "cell_type": "markdown",
   "metadata": {},
   "source": [
    "# 4873 반복문자 지우기"
   ]
  },
  {
   "cell_type": "code",
   "execution_count": null,
   "metadata": {},
   "outputs": [
    {
     "name": "stdout",
     "output_type": "stream",
     "text": [
      "3\n"
     ]
    }
   ],
   "source": [
    "# 반복문자를 지운 후 남은 문자열의 길이를 출력 하시오. 남은 문자열이 없으면 0을 출력한다.\n",
    "\n",
    "T = int(input())\n",
    "\n",
    "for test_case in range(1, T+1):\n",
    "    t_c = input()\n",
    "    \n",
    "    stack = []\n",
    "    for i in t_c:\n",
    "        if i not in stack:\n",
    "            stack.append(i)\n",
    "        else:\n",
    "            if i != stack[-1]:\n",
    "                stack.append(i)\n",
    "            else:\n",
    "                stack.pop()\n",
    "#     print(stack)\n",
    "    print('#{} {}'.format(test_case, len(stack)))\n",
    "       "
   ]
  },
  {
   "cell_type": "code",
   "execution_count": null,
   "metadata": {},
   "outputs": [],
   "source": []
  },
  {
   "cell_type": "code",
   "execution_count": null,
   "metadata": {},
   "outputs": [],
   "source": []
  },
  {
   "cell_type": "code",
   "execution_count": null,
   "metadata": {},
   "outputs": [],
   "source": []
  },
  {
   "cell_type": "code",
   "execution_count": null,
   "metadata": {},
   "outputs": [],
   "source": []
  },
  {
   "cell_type": "code",
   "execution_count": null,
   "metadata": {},
   "outputs": [],
   "source": []
  },
  {
   "cell_type": "code",
   "execution_count": null,
   "metadata": {},
   "outputs": [],
   "source": []
  }
 ],
 "metadata": {
  "kernelspec": {
   "display_name": "Python 3",
   "language": "python",
   "name": "python3"
  },
  "language_info": {
   "codemirror_mode": {
    "name": "ipython",
    "version": 3
   },
   "file_extension": ".py",
   "mimetype": "text/x-python",
   "name": "python",
   "nbconvert_exporter": "python",
   "pygments_lexer": "ipython3",
   "version": "3.7.7"
  },
  "toc": {
   "base_numbering": 1,
   "nav_menu": {},
   "number_sections": true,
   "sideBar": true,
   "skip_h1_title": false,
   "title_cell": "Table of Contents",
   "title_sidebar": "Contents",
   "toc_cell": false,
   "toc_position": {},
   "toc_section_display": true,
   "toc_window_display": false
  },
  "varInspector": {
   "cols": {
    "lenName": 16,
    "lenType": 16,
    "lenVar": 40
   },
   "kernels_config": {
    "python": {
     "delete_cmd_postfix": "",
     "delete_cmd_prefix": "del ",
     "library": "var_list.py",
     "varRefreshCmd": "print(var_dic_list())"
    },
    "r": {
     "delete_cmd_postfix": ") ",
     "delete_cmd_prefix": "rm(",
     "library": "var_list.r",
     "varRefreshCmd": "cat(var_dic_list()) "
    }
   },
   "types_to_exclude": [
    "module",
    "function",
    "builtin_function_or_method",
    "instance",
    "_Feature"
   ],
   "window_display": false
  }
 },
 "nbformat": 4,
 "nbformat_minor": 2
}
