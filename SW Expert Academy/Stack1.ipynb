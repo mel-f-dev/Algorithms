{
 "cells": [
  {
   "cell_type": "markdown",
   "metadata": {
    "heading_collapsed": true
   },
   "source": [
    "# Stack 자료구조 개념"
   ]
  },
  {
   "cell_type": "markdown",
   "metadata": {
    "hidden": true
   },
   "source": [
    "- Stack: 물건을 쌓아 올리듯 자료를 쌓아 올린 형태의 자료구조\n",
    "- 스택에 저장된 자료는 선형구조: 자료 간 관계가 1:1\n",
    "- 후입선출(Last in First Out): 마지막에 삽입한 자료를 가장 먼저 꺼냄      \n",
    "        "
   ]
  },
  {
   "cell_type": "markdown",
   "metadata": {
    "hidden": true
   },
   "source": [
    "```\n",
    "stack: 저장소 자체\n",
    "top: 스택에서 마지막 삽입된 원소의 위치\n",
    "push: 저장소에 자료 저장\n",
    "pop: 저장소에서 자료 꺼내고 삭제\n",
    "isEmpty: 공백인지 아닌지\n",
    "peek: top에 있는 item 반환 \n",
    "```"
   ]
  },
  {
   "cell_type": "markdown",
   "metadata": {
    "heading_collapsed": true,
    "hidden": true
   },
   "source": [
    "##  삽입/삭제 연산 과정"
   ]
  },
  {
   "cell_type": "markdown",
   "metadata": {
    "hidden": true
   },
   "source": [
    "자료가 삽입됨에 따라 top의 값 변동"
   ]
  },
  {
   "cell_type": "markdown",
   "metadata": {
    "heading_collapsed": true,
    "hidden": true
   },
   "source": [
    "### push 알고리즘"
   ]
  },
  {
   "cell_type": "code",
   "execution_count": null,
   "metadata": {
    "hidden": true
   },
   "outputs": [],
   "source": [
    "def push(item):\n",
    "    s = []\n",
    "    s.append(item)"
   ]
  },
  {
   "cell_type": "markdown",
   "metadata": {
    "heading_collapsed": true,
    "hidden": true
   },
   "source": [
    "### pop 알고리즘"
   ]
  },
  {
   "cell_type": "code",
   "execution_count": 1,
   "metadata": {
    "hidden": true
   },
   "outputs": [],
   "source": [
    "def pop():\n",
    "    if len(s) == 0:\n",
    "        #underflow\n",
    "        return\n",
    "    else:\n",
    "        return s.pop(-1)   # 마지막 위치 값 반환 후 삭제"
   ]
  },
  {
   "cell_type": "markdown",
   "metadata": {
    "heading_collapsed": true,
    "hidden": true
   },
   "source": [
    "### 구현"
   ]
  },
  {
   "cell_type": "code",
   "execution_count": 2,
   "metadata": {
    "hidden": true
   },
   "outputs": [
    {
     "name": "stdout",
     "output_type": "stream",
     "text": [
      "pop item => 3\n",
      "pop item => 2\n",
      "pop item => 1\n"
     ]
    }
   ],
   "source": [
    "# 3개의 데이터 스택에 저장, 다시 3번 꺼내서 출력\n",
    "\n",
    "def push(item):\n",
    "    s.append(item)\n",
    "def pop():\n",
    "    if len(s) == 0:\n",
    "        print(\"Stack is Empty!!\") # underflow\n",
    "        return\n",
    "    else:\n",
    "        return s.pop(-1)\n",
    "s = []\n",
    "push(1)\n",
    "push(2)\n",
    "push(3)\n",
    "\n",
    "print(\"pop item =>\", pop())\n",
    "print(\"pop item =>\", pop())\n",
    "print(\"pop item =>\", pop())\n"
   ]
  },
  {
   "cell_type": "markdown",
   "metadata": {
    "heading_collapsed": true,
    "hidden": true
   },
   "source": [
    "## Memoimzation"
   ]
  },
  {
   "cell_type": "markdown",
   "metadata": {
    "hidden": true
   },
   "source": [
    "컴퓨터 프로그램을 실행할 때 이전에 계산한 값을 메모리에 저장, 매번 다시 계산하지 않도록 하여 전체 실행 속도를 빠르게"
   ]
  },
  {
   "cell_type": "code",
   "execution_count": null,
   "metadata": {
    "hidden": true
   },
   "outputs": [],
   "source": [
    "# 피보나치 수열 구하는 함수\n",
    "def fobo(n):\n",
    "    if n < 2:\n",
    "        return n\n",
    "    else:\n",
    "        return fibo(n-1) + fibo(n-2)\n",
    "    \n",
    "# => 중복 계산이 많으므로 메모이제이션 활용"
   ]
  },
  {
   "cell_type": "code",
   "execution_count": null,
   "metadata": {
    "hidden": true
   },
   "outputs": [],
   "source": [
    "# fibo(n)의 값을 계산하자마자 저장하면 실행 시간을 줄일 수 있다.\n",
    "\n",
    "# memo를 위한 리스트 생성\n",
    "# memo[0]을 0으로, memo[1]은 1로 초기화\n",
    "\n",
    "def fibo1(n):\n",
    "    global memo\n",
    "    if n >= 2 and len(memo) <= n:\n",
    "        memo.append(fibo1(n-1)+fibo1(n-2))\n",
    "    return memo[n]\n",
    "\n",
    "memo = [0, 1]"
   ]
  },
  {
   "cell_type": "markdown",
   "metadata": {
    "heading_collapsed": true,
    "hidden": true
   },
   "source": [
    "## DFS(깊이 우선 탐색)\n",
    "비선형구조인 그래프구조의 모든 자료를 빠짐없이 검색하는 방법 중 하나"
   ]
  },
  {
   "cell_type": "markdown",
   "metadata": {
    "hidden": true
   },
   "source": [
    "- 시작 정점의 한 방향으로 갈 수 있는 경로가 있는 곳까지 깊이 탐색\n",
    "- 더 이상 갈 곳이 없게 되면 가장 마지막에 만났던 갈림길 간선이 있는 정점으로 되돌아옴\n",
    "- 다른 방향의 정점으로 탐색을 계속 반복, 결국 모든 정점을 방문하여 순회\n",
    "- 가장 마지막에 만났던 갈림길의 정점으로 되돌아가서 다시 깊이 우선 탐색을 반복(후입선출 구조)"
   ]
  },
  {
   "cell_type": "markdown",
   "metadata": {
    "hidden": true
   },
   "source": [
    "```\n",
    "시작 정점 v를 결정하여 방문,\n",
    "정점 v에 인접한 정점 중에서\n",
    "```\n",
    "**방문하지 않은 정점 w가 있을 때**\n",
    "- 정점 v를 스택에 push, 정점 w를 방문\n",
    "- w를 v로 하여 다시 반복\n",
    "\n",
    "**방문하지 않은 정점이 없을 때**\n",
    "- 탐색의 방향을 바꾸기 위해 스택을 pop하여 받은 가장 마지막 방문 정점을 v로 하여 다시 반복\n"
   ]
  },
  {
   "cell_type": "markdown",
   "metadata": {},
   "source": [
    "# 4869 종이붙이기"
   ]
  },
  {
   "cell_type": "markdown",
   "metadata": {},
   "source": [
    "- 20xN 크기의 직사각형을 테이프로 표시하고, 이 안에 준비한 종이를 빈틈없이 붙이는 방법\n",
    "- N: 10의 배수\n",
    "- 테이프로 만든 표시한 영역을 몇 개\n",
    "- 종이 크기 : 20X10, 20X20"
   ]
  },
  {
   "cell_type": "markdown",
   "metadata": {},
   "source": [
    "# 괄호검사"
   ]
  },
  {
   "cell_type": "markdown",
   "metadata": {},
   "source": [
    "**조건**\n",
    "1. 왼쪽 괄호 개수 = 오른쪽 괄호 개수\n",
    "2. 같은 괄호에서 왼쪽 괄호는 오른쪽 괄호보다 먼저\n",
    "3. 괄호 사이에는 포함 관계만 존재"
   ]
  },
  {
   "cell_type": "markdown",
   "metadata": {},
   "source": [
    "- 여는 괄호 -> 스택에 저장\n",
    "- 닫는 괄호일 경우 pop하여 비교\n",
    "- 반복적으로 실행한 뒤 괄호가 남아있거나 조건에 맞지 않는 경우 오류"
   ]
  },
  {
   "cell_type": "code",
   "execution_count": null,
   "metadata": {},
   "outputs": [],
   "source": [
    "T = int(input())\n",
    "\n",
    "for test_case in range(1, T+1):\n",
    "    t_c = input()\n",
    "    \n",
    "    bracket=[]\n",
    "    for i in t_c:\n",
    "        if i == '(' or i == '{' or i == '[':\n",
    "            bracket.append(i)\n",
    "        \n",
    "        elif i == ')' or i == '}' or i == ']':\n",
    "            for _ in bracket[-1:0:-1]:\n",
    "                bracket.pop()\n",
    "            \n",
    "            \n",
    "    "
   ]
  },
  {
   "cell_type": "code",
   "execution_count": null,
   "metadata": {},
   "outputs": [],
   "source": []
  },
  {
   "cell_type": "code",
   "execution_count": null,
   "metadata": {},
   "outputs": [],
   "source": []
  },
  {
   "cell_type": "code",
   "execution_count": 57,
   "metadata": {},
   "outputs": [
    {
     "name": "stdout",
     "output_type": "stream",
     "text": [
      "print('{} {}'.format(1, 2))\n",
      "p\n",
      "r\n",
      "i\n",
      "n\n",
      "t\n",
      "(\n",
      "'\n",
      "{\n",
      "}\n",
      " \n",
      "{\n",
      "}\n",
      "'\n",
      ".\n",
      "f\n",
      "o\n",
      "r\n",
      "m\n",
      "a\n",
      "t\n",
      "(\n",
      "1\n",
      ",\n",
      " \n",
      "2\n",
      ")\n",
      ")\n"
     ]
    }
   ],
   "source": [
    "t_c = input()\n",
    "for i in t_c:\n",
    "    print(i)"
   ]
  },
  {
   "cell_type": "code",
   "execution_count": null,
   "metadata": {},
   "outputs": [],
   "source": []
  },
  {
   "cell_type": "code",
   "execution_count": null,
   "metadata": {},
   "outputs": [],
   "source": []
  },
  {
   "cell_type": "code",
   "execution_count": null,
   "metadata": {},
   "outputs": [],
   "source": []
  },
  {
   "cell_type": "code",
   "execution_count": null,
   "metadata": {},
   "outputs": [],
   "source": []
  },
  {
   "cell_type": "markdown",
   "metadata": {},
   "source": [
    "#  계산기"
   ]
  },
  {
   "cell_type": "markdown",
   "metadata": {},
   "source": [
    "## 중위표기식을 후위표기식으로"
   ]
  },
  {
   "cell_type": "code",
   "execution_count": null,
   "metadata": {},
   "outputs": [],
   "source": [
    "# 중위표기법으로 표현된 수식\n",
    "(6 + 5 * (2 - 8)/2)\n",
    "\n",
    "# 후위표기법으로 출력될 수식\n",
    "6528-*2/+"
   ]
  },
  {
   "cell_type": "markdown",
   "metadata": {},
   "source": [
    "\n",
    "```\n",
    "중위표기식에서 토큰부터 읽어온다.\n",
    "토큰: 수식에서 의미 있는 최소의 단위\n",
    "\n",
    "피연산자는 후위표기법 수식에 출력되고,\n",
    "\n",
    "연산자는 필히 스택을 거쳐간다고 생각하면 된다.\n",
    "연산자를 스택에 푸쉬할 때, 스택에서 자리를 잡아 스택에 푸쉬해야 한다.\n",
    "자기보다 우선순위가 낮은 것 위에 올라갈 수 있다.\n",
    "따라서 자기보다 우선순위가 낮은 또는 스택이 비어있을 때 까지 스택에서 pop하여 출력.\n",
    "```\n",
    "\n",
    "1. 토큰 하나 가져오기: \"(\"\n",
    "2. 스택연산 push(): 토큰이 연산자면 스택 top과 비교\n",
    "- 높으면 스택에 push\n",
    "- 여는 괄호 push\n",
    "3. top변경: 스택에 쌓여있는 마지막 값을 가리킴\n",
    "4. 다음 토큰은 피연산자이므로 스택에 삽입하지 않고 피연산자 그대로 출력\n",
    "\n",
    "**여는 괄호 우선순위**\n",
    "- ISP(스택 내부): 제일 낮다. 어느 연산자든 위에 쌓을 수 있다.\n",
    "- ICP(스택 외부): 제일 높다. 무조건 스택에 푸쉬 가능\n",
    "\n",
    "닫는 괄호는 여는 괄호를 만날 때 까지 모두 pop()하여 출력하는 성질.\n",
    "-> 짝이 되는 여는 괄호는 버린다."
   ]
  },
  {
   "cell_type": "code",
   "execution_count": 2,
   "metadata": {},
   "outputs": [
    {
     "data": {
      "text/plain": [
       "-9.0"
      ]
     },
     "execution_count": 2,
     "metadata": {},
     "output_type": "execute_result"
    }
   ],
   "source": [
    "eval(\"6+5*(2-8)/2\")"
   ]
  },
  {
   "cell_type": "code",
   "execution_count": 4,
   "metadata": {},
   "outputs": [
    {
     "data": {
      "text/plain": [
       "-9.0"
      ]
     },
     "execution_count": 4,
     "metadata": {},
     "output_type": "execute_result"
    }
   ],
   "source": [
    "6+5*(2-8)/2"
   ]
  },
  {
   "cell_type": "markdown",
   "metadata": {},
   "source": [
    "# 4874 Forth"
   ]
  },
  {
   "cell_type": "markdown",
   "metadata": {},
   "source": [
    "###### 후위표기법의 수식을 스택을 이용하여 계산\n",
    "1. 피연산자를 만나면 스택에 push\n",
    "2. 연산자를 만나면 필요한 만큼의 피연산자를 스택에서 pop하여 연산, 연산 결과를 다시 스택에 push\n",
    "3. 수식이 끝나면 마지막으로 스택을 pop하여 출력\n",
    "\n",
    "**후위표기식 계산 시, 피연산자를 스택에 쌓아 계산**"
   ]
  },
  {
   "cell_type": "code",
   "execution_count": null,
   "metadata": {},
   "outputs": [],
   "source": [
    "입력\n",
    "3\n",
    "10 2 + 3 4 + * .\n",
    "5 3 * + .\n",
    "1 5 8 10 3 4 + + 3 + * 2 + + + ."
   ]
  },
  {
   "cell_type": "code",
   "execution_count": null,
   "metadata": {},
   "outputs": [],
   "source": [
    "출력\n",
    "#1 84\n",
    "#2 error\n",
    "#3 168\t"
   ]
  },
  {
   "cell_type": "code",
   "execution_count": 51,
   "metadata": {},
   "outputs": [
    {
     "name": "stdout",
     "output_type": "stream",
     "text": [
      "1\n",
      "10 2 + 3 4 + * .\n"
     ]
    },
    {
     "ename": "IndexError",
     "evalue": "pop index out of range",
     "output_type": "error",
     "traceback": [
      "\u001b[1;31m---------------------------------------------------------------------------\u001b[0m",
      "\u001b[1;31mIndexError\u001b[0m                                Traceback (most recent call last)",
      "\u001b[1;32m<ipython-input-51-5bd3f38e84f0>\u001b[0m in \u001b[0;36m<module>\u001b[1;34m\u001b[0m\n\u001b[0;32m     11\u001b[0m             \u001b[0mstack\u001b[0m\u001b[1;33m.\u001b[0m\u001b[0mappend\u001b[0m\u001b[1;33m(\u001b[0m\u001b[0mforth_cal\u001b[0m\u001b[1;33m[\u001b[0m\u001b[0mi\u001b[0m\u001b[1;33m]\u001b[0m\u001b[1;33m)\u001b[0m\u001b[1;33m\u001b[0m\u001b[1;33m\u001b[0m\u001b[0m\n\u001b[0;32m     12\u001b[0m         \u001b[1;32melse\u001b[0m\u001b[1;33m:\u001b[0m\u001b[1;33m\u001b[0m\u001b[1;33m\u001b[0m\u001b[0m\n\u001b[1;32m---> 13\u001b[1;33m             \u001b[0mnew\u001b[0m \u001b[1;33m=\u001b[0m \u001b[0mstack\u001b[0m\u001b[1;33m.\u001b[0m\u001b[0mpop\u001b[0m\u001b[1;33m(\u001b[0m\u001b[0mi\u001b[0m\u001b[1;33m-\u001b[0m\u001b[1;36m2\u001b[0m\u001b[1;33m)\u001b[0m \u001b[1;33m+\u001b[0m \u001b[0mforth_cal\u001b[0m\u001b[1;33m[\u001b[0m\u001b[0mi\u001b[0m\u001b[1;33m]\u001b[0m \u001b[1;33m+\u001b[0m \u001b[0mstack\u001b[0m\u001b[1;33m.\u001b[0m\u001b[0mpop\u001b[0m\u001b[1;33m(\u001b[0m\u001b[0mi\u001b[0m\u001b[1;33m-\u001b[0m\u001b[1;36m1\u001b[0m\u001b[1;33m)\u001b[0m\u001b[1;33m\u001b[0m\u001b[1;33m\u001b[0m\u001b[0m\n\u001b[0m\u001b[0;32m     14\u001b[0m             \u001b[0mstack\u001b[0m\u001b[1;33m.\u001b[0m\u001b[0mappend\u001b[0m\u001b[1;33m(\u001b[0m\u001b[0meval\u001b[0m\u001b[1;33m(\u001b[0m\u001b[0mnew\u001b[0m\u001b[1;33m)\u001b[0m\u001b[1;33m)\u001b[0m\u001b[1;33m\u001b[0m\u001b[1;33m\u001b[0m\u001b[0m\n",
      "\u001b[1;31mIndexError\u001b[0m: pop index out of range"
     ]
    }
   ],
   "source": [
    "T = int(input())\n",
    "\n",
    "for test_case in range(1, T+1):  \n",
    "    forth_cal = input().split()\n",
    "    \n",
    "    stack = []\n",
    "    for i in range(len(forth_cal)):\n",
    "        is_int = forth_cal[i]\n",
    "        \n",
    "        if is_int.isdigit():\n",
    "            stack.append(forth_cal[i])\n",
    "        else:\n",
    "            new = stack.pop(i-2) + forth_cal[i] + stack.pop(i-1)\n",
    "            stack.append(eval(new))"
   ]
  },
  {
   "cell_type": "code",
   "execution_count": 50,
   "metadata": {},
   "outputs": [
    {
     "data": {
      "text/plain": [
       "2"
      ]
     },
     "execution_count": 50,
     "metadata": {},
     "output_type": "execute_result"
    }
   ],
   "source": [
    "def forth(item):\n",
    "    "
   ]
  },
  {
   "cell_type": "code",
   "execution_count": null,
   "metadata": {},
   "outputs": [],
   "source": []
  },
  {
   "cell_type": "code",
   "execution_count": null,
   "metadata": {},
   "outputs": [],
   "source": []
  },
  {
   "cell_type": "code",
   "execution_count": null,
   "metadata": {},
   "outputs": [],
   "source": []
  },
  {
   "cell_type": "code",
   "execution_count": null,
   "metadata": {},
   "outputs": [],
   "source": []
  },
  {
   "cell_type": "code",
   "execution_count": null,
   "metadata": {},
   "outputs": [],
   "source": []
  },
  {
   "cell_type": "code",
   "execution_count": null,
   "metadata": {},
   "outputs": [],
   "source": []
  },
  {
   "cell_type": "code",
   "execution_count": null,
   "metadata": {},
   "outputs": [],
   "source": []
  }
 ],
 "metadata": {
  "kernelspec": {
   "display_name": "Python 3",
   "language": "python",
   "name": "python3"
  },
  "language_info": {
   "codemirror_mode": {
    "name": "ipython",
    "version": 3
   },
   "file_extension": ".py",
   "mimetype": "text/x-python",
   "name": "python",
   "nbconvert_exporter": "python",
   "pygments_lexer": "ipython3",
   "version": "3.7.5"
  },
  "toc": {
   "base_numbering": 1,
   "nav_menu": {},
   "number_sections": true,
   "sideBar": true,
   "skip_h1_title": false,
   "title_cell": "Table of Contents",
   "title_sidebar": "Contents",
   "toc_cell": false,
   "toc_position": {},
   "toc_section_display": true,
   "toc_window_display": false
  },
  "varInspector": {
   "cols": {
    "lenName": 16,
    "lenType": 16,
    "lenVar": 40
   },
   "kernels_config": {
    "python": {
     "delete_cmd_postfix": "",
     "delete_cmd_prefix": "del ",
     "library": "var_list.py",
     "varRefreshCmd": "print(var_dic_list())"
    },
    "r": {
     "delete_cmd_postfix": ") ",
     "delete_cmd_prefix": "rm(",
     "library": "var_list.r",
     "varRefreshCmd": "cat(var_dic_list()) "
    }
   },
   "types_to_exclude": [
    "module",
    "function",
    "builtin_function_or_method",
    "instance",
    "_Feature"
   ],
   "window_display": false
  }
 },
 "nbformat": 4,
 "nbformat_minor": 2
}
