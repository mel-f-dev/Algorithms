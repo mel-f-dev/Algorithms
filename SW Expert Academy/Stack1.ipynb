{
 "cells": [
  {
   "cell_type": "markdown",
   "metadata": {},
   "source": [
    "# Stack 자료구조 개념"
   ]
  },
  {
   "cell_type": "markdown",
   "metadata": {},
   "source": [
    "- Stack: 물건을 쌓아 올리듯 자료를 쌓아 올린 형태의 자료구조\n",
    "- 스택에 저장된 자료는 선형구조: 자료 간 관계가 1:1\n",
    "- 후입선출(Last in First Out): 마지막에 삽입한 자료를 가장 먼저 꺼냄      \n",
    "        "
   ]
  },
  {
   "cell_type": "markdown",
   "metadata": {},
   "source": [
    "```\n",
    "stack: 저장소 자체\n",
    "top: 스택에서 마지막 삽입된 원소의 위치\n",
    "push: 저장소에 자료 저장\n",
    "pop: 저장소에서 자료 꺼내고 삭제\n",
    "isEmpty: 공백인지 아닌지\n",
    "peek: top에 있는 item 반환 \n",
    "```"
   ]
  },
  {
   "cell_type": "markdown",
   "metadata": {},
   "source": [
    "##  삽입/삭제 연산 과정"
   ]
  },
  {
   "cell_type": "markdown",
   "metadata": {},
   "source": [
    "자료가 삽입됨에 따라 top의 값 변동"
   ]
  },
  {
   "cell_type": "markdown",
   "metadata": {},
   "source": [
    "### push 알고리즘"
   ]
  },
  {
   "cell_type": "code",
   "execution_count": null,
   "metadata": {},
   "outputs": [],
   "source": [
    "def push(item):\n",
    "    s = []\n",
    "    s.append(item)"
   ]
  },
  {
   "cell_type": "markdown",
   "metadata": {},
   "source": [
    "### pop 알고리즘"
   ]
  },
  {
   "cell_type": "code",
   "execution_count": 1,
   "metadata": {},
   "outputs": [],
   "source": [
    "def pop():\n",
    "    if len(s) == 0:\n",
    "        #underflow\n",
    "        return\n",
    "    else:\n",
    "        return s.pop(-1)   # 마지막 위치 값 반환 후 삭제"
   ]
  },
  {
   "cell_type": "markdown",
   "metadata": {},
   "source": [
    "### 구현"
   ]
  },
  {
   "cell_type": "code",
   "execution_count": 2,
   "metadata": {},
   "outputs": [
    {
     "name": "stdout",
     "output_type": "stream",
     "text": [
      "pop item => 3\n",
      "pop item => 2\n",
      "pop item => 1\n"
     ]
    }
   ],
   "source": [
    "# 3개의 데이터 스택에 저장, 다시 3번 꺼내서 출력\n",
    "\n",
    "def push(item):\n",
    "    s.append(item)\n",
    "def pop():\n",
    "    if len(s) == 0:\n",
    "        print(\"Stack is Empty!!\") # underflow\n",
    "        return\n",
    "    else:\n",
    "        return s.pop(-1)\n",
    "s = []\n",
    "push(1)\n",
    "push(2)\n",
    "push(3)\n",
    "\n",
    "print(\"pop item =>\", pop())\n",
    "print(\"pop item =>\", pop())\n",
    "print(\"pop item =>\", pop())\n"
   ]
  },
  {
   "cell_type": "markdown",
   "metadata": {},
   "source": [
    "## Memoimzation"
   ]
  },
  {
   "cell_type": "markdown",
   "metadata": {},
   "source": [
    "컴퓨터 프로그램을 실행할 때 이전에 계산한 값을 메모리에 저장, 매번 다시 계산하지 않도록 하여 전체 실행 속도를 빠르게"
   ]
  },
  {
   "cell_type": "code",
   "execution_count": null,
   "metadata": {},
   "outputs": [],
   "source": [
    "# 피보나치 수열 구하는 함수\n",
    "def fobo(n):\n",
    "    if n < 2:\n",
    "        return n\n",
    "    else:\n",
    "        return fibo(n-1) + fibo(n-2)\n",
    "    \n",
    "# => 중복 계산이 많으므로 메모이제이션 활용"
   ]
  },
  {
   "cell_type": "code",
   "execution_count": null,
   "metadata": {},
   "outputs": [],
   "source": [
    "# fibo(n)의 값을 계산하자마자 저장하면 실행 시간을 줄일 수 있다.\n",
    "\n",
    "# memo를 위한 리스트 생성\n",
    "# memo[0]을 0으로, memo[1]은 1로 초기화\n",
    "\n",
    "def fibo1(n):\n",
    "    global memo\n",
    "    if n >= 2 and len(memo) <= n:\n",
    "        memo.append(fibo1(n-1)+fibo1(n-2))\n",
    "    return memo[n]\n",
    "\n",
    "memo = [0, 1]"
   ]
  },
  {
   "cell_type": "markdown",
   "metadata": {},
   "source": [
    "## DFS(깊이 우선 탐색)\n",
    "비선형구조인 그래프구조의 모든 자료를 빠짐없이 검색하는 방법 중 하나"
   ]
  },
  {
   "cell_type": "markdown",
   "metadata": {},
   "source": [
    "- 시작 정점의 한 방향으로 갈 수 있는 경로가 있는 곳까지 깊이 탐색\n",
    "- 더 이상 갈 곳이 없게 되면 가장 마지막에 만났던 갈림길 간선이 있는 정점으로 되돌아옴\n",
    "- 다른 방향의 정점으로 탐색을 계속 반복, 결국 모든 정점을 방문하여 순회\n",
    "- 가장 마지막에 만났던 갈림길의 정점으로 되돌아가서 다시 깊이 우선 탐색을 반복(후입선출 구조)"
   ]
  },
  {
   "cell_type": "markdown",
   "metadata": {},
   "source": [
    "```\n",
    "시작 정점 v를 결정하여 방문,\n",
    "정점 v에 인접한 정점 중에서\n",
    "```\n",
    "**방문하지 않은 정점 w가 있을 때**\n",
    "- 정점 v를 스택에 push, 정점 w를 방문\n",
    "- w를 v로 하여 다시 반복\n",
    "\n",
    "**방문하지 않은 정점이 없을 때**\n",
    "- 탐색의 방향을 바꾸기 위해 스택을 pop하여 받은 가장 마지막 방문 정점을 v로 하여 다시 반복\n"
   ]
  },
  {
   "cell_type": "code",
   "execution_count": null,
   "metadata": {},
   "outputs": [],
   "source": []
  },
  {
   "cell_type": "markdown",
   "metadata": {},
   "source": [
    "# 4869 종이붙이기"
   ]
  },
  {
   "cell_type": "markdown",
   "metadata": {},
   "source": [
    "- 20xN 크기의 직사각형을 테이프로 표시하고, 이 안에 준비한 종이를 빈틈없이 붙이는 방법\n",
    "- N: 10의 배수\n",
    "- 테이프로 만든 표시한 영역을 몇 개\n",
    "- 종이 크기 : 20X10, 20X20"
   ]
  },
  {
   "cell_type": "code",
   "execution_count": null,
   "metadata": {},
   "outputs": [],
   "source": [
    "T = int(input())\n",
    "\n",
    "for test_case in range(1, T+1):\n",
    "    N = int(input())\n",
    "    \n",
    "    # 전체 채울 공간\n",
    "    to_fill = 20 * N\n",
    "    \n",
    "    count = 0\n",
    "    if N % 20 == 0:\n",
    "        count += N // 20\n",
    "        \n",
    "    else:\n",
    "        \n",
    "    \n",
    "    "
   ]
  },
  {
   "cell_type": "code",
   "execution_count": 4,
   "metadata": {},
   "outputs": [
    {
     "name": "stdout",
     "output_type": "stream",
     "text": [
      "3\n",
      "30\n",
      "#1 5\n",
      "50\n",
      "#2 21\n",
      "70\n",
      "#3 85\n"
     ]
    }
   ],
   "source": [
    "def GetSome(x):\n",
    "    if x == N:\n",
    "        return 1\n",
    "    if x > N:\n",
    "        return 0\n",
    "    return GetSome(x+10) + GetSome(x+20) * 2\n",
    "\n",
    "\n",
    "TC = int(input())\n",
    "for tc in range(1, TC + 1):\n",
    "    N = int(input())\n",
    "    print('#%d %s'%(tc, GetSome(0)))"
   ]
  },
  {
   "cell_type": "markdown",
   "metadata": {
    "heading_collapsed": true
   },
   "source": [
    "# 괄호검사"
   ]
  },
  {
   "cell_type": "code",
   "execution_count": null,
   "metadata": {
    "hidden": true
   },
   "outputs": [],
   "source": [
    "T = int(input())\n",
    "\n",
    "for test_case in range(1, T+1):\n",
    "    t_c = input()"
   ]
  }
 ],
 "metadata": {
  "kernelspec": {
   "display_name": "Python 3",
   "language": "python",
   "name": "python3"
  },
  "language_info": {
   "codemirror_mode": {
    "name": "ipython",
    "version": 3
   },
   "file_extension": ".py",
   "mimetype": "text/x-python",
   "name": "python",
   "nbconvert_exporter": "python",
   "pygments_lexer": "ipython3",
   "version": "3.7.5"
  },
  "toc": {
   "base_numbering": 1,
   "nav_menu": {},
   "number_sections": true,
   "sideBar": true,
   "skip_h1_title": false,
   "title_cell": "Table of Contents",
   "title_sidebar": "Contents",
   "toc_cell": false,
   "toc_position": {},
   "toc_section_display": true,
   "toc_window_display": false
  },
  "varInspector": {
   "cols": {
    "lenName": 16,
    "lenType": 16,
    "lenVar": 40
   },
   "kernels_config": {
    "python": {
     "delete_cmd_postfix": "",
     "delete_cmd_prefix": "del ",
     "library": "var_list.py",
     "varRefreshCmd": "print(var_dic_list())"
    },
    "r": {
     "delete_cmd_postfix": ") ",
     "delete_cmd_prefix": "rm(",
     "library": "var_list.r",
     "varRefreshCmd": "cat(var_dic_list()) "
    }
   },
   "types_to_exclude": [
    "module",
    "function",
    "builtin_function_or_method",
    "instance",
    "_Feature"
   ],
   "window_display": false
  }
 },
 "nbformat": 4,
 "nbformat_minor": 2
}
