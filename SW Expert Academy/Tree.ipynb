{
 "cells": [
  {
   "cell_type": "markdown",
   "metadata": {},
   "source": [
    "# 이진트리 만들기"
   ]
  },
  {
   "cell_type": "code",
   "execution_count": 22,
   "metadata": {},
   "outputs": [],
   "source": [
    "class Node:\n",
    "    def __init__(self, data):\n",
    "        self.data = data\n",
    "        self.left = None\n",
    "        self.right = None"
   ]
  },
  {
   "cell_type": "code",
   "execution_count": 31,
   "metadata": {},
   "outputs": [],
   "source": [
    "def init_tree():\n",
    "        global root\n",
    "\n",
    "        new_node = Node(\"A\")\n",
    "        root = new_node\n",
    "\n",
    "        new_node = Node(\"B\")\n",
    "        root.left = new_node\n",
    "        new_node = Node(\"C\")\n",
    "        root.right = new_node\n",
    "\n",
    "        new_node_1 = Node(\"D\")\n",
    "        new_node_2 = Node(\"E\")\n",
    "        node = root.left\n",
    "        node.left = new_node_1\n",
    "        node.right = new_node_2\n",
    "\n",
    "        new_node_1 = Node(\"F\")\n",
    "        new_node_2 = Node(\"G\")\n",
    "        node = root.right\n",
    "\n",
    "        node.left = new_node_1\n",
    "        node.right = new_node_2\n",
    "        "
   ]
  },
  {
   "cell_type": "markdown",
   "metadata": {},
   "source": [
    "## 전위순회"
   ]
  },
  {
   "cell_type": "code",
   "execution_count": 35,
   "metadata": {},
   "outputs": [],
   "source": [
    "def preorder_traverse(node):   # node 입력되면 root -> 왼쪽 -> 오른쪽\n",
    "    if node == None: \n",
    "        return\n",
    "    print(node.data, end = '->')\n",
    "    preorder_traverse(node.left)\n",
    "    preorder_traverse(node.right)"
   ]
  },
  {
   "cell_type": "code",
   "execution_count": 36,
   "metadata": {},
   "outputs": [
    {
     "name": "stdout",
     "output_type": "stream",
     "text": [
      "A->B->D->E->C->F->G->"
     ]
    }
   ],
   "source": [
    "if __name__ == \"__main__\":\n",
    "    preorder_traverse(root)"
   ]
  },
  {
   "cell_type": "markdown",
   "metadata": {},
   "source": [
    "## 중위순회"
   ]
  },
  {
   "cell_type": "code",
   "execution_count": 37,
   "metadata": {},
   "outputs": [],
   "source": [
    "def inorder_traverse(node):    # 왼 -> root -> 오\n",
    "    if node == None:\n",
    "        return\n",
    "    inorder_traverse(node.left)\n",
    "    print(node.data, end = '->')    # print 위치에 따라 다르다\n",
    "    inorder_traverse(node.right)\n",
    "    "
   ]
  },
  {
   "cell_type": "code",
   "execution_count": 38,
   "metadata": {},
   "outputs": [
    {
     "name": "stdout",
     "output_type": "stream",
     "text": [
      "D->B->E->A->F->C->G->"
     ]
    }
   ],
   "source": [
    "if __name__ == \"__main__\":\n",
    "    inorder_traverse(root)"
   ]
  },
  {
   "cell_type": "markdown",
   "metadata": {},
   "source": [
    "## 후위순회"
   ]
  },
  {
   "cell_type": "code",
   "execution_count": 39,
   "metadata": {},
   "outputs": [
    {
     "name": "stdout",
     "output_type": "stream",
     "text": [
      "D->E->B->F->G->C->A->"
     ]
    }
   ],
   "source": [
    "def postorder_traverse(node):\n",
    "    if node == None: \n",
    "        return\n",
    "    postorder_traverse(node.left)\n",
    "    postorder_traverse(node.right)\n",
    "    print(node.data, end = '->')\n",
    "if __name__ == \"__main__\":\n",
    "    postorder_traverse(root)"
   ]
  },
  {
   "cell_type": "code",
   "execution_count": 40,
   "metadata": {},
   "outputs": [
    {
     "name": "stdout",
     "output_type": "stream",
     "text": [
      "A->B->D->E->C->F->G->\n",
      "\n",
      "----------------\n",
      "\n",
      "D->B->E->A->F->C->G->\n",
      "\n",
      "----------------\n",
      "\n",
      "D->E->B->F->G->C->A->"
     ]
    }
   ],
   "source": [
    "if __name__ == \"__main__\":\n",
    "    \n",
    "    preorder_traverse(root)\n",
    "    print(\"\\n\\n----------------\\n\")\n",
    "    inorder_traverse(root)\n",
    "    print(\"\\n\\n----------------\\n\")    \n",
    "    postorder_traverse(root)"
   ]
  },
  {
   "cell_type": "code",
   "execution_count": null,
   "metadata": {},
   "outputs": [],
   "source": []
  },
  {
   "cell_type": "markdown",
   "metadata": {},
   "source": [
    "# 5174 subtree\n",
    "노드 N을 루트로 하는 서브 트리에 속한 노드의 개수를 알아내는 프로그램"
   ]
  },
  {
   "cell_type": "markdown",
   "metadata": {},
   "source": [
    "첫 줄에 테스트케이스의 수 T가 주어진다. 1<=T<=50\n",
    "\n",
    "다음 줄부터 테스트 케이스의 별로 첫 줄에 간선의 개수 E와 N이 주어지고, 다음 줄에 E개의 부모 자식 노드 번호 쌍이 주어진다.\n",
    "\n",
    "노드 번호는 1번부터 E+1번까지 존재한다. 1<=E<=1000, 1<=N<=E+1"
   ]
  },
  {
   "cell_type": "code",
   "execution_count": 23,
   "metadata": {},
   "outputs": [
    {
     "name": "stdout",
     "output_type": "stream",
     "text": [
      "3\n",
      "5 1\n",
      "2 1 2 5 1 6 5 3 6 4\n",
      "#1 3\n",
      "5 1\n",
      "2 6 6 4 6 5 4 1 5 3\n",
      "#2 1\n",
      "10 5\n",
      "7 6 7 4 6 9 4 11 9 5 11 8 5 3 5 2 8 1 8 10\t\n",
      "#3 3\n"
     ]
    }
   ],
   "source": [
    "# n이 속한 서브트리의 간선 수 + 1 = 노드 개수\n",
    "\n",
    "def dfs(idx):\n",
    "    global count\n",
    "    # 자식 노드를 순회할 때마다 카운트\n",
    "    count += 1\n",
    "    for i in Tree[idx]:\n",
    "        dfs(i)\n",
    "\n",
    "\n",
    "T = int(input())\n",
    "\n",
    "for test_case in range(1, T+1):\n",
    "    E, N = map(int, input().split())\n",
    "    # 부모-자식 리스트\n",
    "    par_chi = list(map(int, input().split()))\n",
    "    \n",
    "    # 노드 숫자를 인덱스 번호에 대입할 수 있는 리스트 만들기\n",
    "    Tree = [[] for _ in range(E+2)]\n",
    "    for idx, i in enumerate(range(0, E*2, 2)):\n",
    "        par = int(par_chi[i])\n",
    "        chi = int(par_chi[i+1])\n",
    "        # 부모노드 숫자와 동일한 인덱스 넘버를 가진 위치의 리스트에 자식 노드 추가\n",
    "        Tree[par].append(chi)\n",
    "    count = 0\n",
    "    dfs(N)\n",
    "    \n",
    "    print(f'#{test_case} {count}')"
   ]
  },
  {
   "cell_type": "code",
   "execution_count": 6,
   "metadata": {},
   "outputs": [
    {
     "name": "stdout",
     "output_type": "stream",
     "text": [
      "1\n",
      "5 1\n",
      "2 6 6 4 6 5 4 1 5 3\n",
      "#1 1\n"
     ]
    }
   ],
   "source": [
    "# 다른 풀이\n",
    "class Node:\n",
    "    def __init__(self, data):\n",
    "        self.left = None\n",
    "        self.right = None\n",
    "        self.data = data\n",
    "        \n",
    "class Tree:\n",
    "    def __init__(self, cnt):\n",
    "        self.node_lst = [None]\n",
    "        for i in range(E + 1):\n",
    "            self.node_lst.append(Node(i))\n",
    "        \n",
    "    def put(self, parent, child):\n",
    "        if self.node_lst[parent].left == None:\n",
    "            self.node_lst[parent].left = self.node_lst[child]\n",
    "        else:\n",
    "            self.node_lst[parent].right = self.node_lst[child]\n",
    "            \n",
    "    def count(self, node):\n",
    "        self.cnt += 1\n",
    "        if node.left != None:\n",
    "            self.count(node.left)\n",
    "        if node.right != None:\n",
    "            self.count(node.right)\n",
    "        \n",
    "    \n",
    "    def my_result(self, num):\n",
    "        self.cnt = 0\n",
    "        self.count(self.node_lst[num])\n",
    "        return self.cnt\n",
    "\n",
    "T = int(input())\n",
    "for test_case in range(1, 1 + T):\n",
    "    E, N = map(int, input().split())\n",
    "    data = list(map(int, input().split()))\n",
    "    tree = Tree(E)\n",
    "    for i in range(E):\n",
    "        tree.put(data[2 * i], data[2 * i + 1])\n",
    "    print('#{} {}'.format(test_case, tree.my_result(N)))"
   ]
  },
  {
   "cell_type": "markdown",
   "metadata": {},
   "source": [
    "# 2176 이진탐색"
   ]
  },
  {
   "cell_type": "code",
   "execution_count": null,
   "metadata": {},
   "outputs": [],
   "source": [
    "# N: 노드 개수\n",
    "# 루트에 저장된 값, |N/2|번 노드에 저장된 값\n",
    "\n",
    "class Tree:\n",
    "    def __init__(self, N):\n",
    "        self.lst = [0] * (N + 1)\n",
    "        self.N = N\n",
    "        self.cnt = 1\n",
    "        self.numbering(1)\n",
    "    \n",
    "    def numbering(self, num):\n",
    "        if num <= N:\n",
    "            self.numbering(num * 2)\n",
    "            self.lst[num] = self.cnt\n",
    "            self.cnt += 1\n",
    "            self.numbering(num * 2 + 1)\n",
    "    \n",
    "    def my_result(self):\n",
    "        return ' '.join(map(str, (self.lst[1], self.lst[self.N // 2])))\n",
    "\n",
    "T = int(input())\n",
    "for test_case in range(1, T + 1):\n",
    "    N = int(input())\n",
    "    tree = Tree(N)\n",
    "    print('#{} {}'.format(test_case, tree.my_result()))"
   ]
  },
  {
   "cell_type": "markdown",
   "metadata": {},
   "source": [
    "# 5177 이진 힙"
   ]
  },
  {
   "cell_type": "code",
   "execution_count": null,
   "metadata": {},
   "outputs": [],
   "source": [
    "class Tree:\n",
    "    def __init__(self):\n",
    "        self.lst = [0]\n",
    "\n",
    "    def sort(self, num):\n",
    "        if num >= 2:\n",
    "            if self.lst[num] < self.lst[num//2]:\n",
    "                #자리 바꾸기\n",
    "                self.lst[num], self.lst[num//2] = self.lst[num//2], self.lst[num]\n",
    "                self.sort(num//2) # 계속 정렬\n",
    "\n",
    "    def append(self, data):\n",
    "        num = len(self.lst)\n",
    "        self.lst.append(data)\n",
    "        self.sort(num)\n",
    "\n",
    "    def my_sum(self, node):\n",
    "        if node <= 1:\n",
    "            return self.lst[node]\n",
    "        else:\n",
    "            return self.lst[node] + self.my_sum(node//2)\n",
    "\n",
    "    def my_result(self):\n",
    "        last = len(self.lst) - 1\n",
    "        self.sum = 0\n",
    "        if last >= 2:\n",
    "            return self.my_sum(last//2)\n",
    "        else:\n",
    "            return 0\n",
    "        \n",
    "\n",
    "T = int(input())\n",
    "for test_case in range(1, 1 + T):\n",
    "    N = int(input()) # 안씀\n",
    "    tree = Tree()\n",
    "    for i in map(int, input().split()):\n",
    "        tree.append(i)\n",
    "    print('#{} {}'.format(test_case, tree.my_result()))"
   ]
  },
  {
   "cell_type": "markdown",
   "metadata": {},
   "source": [
    "# 5178 노드의 합"
   ]
  },
  {
   "cell_type": "code",
   "execution_count": null,
   "metadata": {},
   "outputs": [],
   "source": [
    "class Tree:\n",
    "    def __init__(self, N):\n",
    "        self.lst = [0] * (N + 1)\n",
    "        self.N = N\n",
    "\n",
    "    def put(self, num1, num2): # leaf 입력\n",
    "        self.lst[num1] = num2\n",
    "    \n",
    "    def search_leaf(self, node):\n",
    "        if node * 2 > N: # leaf\n",
    "            self.sum += self.lst[node] # 누적 합\n",
    "        else: # branch\n",
    "            self.search_leaf(node * 2) # left 탐색\n",
    "            if node * 2 != N: # right 존재하면\n",
    "                self.search_leaf(node * 2 + 1) # right 탐색\n",
    "    \n",
    "    # 노드L의 자식들 중 leaf만 찾아 누적 합 리턴\n",
    "    def my_result(self, L):\n",
    "        self.sum = 0\n",
    "        self.search_leaf(L)\n",
    "        return self.sum\n",
    "\n",
    "T = int(input())\n",
    "for test_case in range(1, T + 1):\n",
    "    N, M, L = map(int, input().split())\n",
    "    tree = Tree(N)\n",
    "    for _ in range(M):\n",
    "        num1, num2 = map(int, input().split())\n",
    "        tree.put(num1, num2)\n",
    "    print('#{} {}'.format(test_case, tree.my_result(L)))"
   ]
  },
  {
   "cell_type": "code",
   "execution_count": null,
   "metadata": {},
   "outputs": [],
   "source": []
  },
  {
   "cell_type": "code",
   "execution_count": null,
   "metadata": {},
   "outputs": [],
   "source": []
  },
  {
   "cell_type": "code",
   "execution_count": null,
   "metadata": {},
   "outputs": [],
   "source": []
  },
  {
   "cell_type": "code",
   "execution_count": null,
   "metadata": {},
   "outputs": [],
   "source": []
  },
  {
   "cell_type": "code",
   "execution_count": null,
   "metadata": {},
   "outputs": [],
   "source": []
  },
  {
   "cell_type": "code",
   "execution_count": null,
   "metadata": {},
   "outputs": [],
   "source": []
  },
  {
   "cell_type": "code",
   "execution_count": null,
   "metadata": {},
   "outputs": [],
   "source": []
  },
  {
   "cell_type": "code",
   "execution_count": null,
   "metadata": {},
   "outputs": [],
   "source": []
  },
  {
   "cell_type": "code",
   "execution_count": null,
   "metadata": {},
   "outputs": [],
   "source": []
  },
  {
   "cell_type": "code",
   "execution_count": null,
   "metadata": {},
   "outputs": [],
   "source": []
  },
  {
   "cell_type": "code",
   "execution_count": null,
   "metadata": {},
   "outputs": [],
   "source": []
  }
 ],
 "metadata": {
  "kernelspec": {
   "display_name": "Python 3",
   "language": "python",
   "name": "python3"
  },
  "language_info": {
   "codemirror_mode": {
    "name": "ipython",
    "version": 3
   },
   "file_extension": ".py",
   "mimetype": "text/x-python",
   "name": "python",
   "nbconvert_exporter": "python",
   "pygments_lexer": "ipython3",
   "version": "3.7.7"
  },
  "toc": {
   "base_numbering": 1,
   "nav_menu": {},
   "number_sections": true,
   "sideBar": true,
   "skip_h1_title": false,
   "title_cell": "Table of Contents",
   "title_sidebar": "Contents",
   "toc_cell": false,
   "toc_position": {},
   "toc_section_display": true,
   "toc_window_display": false
  },
  "varInspector": {
   "cols": {
    "lenName": 16,
    "lenType": 16,
    "lenVar": 40
   },
   "kernels_config": {
    "python": {
     "delete_cmd_postfix": "",
     "delete_cmd_prefix": "del ",
     "library": "var_list.py",
     "varRefreshCmd": "print(var_dic_list())"
    },
    "r": {
     "delete_cmd_postfix": ") ",
     "delete_cmd_prefix": "rm(",
     "library": "var_list.r",
     "varRefreshCmd": "cat(var_dic_list()) "
    }
   },
   "types_to_exclude": [
    "module",
    "function",
    "builtin_function_or_method",
    "instance",
    "_Feature"
   ],
   "window_display": false
  }
 },
 "nbformat": 4,
 "nbformat_minor": 4
}
