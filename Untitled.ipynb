{
 "cells": [
  {
   "cell_type": "markdown",
   "metadata": {},
   "source": [
    "# 재귀함수\n",
    "- 재귀 함수를 설계할 때는 최소조건/탈출조건을 분명하게\n",
    "- 분할정복에 사용하기 위해서는 주러든 문제 조건을 표현할 Parameter"
   ]
  },
  {
   "cell_type": "markdown",
   "metadata": {},
   "source": [
    "## 예제: 하노이탑\n",
    "- 마지막 기둥으로 움직이기 위해서는 나머지 모든 것이 한 곳(중간)에 있어야 한다.\n",
    "- 그렇다면 N개 중 N-1개를 기둥 2에 보내는 것이 우선\n",
    "- N번째 기둥을 3번에 보내고\n",
    "- N-1개의 기둥을 다시 기둥 3에 보낸다.\n",
    "- 기둥 1에서 2로 보내는 과정과 2에서 3으로 보내는 과정은 사실 같다."
   ]
  },
  {
   "cell_type": "markdown",
   "metadata": {},
   "source": [
    "$$F(N) = 2 X F(N-1) + 1$$\n"
   ]
  },
  {
   "cell_type": "markdown",
   "metadata": {},
   "source": [
    "$$F(1) = 1$$"
   ]
  },
  {
   "cell_type": "code",
   "execution_count": null,
   "metadata": {},
   "outputs": [],
   "source": [
    "# 변수(기둥 시작, 끝, 판 개수)\n",
    "def hanoi(st, ed, ,sz): \n",
    "    # 재귀함수는 최저 조건을 먼저 명시해야한다.\n",
    "    if sz == 1:\n",
    "        return print(st, ed)\n",
    "    hanoi(st, 6-st-ed, sz-1)   # 기둥 3개일 때, 중간 기둥을 고를 수 있는 경우의 수는 6가지, 전체 경우에서 출발, 끝을 빼면 중간 기둥 수를 알 수 있다.\n",
    "    print(st, ed)\n",
    "    hanoi(6-st-ed, ed, sz-1)\n",
    "\n",
    "n = int(input())\n",
    "print(2**n-1)\n",
    "hanoi(1, 3, n)"
   ]
  }
 ],
 "metadata": {
  "kernelspec": {
   "display_name": "Python 3",
   "language": "python",
   "name": "python3"
  },
  "language_info": {
   "codemirror_mode": {
    "name": "ipython",
    "version": 3
   },
   "file_extension": ".py",
   "mimetype": "text/x-python",
   "name": "python",
   "nbconvert_exporter": "python",
   "pygments_lexer": "ipython3",
   "version": "3.7.5"
  },
  "toc": {
   "base_numbering": 1,
   "nav_menu": {},
   "number_sections": true,
   "sideBar": true,
   "skip_h1_title": false,
   "title_cell": "Table of Contents",
   "title_sidebar": "Contents",
   "toc_cell": false,
   "toc_position": {},
   "toc_section_display": true,
   "toc_window_display": false
  },
  "varInspector": {
   "cols": {
    "lenName": 16,
    "lenType": 16,
    "lenVar": 40
   },
   "kernels_config": {
    "python": {
     "delete_cmd_postfix": "",
     "delete_cmd_prefix": "del ",
     "library": "var_list.py",
     "varRefreshCmd": "print(var_dic_list())"
    },
    "r": {
     "delete_cmd_postfix": ") ",
     "delete_cmd_prefix": "rm(",
     "library": "var_list.r",
     "varRefreshCmd": "cat(var_dic_list()) "
    }
   },
   "types_to_exclude": [
    "module",
    "function",
    "builtin_function_or_method",
    "instance",
    "_Feature"
   ],
   "window_display": false
  }
 },
 "nbformat": 4,
 "nbformat_minor": 2
}
