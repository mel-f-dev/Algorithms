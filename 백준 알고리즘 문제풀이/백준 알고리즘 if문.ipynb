{
 "cells": [
  {
   "cell_type": "code",
   "execution_count": 1,
   "metadata": {},
   "outputs": [
    {
     "name": "stdout",
     "output_type": "stream",
     "text": [
      "3 4\n",
      "<\n"
     ]
    }
   ],
   "source": [
    "# 두 수 비교하기\n",
    "x = input(\"\").split(\" \")\n",
    "A = int(x[0])\n",
    "B = int(x[1])\n",
    "\n",
    "if A > B:\n",
    "    print(\">\")\n",
    "elif A < B:\n",
    "    print(\"<\")\n",
    "else:\n",
    "    print(\"==\")"
   ]
  },
  {
   "cell_type": "code",
   "execution_count": 2,
   "metadata": {},
   "outputs": [
    {
     "name": "stdout",
     "output_type": "stream",
     "text": [
      "40\n",
      "F\n"
     ]
    }
   ],
   "source": [
    "# 시험 점수를 입력받아 90 ~ 100점은 A, 80 ~ 89점은 B, 70 ~ 79점은 C, 60 ~ 69점은 D, 나머지 점수는 F를 출력하는 프로그램을 작성하시오.\n",
    "\n",
    "score = int(input(\"\"))\n",
    "if score >= 90:\n",
    "    print(\"A\")\n",
    "elif score >= 80:\n",
    "    print(\"B\")\n",
    "elif score >= 70:\n",
    "    print(\"C\")\n",
    "elif score >= 60:\n",
    "    print(\"D\")\n",
    "else:\n",
    "    print(\"F\")"
   ]
  },
  {
   "cell_type": "code",
   "execution_count": 7,
   "metadata": {},
   "outputs": [
    {
     "name": "stdout",
     "output_type": "stream",
     "text": [
      "2012\n",
      "1\n"
     ]
    }
   ],
   "source": [
    "# 윤년 1, 아니면 0\n",
    "# 연도가 4의 배수이면서 100의 배수가 아닐 때 또는 400의 배수일 때\n",
    "# 2012 윤년\n",
    "# 1900 윤년 X\n",
    "# 2000 윤년\n",
    "\n",
    "year = int(input())\n",
    "if (year % 4 == 0) and (year % 100 != 0 or year % 400 == 0):\n",
    "    print(1)\n",
    "else:\n",
    "    print(0)"
   ]
  },
  {
   "cell_type": "code",
   "execution_count": 33,
   "metadata": {
    "scrolled": true
   },
   "outputs": [
    {
     "name": "stdout",
     "output_type": "stream",
     "text": [
      "0 15\n",
      "23 30\n"
     ]
    }
   ],
   "source": [
    "# 0 <= H <= 23\n",
    "# 0 <= M <= 59\n",
    "# 시간을 나타낼 때, 불필요한 0은 사용하지 않는다.\n",
    "\n",
    "C = input().split(\" \")\n",
    "H = int(C[0])\n",
    "M = int(C[1])\n",
    "\n",
    "if H == 0:\n",
    "    H = 24\n",
    "if M < 45: \n",
    "    print(H-1, M+15)\n",
    "else:\n",
    "    print(H, M-45)"
   ]
  },
  {
   "cell_type": "code",
   "execution_count": 35,
   "metadata": {},
   "outputs": [
    {
     "name": "stdout",
     "output_type": "stream",
     "text": [
      "0 15\n",
      "23 30\n"
     ]
    }
   ],
   "source": [
    "H, M = list(map(int, input().split()))\n",
    "\n",
    "alarm = H * 60 + M - 45\n",
    "\n",
    "if(alarm < 0):\n",
    "        alarm = 23 * 60 + 60 + alarm\n",
    "\n",
    "alarm_H = alarm // 60\n",
    "alarm_M = alarm % 60\n",
    "\n",
    "print('%d %d' % (alarm_H, alarm_M))"
   ]
  },
  {
   "cell_type": "code",
   "execution_count": 4,
   "metadata": {},
   "outputs": [
    {
     "name": "stdout",
     "output_type": "stream",
     "text": [
      "30 30 10\n",
      "30\n"
     ]
    }
   ],
   "source": [
    "# 두 번째로 큰 정수\n",
    "\n",
    "X = A, B, C = list(map(int, input().split(\" \")))\n",
    "\n",
    "A = sorted(X)\n",
    "print(A[1])"
   ]
  },
  {
   "cell_type": "code",
   "execution_count": 9,
   "metadata": {},
   "outputs": [
    {
     "name": "stdout",
     "output_type": "stream",
     "text": [
      "30 20 10\n",
      "20\n"
     ]
    }
   ],
   "source": [
    "A, B, C = list(map(int, input().split(\" \")))\n",
    "\n",
    "Min = min(A, B, C)\n",
    "Max = max(A, B, C)\n",
    "\n",
    "print(A + B + C - Min - Max)"
   ]
  },
  {
   "cell_type": "code",
   "execution_count": null,
   "metadata": {},
   "outputs": [],
   "source": []
  }
 ],
 "metadata": {
  "kernelspec": {
   "display_name": "Python 3",
   "language": "python",
   "name": "python3"
  },
  "language_info": {
   "codemirror_mode": {
    "name": "ipython",
    "version": 3
   },
   "file_extension": ".py",
   "mimetype": "text/x-python",
   "name": "python",
   "nbconvert_exporter": "python",
   "pygments_lexer": "ipython3",
   "version": "3.7.4"
  }
 },
 "nbformat": 4,
 "nbformat_minor": 2
}
