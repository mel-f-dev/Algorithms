{
 "cells": [
  {
   "cell_type": "markdown",
   "metadata": {},
   "source": [
    "# 쿼드 트리 뒤집기"
   ]
  },
  {
   "cell_type": "markdown",
   "metadata": {},
   "source": [
    "쿼드 트리로 압축된 흑백 그림이 주어졌을 때, 이 그림을 상하로 뒤집은 그림을 쿼드 트리 압축해서 출력하는 프로그램을 작성하세요."
   ]
  },
  {
   "cell_type": "markdown",
   "metadata": {},
   "source": [
    "###### 시간 및 메모리 제한\n",
    "- 프로그램은 1초 안에 실행\n",
    "- 64MB 이하의 메모리 사용"
   ]
  },
  {
   "cell_type": "markdown",
   "metadata": {},
   "source": [
    "###### 입력\n",
    "- 테스트 케이스 개수 C\n",
    "- C줄에 하나씩 쿼드 트리로 압축한 그림이 주어진다.\n",
    "- 모든 문자열의 길이는 1000이하\n",
    "- 원본 그림 크기는 2<sup>20</sup> X 2<sup>20</sup>을 넘지 않는다."
   ]
  },
  {
   "cell_type": "markdown",
   "metadata": {},
   "source": [
    "###### 출력\n",
    "각 테스트 케이스당 한 줄에 주어진 그림을 상하로 뒤집은 결과를 쿼드 트리 압축해서 출력"
   ]
  },
  {
   "cell_type": "code",
   "execution_count": 8,
   "metadata": {
    "scrolled": true
   },
   "outputs": [
    {
     "name": "stdout",
     "output_type": "stream",
     "text": [
      "4\n",
      "w\n",
      "xbwwb\n",
      "xbwxwbbwb\n",
      "xxwwwbxwxwbbbwwxxxwwbbbwwwwbb\n"
     ]
    }
   ],
   "source": [
    "def decompressed(pic, i):\n",
    "    head = pic[i] \n",
    "    # 기저사례: 첫 글자가 b 또는 w인 경우\n",
    "    if head == 'w' or head == 'b':  \n",
    "        return head\n",
    "    \n",
    "    i += 1  \n",
    "    a = decompressed(pic, i)\n",
    "    \n",
    "    i += len(a)  \n",
    "    b = decompressed(pic, i)\n",
    "    \n",
    "    i += len(b)  \n",
    "    c = decompressed(pic, i)\n",
    "    \n",
    "    i += len(c)  \n",
    "    d = decompressed(pic, i)\n",
    "    \n",
    "    return 'x'+c+d+a+b\n",
    "\n",
    "C = int(input())\n",
    "for _ in range(C):\n",
    "    pic = input()\n",
    "    print(decompressed(pic, 0))"
   ]
  },
  {
   "cell_type": "markdown",
   "metadata": {},
   "source": [
    "# 울타리 잘라내기"
   ]
  },
  {
   "cell_type": "markdown",
   "metadata": {},
   "source": [
    "울타리를 구성하는 각 판자의 높이가 주어질 때, 잘라낼 수 있는 직사각형의 최대 크기를 계산하는 프로그램을 작성하세요."
   ]
  },
  {
   "cell_type": "markdown",
   "metadata": {},
   "source": [
    "###### 시간 및 메모리 제한\n",
    "- 1초 안에 실행\n",
    "- 64MB 이하"
   ]
  },
  {
   "cell_type": "markdown",
   "metadata": {},
   "source": [
    "###### 입력\n",
    "- 테스트 케이스 개수 C(C<50)\n",
    "- 각 테스트 케이스 첫 줄에는 판자의 수 N(1<= N <= 20000)\n",
    "- 그 다음 줄에는 N개의 정수로 왼쪽부터 각 판자의 높이가 순서대로\n",
    "- 높이는 모두 10000이하 자연수"
   ]
  },
  {
   "cell_type": "markdown",
   "metadata": {},
   "source": [
    "###### 출력\n",
    "- 각 테스트 케이스당 정수 하나를 한 줄에 출력\n",
    "- 주어진 울타리에서 잘라낼 수 있는 최대 직사각형의 크기"
   ]
  },
  {
   "cell_type": "code",
   "execution_count": 21,
   "metadata": {},
   "outputs": [
    {
     "name": "stdout",
     "output_type": "stream",
     "text": [
      "1\n",
      "7\n",
      "7 1 5 9 6 7 3\n",
      "[7, 1, 5, 9, 6, 7, 3]\n",
      "None 7\n"
     ]
    }
   ],
   "source": [
    "# 판자의 높이를 담은 배열 h[]가 주어질 때 사각형의 최대 너비를 반환\n",
    "\n",
    "C = int(input())\n",
    "\n",
    "\n",
    "\n",
    "def fence(h):\n",
    "    if (h[0] == h[-1]):\n",
    "        return h[0]\n",
    "    ret = 0\n",
    "    for left in range(N):\n",
    "        minHeight = h[left]\n",
    "        for right in range(N):\n",
    "            minHeight = min(minHeight, h[right])\n",
    "            ret = max(minHeight*(right-left+1), ret)\n",
    "    return ret\n",
    "            \n",
    "for _ in range(C):\n",
    "    N = int(input())\n",
    "    h = list(map(int, input().split()))\n",
    "    print(print(h), fence(h))    # 왜 None...?"
   ]
  },
  {
   "cell_type": "markdown",
   "metadata": {},
   "source": [
    "# 팬미팅"
   ]
  },
  {
   "cell_type": "markdown",
   "metadata": {},
   "source": [
    "하이퍼시니어의 모든 멤버가 동시에 포옹을 하는 일이 몇 번이나 있는지 계산하는 프로그램"
   ]
  },
  {
   "cell_type": "markdown",
   "metadata": {},
   "source": [
    "###### 시간 및 메모리 제한\n",
    "- 10초\n",
    "- 64MB"
   ]
  },
  {
   "cell_type": "markdown",
   "metadata": {},
   "source": [
    "###### 입력\n",
    "- 테스트 케이스 개수 C(C<20)\n",
    "- 각 테스트 케이스는 멤버들의 성별, 팬들의 성별을 각각 나타내는 두  줄의 문자열로 구성\n",
    "- 각 문자열은 ㅣ왼쪽부터 오른쪽 순서대로 각 사람들의 성별\n",
    "- F: 여자, M: 남자\n",
    "- 멤버 수와 팬의 수는 모두 1 이상 200000 이하의 정수\n",
    "- 멤버 수는 항상 팬의 수 이하"
   ]
  },
  {
   "cell_type": "markdown",
   "metadata": {},
   "source": [
    "###### 출력\n",
    "각 테스트 케이스마다 한 줄에 모든 멤버들이 포옹을 하는 일이 몇 번이나 있는지 출력"
   ]
  },
  {
   "cell_type": "code",
   "execution_count": null,
   "metadata": {},
   "outputs": [],
   "source": [
    "C = int(input())\n",
    "members = input()\n",
    "fans = input()\n",
    "N = len(members)\n",
    "M = len(fans)\n",
    "\n"
   ]
  }
 ],
 "metadata": {
  "kernelspec": {
   "display_name": "Python 3",
   "language": "python",
   "name": "python3"
  },
  "toc": {
   "base_numbering": 1,
   "nav_menu": {},
   "number_sections": true,
   "sideBar": true,
   "skip_h1_title": false,
   "title_cell": "Table of Contents",
   "title_sidebar": "Contents",
   "toc_cell": false,
   "toc_position": {},
   "toc_section_display": true,
   "toc_window_display": false
  },
  "varInspector": {
   "cols": {
    "lenName": 16,
    "lenType": 16,
    "lenVar": 40
   },
   "kernels_config": {
    "python": {
     "delete_cmd_postfix": "",
     "delete_cmd_prefix": "del ",
     "library": "var_list.py",
     "varRefreshCmd": "print(var_dic_list())"
    },
    "r": {
     "delete_cmd_postfix": ") ",
     "delete_cmd_prefix": "rm(",
     "library": "var_list.r",
     "varRefreshCmd": "cat(var_dic_list()) "
    }
   },
   "types_to_exclude": [
    "module",
    "function",
    "builtin_function_or_method",
    "instance",
    "_Feature"
   ],
   "window_display": false
  }
 },
 "nbformat": 4,
 "nbformat_minor": 2
}
