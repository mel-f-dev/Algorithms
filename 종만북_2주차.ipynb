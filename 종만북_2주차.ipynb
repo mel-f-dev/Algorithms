{
 "cells": [
  {
   "cell_type": "markdown",
   "metadata": {},
   "source": [
    "# 재귀 호출\n",
    "## 중첩 반복문 대체하기\n",
    "0번부터 차례대로 번호 매겨진 n개의 원소 중 네 개를 고르는 모든 경우 출력"
   ]
  },
  {
   "cell_type": "code",
   "execution_count": 3,
   "metadata": {},
   "outputs": [
    {
     "name": "stdout",
     "output_type": "stream",
     "text": [
      "7\n",
      "(0, 1, 2, 3)\n",
      "(0, 1, 2, 4)\n",
      "(0, 1, 2, 5)\n",
      "(0, 1, 2, 6)\n",
      "(0, 1, 3, 4)\n",
      "(0, 1, 3, 5)\n",
      "(0, 1, 3, 6)\n",
      "(0, 1, 4, 5)\n",
      "(0, 1, 4, 6)\n",
      "(0, 1, 5, 6)\n",
      "(0, 2, 3, 4)\n",
      "(0, 2, 3, 5)\n",
      "(0, 2, 3, 6)\n",
      "(0, 2, 4, 5)\n",
      "(0, 2, 4, 6)\n",
      "(0, 2, 5, 6)\n",
      "(0, 3, 4, 5)\n",
      "(0, 3, 4, 6)\n",
      "(0, 3, 5, 6)\n",
      "(0, 4, 5, 6)\n",
      "(1, 2, 3, 4)\n",
      "(1, 2, 3, 5)\n",
      "(1, 2, 3, 6)\n",
      "(1, 2, 4, 5)\n",
      "(1, 2, 4, 6)\n",
      "(1, 2, 5, 6)\n",
      "(1, 3, 4, 5)\n",
      "(1, 3, 4, 6)\n",
      "(1, 3, 5, 6)\n",
      "(1, 4, 5, 6)\n",
      "(2, 3, 4, 5)\n",
      "(2, 3, 4, 6)\n",
      "(2, 3, 5, 6)\n",
      "(2, 4, 5, 6)\n",
      "(3, 4, 5, 6)\n"
     ]
    }
   ],
   "source": [
    "n = int(input())\n",
    "\n",
    "for i in range(n):\n",
    "    for j in range(i+1, n):\n",
    "        for k in range(j+1, n):\n",
    "            for l in range(k+1, n):\n",
    "                print(\"(%d, %d, %d, %d)\" % (i, j, k, l))"
   ]
  },
  {
   "cell_type": "markdown",
   "metadata": {},
   "source": [
    "```\n",
    "=> 원소들의 총 개수\n",
    "=> 더 골라야 할 원소들의 개수\n",
    "=> 지금까지 고른 원소들의 번호\n",
    "```"
   ]
  },
  {
   "cell_type": "code",
   "execution_count": 19,
   "metadata": {},
   "outputs": [],
   "source": [
    "# 재귀 함수\n",
    "# 앞의 코드 조각에서 for문 하나만을 별도의 함수로 떼낸 것과 같다.\n",
    "\n",
    "\n",
    "# n개의 원소 중 m개를 고르는 모든 조합을 찾는 알고리즘\n",
    "\n",
    "# n: 전체 원소의 수\n",
    "# picked: 지금까지 고른 원소들의 번호\n",
    "# toPick: 더 고를 원소의 수\n",
    "# 앞으로 toPick개의 원소를 고르는 모든 방법을 출력\n",
    "\n",
    "# def pick(n):\n",
    "#     # 기저사례: 더 고를 원소가 없을 때 고른 원소들을 출력\n",
    "#     toPick = n\n",
    "#     picked = []\n",
    "#     if(toPick == 0):\n",
    "#         print(picked)\n",
    "#         return\n",
    "#     print(picked)\n",
    "#     # 고를 수 있는 가장 작은 번호를 계산\n",
    "#     if not picked:\n",
    "#         smallest = 0\n",
    "#         picked.append(smallest)\n",
    "#     smallest = max(picked) + 1\n",
    "#     # 이 단계에서 원소 하나를 고른다.\n",
    "#     for i in range(smallest, n):\n",
    "#         picked.append(i)\n",
    "#         toPick -= 1\n",
    "#         pick(n)\n",
    "#         picked.pop()\n",
    "        "
   ]
  },
  {
   "cell_type": "markdown",
   "metadata": {},
   "source": [
    "## 예제: 보글게임"
   ]
  },
  {
   "cell_type": "code",
   "execution_count": 33,
   "metadata": {},
   "outputs": [],
   "source": [
    " from IPython.display import Image "
   ]
  },
  {
   "cell_type": "markdown",
   "metadata": {},
   "source": [
    "보글(Boggle) 게임은 그림 (a)와 같은 5x5 크기의 알파벳 격자인\n",
    "게임판의 한 글자에서 시작해서 펜을 움직이면서 만나는 글자를 그 순서대로 나열하여 만들어지는 영어 단어를 찾아내는 게임입니다. 펜은 상하좌우, 혹은 대각선으로 인접한 칸으로 이동할 수 있으며 글자를 건너뛸 수는 없습니다. 지나간 글자를 다시 지나가는 것은 가능하지만, 펜을 이동하지않고 같은 글자를 여러번 쓸 수는 없습니다.\n",
    "\n",
    "예를 들어 그림의 (b), (c), (d)는 각각 (a)의 격자에서 PRETTY, GIRL, REPEAT을 찾아낸 결과를 보여줍니다.\n",
    "\n",
    "보글 게임판과 알고 있는 단어들의 목록이 주어질 때, 보글 게임판에서 **각 단어를 찾을 수 있는지 여부를 출력**하는 프로그램을 작성하세요."
   ]
  },
  {
   "cell_type": "markdown",
   "metadata": {},
   "source": [
    "![boggle](img/boggle.png)"
   ]
  },
  {
   "cell_type": "markdown",
   "metadata": {},
   "source": [
    "입력의 첫 줄에는 테스트 케이스의 수 C(C <= 50)가 주어집니다. 각 테스트 케이스의 첫 줄에는 각 5줄에 5글자로 보글 게임판이 주어집니다. 게임판의 모든 칸은 알파벳 대문자입니다.\n",
    "그 다음 줄에는 우리가 알고 있는 단어의 수 N(1 <= N <= 10)이 주어집니다. 그 후 N줄에는 한 줄에 하나씩 우리가 알고 있는 단어들이 주어집니다. 각 단어는 알파벳 대문자 1글자 이상 10글자 이하로 구성됩니다."
   ]
  },
  {
   "cell_type": "markdown",
   "metadata": {},
   "source": [
    "각 테스트 케이스마다 N줄을 출력합니다. 각 줄에는 알고 있는 단어를 입력에 주어진 순서대로 출력하고, 해당 단어를 찾을 수 있을 경우 YES, 아닐 경우 NO를 출력합니다."
   ]
  },
  {
   "cell_type": "markdown",
   "metadata": {},
   "source": [
    "# 풀이\n",
    "### hasWorld(y,x,word) => (y,x)에서 시작하는 단어 word의 존재 여부 반환\n",
    "### 문제의 분할\n",
    "- 각 글자를 하나의 조각으로\n",
    "- 함수 호출시 단어의 시작 위치를 지정하기 때문에 첫 번째 글자에 해당하는 조각을 간단히 해결 가능\n",
    "- 시작 위치에 쓰여 있는 글자가 단어의 첫 글자와 다르면 FALSE반환, 종료\n"
   ]
  },
  {
   "cell_type": "markdown",
   "metadata": {},
   "source": [
    "### 기저사례의 선택\n",
    "- 위치 (y,x)에 있는 글자가 원하는 단어의 첫 글자가 아닐 경우 항상 false\n",
    "- (1번에 해당하지 않을 경우) 원하는 단어가 한 글자인 경우 항상 성공"
   ]
  },
  {
   "cell_type": "markdown",
   "metadata": {},
   "source": [
    "### 구현\n",
    "hasWord() 처음에서 시작 위치의 범위와 첫글자 일치 여부를 확인하고 있으므로 for문 안에서 별도로 확인을 하지 않아도 된다."
   ]
  },
  {
   "cell_type": "code",
   "execution_count": null,
   "metadata": {},
   "outputs": [],
   "source": [
    "C = int(input())\n",
    "board = []\n",
    "for _ in range(1,6):\n",
    "    alphabet = input()\n",
    "    board.append(alphabet)\n",
    "N = int(input())\n",
    "for _ in range(N):\n",
    "    _ = input()\n",
    "\n",
    "    "
   ]
  },
  {
   "cell_type": "code",
   "execution_count": 24,
   "metadata": {},
   "outputs": [],
   "source": [
    "# xy 변화량\n",
    "xy = [(-1, 1), (0, 1), (1, 1),\n",
    "     (-1, 0),          (1, 0),\n",
    "     (-1, -1), (0, -1), (1, -1)]\n",
    "\n",
    "def hasWord(x, y, word):\n",
    "    # 기저사례1: 시작 위치가 범위 밖이면 무조건 실패\n",
    "    # 주어진 좌표가 맵 안에 있는가?\n",
    "    if (x<=0|x>5) & (y<=0|y>5):\n",
    "        return False\n",
    "    # 기저사례2: 첫 글자가 일치하지 않으면 실패\n",
    "    if board[x-1][y-1] != word[0] :\n",
    "        return False\n",
    "    # 기저사례3: 단어 길이가 1이면 성공\n",
    "    if len(word) == 1:\n",
    "    # 인접한 여덟 칸 검사\n",
    "        \n",
    "        \n",
    "    "
   ]
  },
  {
   "cell_type": "code",
   "execution_count": 25,
   "metadata": {},
   "outputs": [],
   "source": [
    "hasWord(1,1,'PARTY')"
   ]
  },
  {
   "cell_type": "code",
   "execution_count": 26,
   "metadata": {},
   "outputs": [
    {
     "ename": "ModuleNotFoundError",
     "evalue": "No module named 'given'",
     "output_type": "error",
     "traceback": [
      "\u001b[1;31m---------------------------------------------------------------------------\u001b[0m",
      "\u001b[1;31mModuleNotFoundError\u001b[0m                       Traceback (most recent call last)",
      "\u001b[1;32m<ipython-input-26-1d12532b2528>\u001b[0m in \u001b[0;36m<module>\u001b[1;34m\u001b[0m\n\u001b[1;32m----> 1\u001b[1;33m \u001b[1;32mfrom\u001b[0m \u001b[0mgiven\u001b[0m \u001b[1;32mimport\u001b[0m \u001b[0mget_words\u001b[0m\u001b[1;33m\u001b[0m\u001b[1;33m\u001b[0m\u001b[0m\n\u001b[0m\u001b[0;32m      2\u001b[0m \u001b[1;32mimport\u001b[0m \u001b[0mtime\u001b[0m\u001b[1;33m\u001b[0m\u001b[1;33m\u001b[0m\u001b[0m\n",
      "\u001b[1;31mModuleNotFoundError\u001b[0m: No module named 'given'"
     ]
    }
   ],
   "source": [
    "from given import get_words\n",
    "import time"
   ]
  },
  {
   "cell_type": "code",
   "execution_count": null,
   "metadata": {},
   "outputs": [],
   "source": []
  }
 ],
 "metadata": {
  "kernelspec": {
   "display_name": "Python 3",
   "language": "python",
   "name": "python3"
  },
  "language_info": {
   "codemirror_mode": {
    "name": "ipython",
    "version": 3
   },
   "file_extension": ".py",
   "mimetype": "text/x-python",
   "name": "python",
   "nbconvert_exporter": "python",
   "pygments_lexer": "ipython3",
   "version": "3.7.5"
  },
  "toc": {
   "base_numbering": 1,
   "nav_menu": {},
   "number_sections": true,
   "sideBar": true,
   "skip_h1_title": false,
   "title_cell": "Table of Contents",
   "title_sidebar": "Contents",
   "toc_cell": false,
   "toc_position": {},
   "toc_section_display": true,
   "toc_window_display": false
  },
  "varInspector": {
   "cols": {
    "lenName": 16,
    "lenType": 16,
    "lenVar": 40
   },
   "kernels_config": {
    "python": {
     "delete_cmd_postfix": "",
     "delete_cmd_prefix": "del ",
     "library": "var_list.py",
     "varRefreshCmd": "print(var_dic_list())"
    },
    "r": {
     "delete_cmd_postfix": ") ",
     "delete_cmd_prefix": "rm(",
     "library": "var_list.r",
     "varRefreshCmd": "cat(var_dic_list()) "
    }
   },
   "types_to_exclude": [
    "module",
    "function",
    "builtin_function_or_method",
    "instance",
    "_Feature"
   ],
   "window_display": false
  }
 },
 "nbformat": 4,
 "nbformat_minor": 2
}
