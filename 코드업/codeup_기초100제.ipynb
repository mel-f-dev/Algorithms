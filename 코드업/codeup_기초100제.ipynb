{
 "cells": [
  {
   "cell_type": "markdown",
   "metadata": {},
   "source": [
    "# 63 [기초-삼항연산] 두 정수 입력받아 큰 수 출력하기\n",
    "## 파이썬의 삼항연산자\n",
    "1. and, or 사용\n",
    "2. if, else 사용"
   ]
  },
  {
   "cell_type": "code",
   "execution_count": 10,
   "metadata": {},
   "outputs": [
    {
     "name": "stdout",
     "output_type": "stream",
     "text": [
      "3839 2389\n",
      "3839\n",
      "3839\n"
     ]
    }
   ],
   "source": [
    "a,b = map(int, input().split(\" \"))\n",
    "print(a>b and a or b)\n",
    "print(a if a>b else b)"
   ]
  },
  {
   "cell_type": "markdown",
   "metadata": {},
   "source": [
    "# 64 [기초-삼항연산] 정수 3개 입력받아 가장 작은 수 출력하기"
   ]
  },
  {
   "cell_type": "code",
   "execution_count": 15,
   "metadata": {},
   "outputs": [
    {
     "name": "stdout",
     "output_type": "stream",
     "text": [
      "1 2 3\n",
      "1\n"
     ]
    }
   ],
   "source": [
    "a, b, c = map(int, input().split(\" \"))\n",
    "\n",
    "Min = a < b and a or b\n",
    "Min = Min < c and Min or c\n",
    "print(Min)"
   ]
  },
  {
   "cell_type": "code",
   "execution_count": 16,
   "metadata": {},
   "outputs": [
    {
     "name": "stdout",
     "output_type": "stream",
     "text": [
      "1\n"
     ]
    }
   ],
   "source": [
    "Min = a if a < b else b\n",
    "Min = Min if Min < c else c\n",
    "print(Min)"
   ]
  },
  {
   "cell_type": "markdown",
   "metadata": {},
   "source": [
    "# 65 [기초-조건/선택실행구조] 정수 3개 입력받아 짝수만 출력하기"
   ]
  },
  {
   "cell_type": "code",
   "execution_count": 19,
   "metadata": {},
   "outputs": [
    {
     "name": "stdout",
     "output_type": "stream",
     "text": [
      "2 3 4\n",
      "2\n",
      "4\n"
     ]
    }
   ],
   "source": [
    "a, b, c = map(int, input().split(\" \"))\n",
    "\n",
    "x = [a, b, c]\n",
    "\n",
    "even_list = []\n",
    "for i in x :\n",
    "    if i % 2 == 0 :\n",
    "        even_list.append(i)\n",
    "        print(i)"
   ]
  },
  {
   "cell_type": "markdown",
   "metadata": {},
   "source": [
    "# 66 [기초-조건/선택실행구조] 정수 3개 입력받아 짝/홀 출력하기"
   ]
  },
  {
   "cell_type": "code",
   "execution_count": 23,
   "metadata": {},
   "outputs": [
    {
     "name": "stdout",
     "output_type": "stream",
     "text": [
      "1 2 8\n",
      "odd\n",
      "even\n",
      "even\n"
     ]
    }
   ],
   "source": [
    "a, b, c = map(int, input().split(\" \"))\n",
    "x = a, b, c\n",
    "for i in x : \n",
    "    if i % 2 == 0:\n",
    "        print(\"even\")\n",
    "    else:\n",
    "        print(\"odd\")"
   ]
  },
  {
   "cell_type": "markdown",
   "metadata": {},
   "source": [
    "# 67 [기초-조건/선택실행구조] 정수 1개 입력받아 분석하기\n",
    "첫 줄에 minus 나 plus 를 출력하고,\n",
    "두 번째 줄에 odd 나 even 을 출력한다."
   ]
  },
  {
   "cell_type": "code",
   "execution_count": 25,
   "metadata": {},
   "outputs": [
    {
     "name": "stdout",
     "output_type": "stream",
     "text": [
      "-2147483648\n",
      "minus\n",
      "even\n"
     ]
    }
   ],
   "source": [
    "n = int(input())\n",
    "\n",
    "if n > 0:\n",
    "    print(\"plus\")\n",
    "    if n % 2 == 0:\n",
    "        print(\"even\")\n",
    "    else:\n",
    "        print(\"odd\")\n",
    "else:\n",
    "    print(\"minus\")\n",
    "    if n % 2 == 0:\n",
    "        print(\"even\")\n",
    "    else:\n",
    "        print(\"odd\")"
   ]
  },
  {
   "cell_type": "code",
   "execution_count": 26,
   "metadata": {},
   "outputs": [
    {
     "name": "stdout",
     "output_type": "stream",
     "text": [
      "minus\n",
      "even\n"
     ]
    }
   ],
   "source": [
    "if n > 0:\n",
    "    print(\"plus\")\n",
    "    print(\"even\" if n % 2 == 0 else \"odd\")\n",
    "else:\n",
    "    print(\"minus\")\n",
    "    print(\"even\" if n % 2 == 0 else \"odd\")\n",
    "    \n",
    "# 코드가 짧다고 메모리, 시간이 줄어드는 것은 아니다."
   ]
  },
  {
   "cell_type": "markdown",
   "metadata": {},
   "source": [
    "# 68 [기초-조건/선택실행구조] 정수 1개 입력받아 평가 출력하기"
   ]
  },
  {
   "cell_type": "code",
   "execution_count": 27,
   "metadata": {},
   "outputs": [
    {
     "name": "stdout",
     "output_type": "stream",
     "text": [
      "73\n",
      "B\n"
     ]
    }
   ],
   "source": [
    "score = int(input())\n",
    "\n",
    "if score >= 90:\n",
    "    print(\"A\")\n",
    "elif score >= 70:\n",
    "    print(\"B\")\n",
    "elif score >= 40:\n",
    "    print(\"C\")\n",
    "elif score >= 0:\n",
    "    print(\"D\")"
   ]
  },
  {
   "cell_type": "markdown",
   "metadata": {},
   "source": [
    "# 69 [기초-조건/선택실행구조] 평가 입력받아 다르게 출력하기"
   ]
  },
  {
   "cell_type": "code",
   "execution_count": 28,
   "metadata": {},
   "outputs": [
    {
     "name": "stdout",
     "output_type": "stream",
     "text": [
      "A\n",
      "best!!!\n"
     ]
    }
   ],
   "source": [
    "score = input()\n",
    "\n",
    "if score ==\"A\":\n",
    "    print(\"best!!!\")\n",
    "elif score ==\"B\":\n",
    "    print(\"good!!\")\n",
    "elif score ==\"C\":\n",
    "    print(\"run!\")\n",
    "elif score ==\"D\":\n",
    "    print(\"slowly~\")\n",
    "else:\n",
    "    print(\"what?\")"
   ]
  },
  {
   "cell_type": "markdown",
   "metadata": {},
   "source": [
    "# 70 [기초-조건/선택실행구조] 월 입력받아 계절 출력하기"
   ]
  },
  {
   "cell_type": "code",
   "execution_count": 50,
   "metadata": {},
   "outputs": [
    {
     "name": "stdout",
     "output_type": "stream",
     "text": [
      "9\n",
      "fall\n"
     ]
    }
   ],
   "source": [
    "month = int(input())\n",
    "winter = [12, 1, 2]\n",
    "spring = [3, 4, 5]\n",
    "summer = [6, 7, 8]\n",
    "fall = [9, 10, 11]  \n",
    "\n",
    "if month in winter:\n",
    "    print(\"winter\")\n",
    "elif month in spring:\n",
    "    print(\"spring\")\n",
    "elif month in summer:\n",
    "    print(\"summer\")\n",
    "else:\n",
    "    print(\"fall\")"
   ]
  },
  {
   "cell_type": "code",
   "execution_count": null,
   "metadata": {},
   "outputs": [],
   "source": [
    "x=int(input())\n",
    "\n",
    "if x==12 or x==1 or x==2 :\n",
    "    print(\"winter\")\n",
    "elif x==3 or x==4 or x==5 :\n",
    "    print(\"spring\")\n",
    "elif x==6 or x==7 or x==8 :\n",
    "    print(\"summer\")\n",
    "elif x==9 or x==10 or x==11 :\n",
    "    print(\"fall\")"
   ]
  },
  {
   "cell_type": "markdown",
   "metadata": {},
   "source": [
    "# 71 [기초-반복실행구조] 0 입력될 때까지 무한 출력하기1"
   ]
  },
  {
   "cell_type": "code",
   "execution_count": 59,
   "metadata": {},
   "outputs": [
    {
     "name": "stdout",
     "output_type": "stream",
     "text": [
      "2\n",
      "2\n"
     ]
    }
   ],
   "source": [
    "a = input().split()\n",
    "b = map(int, a)\n",
    "\n",
    "for i in b:\n",
    "    if i == 0:\n",
    "        break\n",
    "    else:\n",
    "        print(i)"
   ]
  },
  {
   "cell_type": "code",
   "execution_count": 67,
   "metadata": {},
   "outputs": [
    {
     "name": "stdout",
     "output_type": "stream",
     "text": [
      "2\n",
      "2\n"
     ]
    }
   ],
   "source": [
    "a = input().split()\n",
    "\n",
    "for x in a:\n",
    "    print(x)\n",
    "    if int(x) == 0:\n",
    "        break"
   ]
  },
  {
   "cell_type": "code",
   "execution_count": 78,
   "metadata": {},
   "outputs": [
    {
     "name": "stdout",
     "output_type": "stream",
     "text": [
      "3 4 5 5\n",
      "['3', '4', '5', '5']\n"
     ]
    }
   ],
   "source": [
    "a = input().split()\n",
    "print(a)"
   ]
  },
  {
   "cell_type": "code",
   "execution_count": 69,
   "metadata": {},
   "outputs": [
    {
     "name": "stdout",
     "output_type": "stream",
     "text": [
      "2\n"
     ]
    }
   ],
   "source": [
    "a = input()"
   ]
  },
  {
   "cell_type": "code",
   "execution_count": 77,
   "metadata": {},
   "outputs": [
    {
     "name": "stdout",
     "output_type": "stream",
     "text": [
      "2 3 4 5\n",
      "[2, 3, 4, 5] <class 'list'>\n"
     ]
    }
   ],
   "source": [
    "a = input().split()\n",
    "b = list(map(int, a))\n",
    "print(b, type(b))"
   ]
  },
  {
   "cell_type": "markdown",
   "metadata": {},
   "source": [
    "# 72 [기초-반복실행구조] 정수 입력받아 계속 출력하기"
   ]
  },
  {
   "cell_type": "code",
   "execution_count": 28,
   "metadata": {},
   "outputs": [
    {
     "name": "stdout",
     "output_type": "stream",
     "text": [
      "5\n",
      "1 2 3 4 5\n",
      "1\n",
      "2\n",
      "3\n",
      "4\n",
      "5\n"
     ]
    }
   ],
   "source": [
    "n = int(input())\n",
    "a = input().split()\n",
    "for x in a:\n",
    "    print(x)"
   ]
  },
  {
   "cell_type": "markdown",
   "metadata": {},
   "source": [
    "# 73 [기초-반복실행구조] 0 입력될 때까지 무한 출력하기2"
   ]
  },
  {
   "cell_type": "code",
   "execution_count": 31,
   "metadata": {},
   "outputs": [
    {
     "name": "stdout",
     "output_type": "stream",
     "text": [
      "7 4 2 3 0 1 5 6 9 10 8\n",
      "7\n",
      "4\n",
      "2\n",
      "3\n"
     ]
    }
   ],
   "source": [
    "n_list = input().split()\n",
    "\n",
    "for x in n_list:\n",
    "    if int(x) != 0:\n",
    "        print(x)\n",
    "    else:\n",
    "        break"
   ]
  },
  {
   "cell_type": "markdown",
   "metadata": {},
   "source": [
    "# 74 [기초-반복실행구조] 정수 1개 입력받아 카운트다운 출력하기1"
   ]
  },
  {
   "cell_type": "code",
   "execution_count": 33,
   "metadata": {},
   "outputs": [
    {
     "name": "stdout",
     "output_type": "stream",
     "text": [
      "5\n",
      "5\n",
      "4\n",
      "3\n",
      "2\n",
      "1\n"
     ]
    }
   ],
   "source": [
    "n = int(input())\n",
    "\n",
    "while n >= 1:\n",
    "    print(n)\n",
    "    n -= 1"
   ]
  },
  {
   "cell_type": "markdown",
   "metadata": {},
   "source": [
    "# 75 [기초-반복실행구조] 정수 1개 입력받아 카운트다운 출력하기2"
   ]
  },
  {
   "cell_type": "code",
   "execution_count": 38,
   "metadata": {},
   "outputs": [
    {
     "name": "stdout",
     "output_type": "stream",
     "text": [
      "5\n",
      "4\n",
      "3\n",
      "2\n",
      "1\n",
      "0\n"
     ]
    }
   ],
   "source": [
    "n = int(input())\n",
    "\n",
    "while n >= 1:\n",
    "    print(n-1)\n",
    "    n -= 1"
   ]
  },
  {
   "cell_type": "code",
   "execution_count": 40,
   "metadata": {},
   "outputs": [
    {
     "name": "stdout",
     "output_type": "stream",
     "text": [
      "5\n",
      "4\n",
      "3\n",
      "2\n",
      "1\n",
      "0\n"
     ]
    }
   ],
   "source": [
    "a=input()\n",
    "\n",
    "n=int(a)\n",
    "\n",
    "while n>0 :\n",
    "    n-=1\n",
    "    print(n)"
   ]
  },
  {
   "cell_type": "markdown",
   "metadata": {},
   "source": [
    "# 76 [기초-반복실행구조] 문자 1개 입력받아 알파벳 출력하기"
   ]
  },
  {
   "cell_type": "markdown",
   "metadata": {},
   "source": [
    "- ord(문자): 아스키코드 반환\n",
    "- chr(숫자): 문자 반환"
   ]
  },
  {
   "cell_type": "code",
   "execution_count": 2,
   "metadata": {},
   "outputs": [
    {
     "name": "stdout",
     "output_type": "stream",
     "text": [
      "f\n",
      "a b c d e f "
     ]
    }
   ],
   "source": [
    "e = ord(input())\n",
    "s = ord('a')\n",
    "\n",
    "while s <= e:\n",
    "    print(chr(s), end=' ')\n",
    "    s += 1"
   ]
  },
  {
   "cell_type": "markdown",
   "metadata": {},
   "source": [
    "# 77 [기초-반복실행구조] 정수 1개 입력받아 그 수까지 출력하기"
   ]
  },
  {
   "cell_type": "code",
   "execution_count": 4,
   "metadata": {},
   "outputs": [
    {
     "name": "stdout",
     "output_type": "stream",
     "text": [
      "4\n",
      "0\n",
      "1\n",
      "2\n",
      "3\n",
      "4\n"
     ]
    }
   ],
   "source": [
    "n = int(input())\n",
    "\n",
    "for i in range(n+1):\n",
    "    print(i)"
   ]
  },
  {
   "cell_type": "markdown",
   "metadata": {},
   "source": [
    "# 78 [기초-종합] 짝수 합 구하기"
   ]
  },
  {
   "cell_type": "code",
   "execution_count": 8,
   "metadata": {},
   "outputs": [
    {
     "name": "stdout",
     "output_type": "stream",
     "text": [
      "5\n",
      "6\n"
     ]
    }
   ],
   "source": [
    "n = int(input())\n",
    "\n",
    "S = 0\n",
    "for i in range(n):\n",
    "    if (i+1) % 2 == 0:\n",
    "        S += (i+1)\n",
    "    else:\n",
    "        pass\n",
    "print(S)"
   ]
  },
  {
   "cell_type": "code",
   "execution_count": 9,
   "metadata": {},
   "outputs": [
    {
     "name": "stdout",
     "output_type": "stream",
     "text": [
      "5\n",
      "6\n"
     ]
    }
   ],
   "source": [
    "a=input()\n",
    "\n",
    "n=int(a)\n",
    "\n",
    "s=0\n",
    "for i in range(1, n+1) :\n",
    "    if(i%2==0) :\n",
    "        s+=i\n",
    "\n",
    "print(s)"
   ]
  },
  {
   "cell_type": "markdown",
   "metadata": {},
   "source": [
    "# 79 [기초-종합] 원하는 문자가 입력될 때까지 반복 출력하기"
   ]
  },
  {
   "cell_type": "code",
   "execution_count": 19,
   "metadata": {},
   "outputs": [
    {
     "name": "stdout",
     "output_type": "stream",
     "text": [
      "x b k d l q g a c\n",
      "x\n",
      "b\n",
      "k\n",
      "d\n",
      "l\n",
      "q\n"
     ]
    }
   ],
   "source": [
    "a = input().split()\n",
    "\n",
    "for i in a:\n",
    "    print(i)\n",
    "    if i == 'q':\n",
    "        break"
   ]
  },
  {
   "cell_type": "markdown",
   "metadata": {},
   "source": [
    "# 80 [기초-종합] 언제까지 더해야 할까?"
   ]
  },
  {
   "cell_type": "code",
   "execution_count": 27,
   "metadata": {},
   "outputs": [
    {
     "name": "stdout",
     "output_type": "stream",
     "text": [
      "55\n",
      "10\n"
     ]
    }
   ],
   "source": [
    "n = int(input())\n",
    "S = 0\n",
    "i = 0\n",
    "while S < n:\n",
    "    i += 1\n",
    "    S += i\n",
    "print(i)\n"
   ]
  },
  {
   "cell_type": "markdown",
   "metadata": {},
   "source": [
    "# 81 [기초-종합] 주사위를 2개 던지면?"
   ]
  },
  {
   "cell_type": "code",
   "execution_count": 1,
   "metadata": {},
   "outputs": [
    {
     "name": "stdout",
     "output_type": "stream",
     "text": [
      "2 3\n",
      "1 1\n",
      "1 2\n",
      "1 3\n",
      "2 1\n",
      "2 2\n",
      "2 3\n"
     ]
    }
   ],
   "source": [
    "n, m = map(int, input().split())\n",
    "\n",
    "for i in range(1, n+1):\n",
    "    for j in range(1, m+1):\n",
    "        print(i, j)"
   ]
  },
  {
   "cell_type": "markdown",
   "metadata": {},
   "source": [
    "# 82 [기초-종합] 16진수 구구단?"
   ]
  },
  {
   "cell_type": "markdown",
   "metadata": {},
   "source": [
    "16진수: hex()"
   ]
  },
  {
   "cell_type": "code",
   "execution_count": 6,
   "metadata": {},
   "outputs": [
    {
     "name": "stdout",
     "output_type": "stream",
     "text": [
      "1\n",
      "1\n"
     ]
    }
   ],
   "source": [
    "a = input()\n",
    "\n",
    "for i in range(1, 16):\n",
    "    result = '{0:x}'.format(int(a, 16) * i)\n",
    "    print(a + '*' + '{0:x}'.format(i).upper() + '=' + result.upper())"
   ]
  },
  {
   "cell_type": "code",
   "execution_count": 7,
   "metadata": {},
   "outputs": [
    {
     "name": "stdout",
     "output_type": "stream",
     "text": [
      "B\n",
      "B*1=B\n",
      "B*2=16\n",
      "B*3=21\n",
      "B*4=2C\n",
      "B*5=37\n",
      "B*6=42\n",
      "B*7=4D\n",
      "B*8=58\n",
      "B*9=63\n",
      "B*A=6E\n",
      "B*B=79\n",
      "B*C=84\n",
      "B*D=8F\n",
      "B*E=9A\n",
      "B*F=A5\n"
     ]
    }
   ],
   "source": [
    "a = input()\n",
    "b =int(a,16)\n",
    "for i in range(1,16) :\n",
    "    print(\"%s*%X=%X\"%(a,i,b*i))"
   ]
  },
  {
   "cell_type": "markdown",
   "metadata": {},
   "source": [
    "# 83 [기초-종합] 3 6 9 게임의 왕이 되자! "
   ]
  },
  {
   "cell_type": "code",
   "execution_count": 1,
   "metadata": {},
   "outputs": [
    {
     "name": "stdout",
     "output_type": "stream",
     "text": [
      "9\n",
      "1\n",
      "2\n",
      "X\n",
      "4\n",
      "5\n",
      "X\n",
      "7\n",
      "8\n",
      "X\n"
     ]
    }
   ],
   "source": [
    "n = int(input())\n",
    "\n",
    "for i in range(1, n+1):\n",
    "    if i % 3 == 0:\n",
    "        print(\"X\")\n",
    "    else:\n",
    "        print(i)"
   ]
  },
  {
   "cell_type": "markdown",
   "metadata": {},
   "source": [
    "# 84 [기초-종합] 빛 섞어 색 만들기"
   ]
  },
  {
   "cell_type": "code",
   "execution_count": 10,
   "metadata": {},
   "outputs": [
    {
     "name": "stdout",
     "output_type": "stream",
     "text": [
      "2 2 2\n",
      "0 0 0\n",
      "0 0 1\n",
      "0 1 0\n",
      "0 1 1\n",
      "1 0 0\n",
      "1 0 1\n",
      "1 1 0\n",
      "1 1 1\n",
      "8\n"
     ]
    }
   ],
   "source": [
    "# 시간초과 : 제출한 프로그램이 특정 입력에 대해 제한된 시간내에 끝나지 않은 경우를 뜻합니다.\n",
    "# 1. 무한 루프가 있지는 않나요? (예: while(1){ .. } )\n",
    "# 2. 중복으로 계산하는 부분이 있다면 배열을 활용하여 값을 저장하십시오.(메모이제이션 기법)\n",
    "# 3. O(N^2) 알고리즘(중첩 for)을 설계하셨다면 더 효율적인 O(N)(단일 for)이나 O(NlgN) 알고리즘으로 다시 설계하시기 바랍니다.\n",
    "  \n",
    "\n",
    "r, g, b = map(int, input().split())\n",
    "\n",
    "n = 0\n",
    "for i in range(r):\n",
    "    for j in range(g):\n",
    "        for k in range(b):\n",
    "            print(i, j, k)\n",
    "            n+=1\n",
    "print(n)"
   ]
  },
  {
   "cell_type": "code",
   "execution_count": 11,
   "metadata": {},
   "outputs": [
    {
     "name": "stdout",
     "output_type": "stream",
     "text": [
      "2 2 2\n",
      "0 0 0\n",
      "0 0 1\n",
      "0 1 0\n",
      "0 1 1\n",
      "1 0 0\n",
      "1 0 1\n",
      "1 1 0\n",
      "1 1 1\n",
      "8\n"
     ]
    }
   ],
   "source": [
    "r, g, b = map(int, input().split())\n",
    "n = 0\n",
    "for i in range(r):\n",
    "    for j in range(g):\n",
    "        for k in range(b):\n",
    "            print('%d %d %d' % (i, j, k))\n",
    "            n += 1\n",
    "print(n)"
   ]
  },
  {
   "cell_type": "code",
   "execution_count": 14,
   "metadata": {},
   "outputs": [
    {
     "name": "stdout",
     "output_type": "stream",
     "text": [
      "2 2 2\n",
      "0 0 0\n",
      "0 0 1\n",
      "0 1 0\n",
      "0 1 1\n",
      "1 0 0\n",
      "1 0 1\n",
      "1 1 0\n",
      "1 1 1\n",
      "8\n"
     ]
    }
   ],
   "source": [
    "r, g, b = input().split(\" \")\n",
    "r = int(r)\n",
    "g = int(g)\n",
    "b = int(b)\n",
    "\n",
    "n = 0\n",
    "for i in range(r):\n",
    "    for j in range(g):\n",
    "        for k in range(b):\n",
    "            print('%d %d %d' % (i, j, k))\n",
    "            n += 1\n",
    "print(n)"
   ]
  },
  {
   "cell_type": "markdown",
   "metadata": {},
   "source": [
    "# 85 [기초-종합] 소리 파일 저장용량 계산하기"
   ]
  },
  {
   "cell_type": "code",
   "execution_count": 6,
   "metadata": {},
   "outputs": [
    {
     "name": "stdout",
     "output_type": "stream",
     "text": [
      "44100 16 2 10\n",
      "1.7 MB\n"
     ]
    }
   ],
   "source": [
    "h, b, c, s = map(int, input().split())\n",
    "\n",
    "print('%.1f MB' % (h*b*c*s/(8*((2**10)**2))))"
   ]
  },
  {
   "cell_type": "markdown",
   "metadata": {},
   "source": [
    "# 86 [기초-종합] 그림 파일 저장용량 계산하기"
   ]
  },
  {
   "cell_type": "code",
   "execution_count": 9,
   "metadata": {},
   "outputs": [
    {
     "name": "stdout",
     "output_type": "stream",
     "text": [
      "1024 768 24\n",
      "2.25 MB\n"
     ]
    }
   ],
   "source": [
    "w, h, b = map(int, input().split())\n",
    "print('%.2f MB' % (w*h*b/(8*((2**10)**2))))"
   ]
  },
  {
   "cell_type": "markdown",
   "metadata": {},
   "source": [
    "# 87 [기초-종합] 여기까지! 이제 그만~"
   ]
  },
  {
   "cell_type": "code",
   "execution_count": 18,
   "metadata": {},
   "outputs": [
    {
     "name": "stdout",
     "output_type": "stream",
     "text": [
      "1\n",
      "1\n"
     ]
    }
   ],
   "source": [
    "n = int(input())\n",
    "S=0\n",
    "\n",
    "for i in range(1,n+1):\n",
    "    if n == 1:\n",
    "        print(1)\n",
    "    elif S >= n:\n",
    "        print(S)\n",
    "        break\n",
    "    else:\n",
    "        S += i"
   ]
  },
  {
   "cell_type": "markdown",
   "metadata": {},
   "source": [
    "# 88 [기초-종합] 3의 배수는 통과?"
   ]
  },
  {
   "cell_type": "code",
   "execution_count": 19,
   "metadata": {},
   "outputs": [
    {
     "name": "stdout",
     "output_type": "stream",
     "text": [
      "10\n",
      "1\n",
      "2\n",
      "4\n",
      "5\n",
      "7\n",
      "8\n",
      "10\n"
     ]
    }
   ],
   "source": [
    "n = int(input())\n",
    "\n",
    "for i in range(1, n+1):\n",
    "    if i % 3 == 0: \n",
    "        continue\n",
    "    else:\n",
    "        print(i)"
   ]
  },
  {
   "cell_type": "markdown",
   "metadata": {},
   "source": [
    "# 89 [기초-종합] 수 나열하기1"
   ]
  },
  {
   "cell_type": "code",
   "execution_count": 23,
   "metadata": {},
   "outputs": [
    {
     "name": "stdout",
     "output_type": "stream",
     "text": [
      "1 3 5\n",
      "13\n"
     ]
    }
   ],
   "source": [
    "a, d, n = map(int, input().split())\n",
    "for i in range(1, n+1):\n",
    "    S = a + d * (i - 1)\n",
    "    if i == n:\n",
    "        print(S)\n",
    "    else:\n",
    "        continue"
   ]
  },
  {
   "cell_type": "markdown",
   "metadata": {},
   "source": [
    "# 90 [기초-종합] 수 나열하기2"
   ]
  },
  {
   "cell_type": "code",
   "execution_count": 25,
   "metadata": {},
   "outputs": [
    {
     "name": "stdout",
     "output_type": "stream",
     "text": [
      "2 3 7\n",
      "1458\n"
     ]
    }
   ],
   "source": [
    "a, r, n = map(int, input().split())\n",
    "\n",
    "for i in range(1, n+1):\n",
    "    S = a*r**(i-1)\n",
    "    if i == n:\n",
    "        print(S)\n",
    "    else:\n",
    "        continue"
   ]
  },
  {
   "cell_type": "markdown",
   "metadata": {},
   "source": [
    "# 91 [기초-종합] 수 나열하기3"
   ]
  },
  {
   "cell_type": "code",
   "execution_count": 60,
   "metadata": {},
   "outputs": [
    {
     "name": "stdout",
     "output_type": "stream",
     "text": [
      "1 -2 1 8\n",
      "-85\n"
     ]
    }
   ],
   "source": [
    "a, m, d, n = map(int, input().split())\n",
    "S = a\n",
    "\n",
    "for i in range(1, n+1):\n",
    "    S = S*m+d\n",
    "    if n == 1:\n",
    "        print(a)\n",
    "    elif i == n-1:\n",
    "        print(S)\n",
    "    else:\n",
    "        continue"
   ]
  },
  {
   "cell_type": "markdown",
   "metadata": {},
   "source": [
    "# 92 [기초-종합] 함께 문제 푸는 날"
   ]
  },
  {
   "cell_type": "code",
   "execution_count": 67,
   "metadata": {},
   "outputs": [
    {
     "name": "stdout",
     "output_type": "stream",
     "text": [
      "3 7 9\n",
      "63\n"
     ]
    }
   ],
   "source": [
    "# 최소공배수\n",
    "\n",
    "a, b, c = map(int, input().split())\n",
    "day = 1\n",
    "while ((day % a != 0) | (day % b != 0) | (day % c != 0)):\n",
    "    day += 1\n",
    "    \n",
    "print(day)"
   ]
  },
  {
   "cell_type": "code",
   "execution_count": 69,
   "metadata": {},
   "outputs": [
    {
     "name": "stdout",
     "output_type": "stream",
     "text": [
      "3 7 9\n",
      "63\n"
     ]
    }
   ],
   "source": [
    "# 속도 훨씬 빠름\n",
    "a, b, c = map(int, input().split())\n",
    "day = 1\n",
    "while (day % a != 0 or day % b != 0 or day % c != 0):\n",
    "    day += 1\n",
    "    \n",
    "print(day)"
   ]
  },
  {
   "cell_type": "markdown",
   "metadata": {},
   "source": [
    "# 93 [기초-1차원배열] 이상한 출석 번호 부르기1"
   ]
  },
  {
   "cell_type": "code",
   "execution_count": 82,
   "metadata": {},
   "outputs": [
    {
     "name": "stdout",
     "output_type": "stream",
     "text": [
      "10\n",
      "1 3 2 2 5 6 7 4 5 9\n",
      "1 2 1 1 2 1 1 0 1 0 0 0 0 0 0 0 0 0 0 0 0 0 0 "
     ]
    }
   ],
   "source": [
    "n = int(input())\n",
    "l = input().split()\n",
    "for i in range(1, 24):\n",
    "    c = l.count(str(i))\n",
    "    print(c, end=' ')"
   ]
  },
  {
   "cell_type": "markdown",
   "metadata": {},
   "source": [
    "# 94 [기초-1차원배열] 이상한 출석 번호 부르기2"
   ]
  },
  {
   "cell_type": "code",
   "execution_count": null,
   "metadata": {},
   "outputs": [],
   "source": [
    "n = int(input())\n"
   ]
  }
 ],
 "metadata": {
  "kernelspec": {
   "display_name": "Python 3",
   "language": "python",
   "name": "python3"
  },
  "language_info": {
   "codemirror_mode": {
    "name": "ipython",
    "version": 3
   },
   "file_extension": ".py",
   "mimetype": "text/x-python",
   "name": "python",
   "nbconvert_exporter": "python",
   "pygments_lexer": "ipython3",
   "version": "3.7.5"
  },
  "toc": {
   "base_numbering": 1,
   "nav_menu": {},
   "number_sections": true,
   "sideBar": true,
   "skip_h1_title": false,
   "title_cell": "Table of Contents",
   "title_sidebar": "Contents",
   "toc_cell": false,
   "toc_position": {},
   "toc_section_display": true,
   "toc_window_display": false
  },
  "varInspector": {
   "cols": {
    "lenName": 16,
    "lenType": 16,
    "lenVar": 40
   },
   "kernels_config": {
    "python": {
     "delete_cmd_postfix": "",
     "delete_cmd_prefix": "del ",
     "library": "var_list.py",
     "varRefreshCmd": "print(var_dic_list())"
    },
    "r": {
     "delete_cmd_postfix": ") ",
     "delete_cmd_prefix": "rm(",
     "library": "var_list.r",
     "varRefreshCmd": "cat(var_dic_list()) "
    }
   },
   "types_to_exclude": [
    "module",
    "function",
    "builtin_function_or_method",
    "instance",
    "_Feature"
   ],
   "window_display": false
  }
 },
 "nbformat": 4,
 "nbformat_minor": 2
}
